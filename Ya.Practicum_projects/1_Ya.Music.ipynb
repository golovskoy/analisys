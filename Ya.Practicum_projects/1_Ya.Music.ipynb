{
 "cells": [
  {
   "cell_type": "markdown",
   "metadata": {
    "id": "VUC88oWjTJw2"
   },
   "source": [
    "\n",
    "# Исследование сервиса Яндекс.Музыка\n",
    "\n",
    "\n",
    "На данных Яндекс.Музыки сравним поведение пользователей двух столиц.\n",
    "\n",
    "**Цель исследования** — проверим три гипотезы:\n",
    "1. Активность пользователей зависит от дня недели. Причём в Москве и Петербурге это проявляется по-разному.\n",
    "2. В понедельник утром в Москве преобладают одни жанры, а в Петербурге — другие. Так же и вечером пятницы преобладают разные жанры — в зависимости от города. \n",
    "3. Москва и Петербург предпочитают разные жанры музыки. В Москве чаще слушают поп-музыку, в Петербурге — русский рэп.\n",
    "\n",
    "**Ход исследования**\n",
    "\n",
    " 1. Обзор данных.\n",
    " 2. Предобработка данных.\n",
    " 3. Проверка гипотез.\n",
    "\n"
   ]
  },
  {
   "cell_type": "markdown",
   "metadata": {
    "id": "Ml1hmfXC_Zcs"
   },
   "source": [
    "## Обзор данных\n",
    "\n",
    "Составим первое представление о данных Яндекс.Музыки.\n",
    "\n",
    "\n"
   ]
  },
  {
   "cell_type": "code",
   "execution_count": 1,
   "metadata": {
    "id": "AXN7PHPN_Zcs"
   },
   "outputs": [],
   "source": [
    "# импорт библиотеки pandas\n",
    "import pandas as pd "
   ]
  },
  {
   "cell_type": "code",
   "execution_count": 2,
   "metadata": {
    "id": "fFVu7vqh_Zct"
   },
   "outputs": [],
   "source": [
    "# чтение файла с данными и сохранение в df\n",
    "df = pd.read_csv('/datasets/yandex_music_project.csv') "
   ]
  },
  {
   "cell_type": "markdown",
   "metadata": {
    "id": "rDoOMd3uTqnZ"
   },
   "source": [
    "Выведем на экран первые десять строк таблицы:"
   ]
  },
  {
   "cell_type": "code",
   "execution_count": 3,
   "metadata": {
    "id": "oWTVX3gW_Zct"
   },
   "outputs": [
    {
     "data": {
      "text/html": [
       "<div>\n",
       "<style scoped>\n",
       "    .dataframe tbody tr th:only-of-type {\n",
       "        vertical-align: middle;\n",
       "    }\n",
       "\n",
       "    .dataframe tbody tr th {\n",
       "        vertical-align: top;\n",
       "    }\n",
       "\n",
       "    .dataframe thead th {\n",
       "        text-align: right;\n",
       "    }\n",
       "</style>\n",
       "<table border=\"1\" class=\"dataframe\">\n",
       "  <thead>\n",
       "    <tr style=\"text-align: right;\">\n",
       "      <th></th>\n",
       "      <th>userID</th>\n",
       "      <th>Track</th>\n",
       "      <th>artist</th>\n",
       "      <th>genre</th>\n",
       "      <th>City</th>\n",
       "      <th>time</th>\n",
       "      <th>Day</th>\n",
       "    </tr>\n",
       "  </thead>\n",
       "  <tbody>\n",
       "    <tr>\n",
       "      <td>0</td>\n",
       "      <td>FFB692EC</td>\n",
       "      <td>Kamigata To Boots</td>\n",
       "      <td>The Mass Missile</td>\n",
       "      <td>rock</td>\n",
       "      <td>Saint-Petersburg</td>\n",
       "      <td>20:28:33</td>\n",
       "      <td>Wednesday</td>\n",
       "    </tr>\n",
       "    <tr>\n",
       "      <td>1</td>\n",
       "      <td>55204538</td>\n",
       "      <td>Delayed Because of Accident</td>\n",
       "      <td>Andreas Rönnberg</td>\n",
       "      <td>rock</td>\n",
       "      <td>Moscow</td>\n",
       "      <td>14:07:09</td>\n",
       "      <td>Friday</td>\n",
       "    </tr>\n",
       "    <tr>\n",
       "      <td>2</td>\n",
       "      <td>20EC38</td>\n",
       "      <td>Funiculì funiculà</td>\n",
       "      <td>Mario Lanza</td>\n",
       "      <td>pop</td>\n",
       "      <td>Saint-Petersburg</td>\n",
       "      <td>20:58:07</td>\n",
       "      <td>Wednesday</td>\n",
       "    </tr>\n",
       "    <tr>\n",
       "      <td>3</td>\n",
       "      <td>A3DD03C9</td>\n",
       "      <td>Dragons in the Sunset</td>\n",
       "      <td>Fire + Ice</td>\n",
       "      <td>folk</td>\n",
       "      <td>Saint-Petersburg</td>\n",
       "      <td>08:37:09</td>\n",
       "      <td>Monday</td>\n",
       "    </tr>\n",
       "    <tr>\n",
       "      <td>4</td>\n",
       "      <td>E2DC1FAE</td>\n",
       "      <td>Soul People</td>\n",
       "      <td>Space Echo</td>\n",
       "      <td>dance</td>\n",
       "      <td>Moscow</td>\n",
       "      <td>08:34:34</td>\n",
       "      <td>Monday</td>\n",
       "    </tr>\n",
       "    <tr>\n",
       "      <td>5</td>\n",
       "      <td>842029A1</td>\n",
       "      <td>Преданная</td>\n",
       "      <td>IMPERVTOR</td>\n",
       "      <td>rusrap</td>\n",
       "      <td>Saint-Petersburg</td>\n",
       "      <td>13:09:41</td>\n",
       "      <td>Friday</td>\n",
       "    </tr>\n",
       "    <tr>\n",
       "      <td>6</td>\n",
       "      <td>4CB90AA5</td>\n",
       "      <td>True</td>\n",
       "      <td>Roman Messer</td>\n",
       "      <td>dance</td>\n",
       "      <td>Moscow</td>\n",
       "      <td>13:00:07</td>\n",
       "      <td>Wednesday</td>\n",
       "    </tr>\n",
       "    <tr>\n",
       "      <td>7</td>\n",
       "      <td>F03E1C1F</td>\n",
       "      <td>Feeling This Way</td>\n",
       "      <td>Polina Griffith</td>\n",
       "      <td>dance</td>\n",
       "      <td>Moscow</td>\n",
       "      <td>20:47:49</td>\n",
       "      <td>Wednesday</td>\n",
       "    </tr>\n",
       "    <tr>\n",
       "      <td>8</td>\n",
       "      <td>8FA1D3BE</td>\n",
       "      <td>И вновь продолжается бой</td>\n",
       "      <td>NaN</td>\n",
       "      <td>ruspop</td>\n",
       "      <td>Moscow</td>\n",
       "      <td>09:17:40</td>\n",
       "      <td>Friday</td>\n",
       "    </tr>\n",
       "    <tr>\n",
       "      <td>9</td>\n",
       "      <td>E772D5C0</td>\n",
       "      <td>Pessimist</td>\n",
       "      <td>NaN</td>\n",
       "      <td>dance</td>\n",
       "      <td>Saint-Petersburg</td>\n",
       "      <td>21:20:49</td>\n",
       "      <td>Wednesday</td>\n",
       "    </tr>\n",
       "  </tbody>\n",
       "</table>\n",
       "</div>"
      ],
      "text/plain": [
       "     userID                        Track            artist   genre  \\\n",
       "0  FFB692EC            Kamigata To Boots  The Mass Missile    rock   \n",
       "1  55204538  Delayed Because of Accident  Andreas Rönnberg    rock   \n",
       "2    20EC38            Funiculì funiculà       Mario Lanza     pop   \n",
       "3  A3DD03C9        Dragons in the Sunset        Fire + Ice    folk   \n",
       "4  E2DC1FAE                  Soul People        Space Echo   dance   \n",
       "5  842029A1                    Преданная         IMPERVTOR  rusrap   \n",
       "6  4CB90AA5                         True      Roman Messer   dance   \n",
       "7  F03E1C1F             Feeling This Way   Polina Griffith   dance   \n",
       "8  8FA1D3BE     И вновь продолжается бой               NaN  ruspop   \n",
       "9  E772D5C0                    Pessimist               NaN   dance   \n",
       "\n",
       "             City        time        Day  \n",
       "0  Saint-Petersburg  20:28:33  Wednesday  \n",
       "1            Moscow  14:07:09     Friday  \n",
       "2  Saint-Petersburg  20:58:07  Wednesday  \n",
       "3  Saint-Petersburg  08:37:09     Monday  \n",
       "4            Moscow  08:34:34     Monday  \n",
       "5  Saint-Petersburg  13:09:41     Friday  \n",
       "6            Moscow  13:00:07  Wednesday  \n",
       "7            Moscow  20:47:49  Wednesday  \n",
       "8            Moscow  09:17:40     Friday  \n",
       "9  Saint-Petersburg  21:20:49  Wednesday  "
      ]
     },
     "execution_count": 3,
     "metadata": {},
     "output_type": "execute_result"
    }
   ],
   "source": [
    "# получение первых 10 строк таблицы df\n",
    "df.head(10) "
   ]
  },
  {
   "cell_type": "code",
   "execution_count": 4,
   "metadata": {
    "id": "DSf2kIb-_Zct"
   },
   "outputs": [
    {
     "name": "stdout",
     "output_type": "stream",
     "text": [
      "<class 'pandas.core.frame.DataFrame'>\n",
      "RangeIndex: 65079 entries, 0 to 65078\n",
      "Data columns (total 7 columns):\n",
      "  userID    65079 non-null object\n",
      "Track       63848 non-null object\n",
      "artist      57876 non-null object\n",
      "genre       63881 non-null object\n",
      "  City      65079 non-null object\n",
      "time        65079 non-null object\n",
      "Day         65079 non-null object\n",
      "dtypes: object(7)\n",
      "memory usage: 3.5+ MB\n"
     ]
    }
   ],
   "source": [
    "# получение общей информации о данных в таблице df\n",
    "df.info() "
   ]
  },
  {
   "cell_type": "markdown",
   "metadata": {
    "id": "TaQ2Iwbr_Zct"
   },
   "source": [
    "\n",
    "В названиях колонок видны три нарушения стиля:\n",
    "1. Строчные буквы сочетаются с прописными.\n",
    "2. Встречаются пробелы.\n",
    "3. Найдите ещё одну проблему в названии колонок и опишите её в этом пункте.\n",
    "\n"
   ]
  },
  {
   "cell_type": "markdown",
   "metadata": {
    "id": "MCB6-dXG_Zct"
   },
   "source": [
    "**Выводы**\n",
    "\n",
    "В каждой строке таблицы — данные о прослушанном треке. Часть колонок описывает саму композицию: название, исполнителя и жанр. Остальные данные рассказывают о пользователе: из какого он города, когда он слушал музыку. \n",
    "\n",
    "Предварительно можно утверждать, что, данных достаточно для проверки гипотез. Но встречаются пропуски в данных, а в названиях колонок — расхождения с хорошим стилем.\n",
    "\n",
    "Чтобы двигаться дальше, нужно устранить проблемы в данных."
   ]
  },
  {
   "cell_type": "markdown",
   "metadata": {
    "id": "SjYF6Ub9_Zct"
   },
   "source": [
    "## Предобработка данных\n",
    "Исправим стиль в заголовках столбцов, исключим пропуски. Затем проверим данные на дубликаты."
   ]
  },
  {
   "cell_type": "markdown",
   "metadata": {
    "id": "dIaKXr29_Zct"
   },
   "source": [
    "### Стиль заголовков\n",
    "Переименуем названия столбцов:"
   ]
  },
  {
   "cell_type": "code",
   "execution_count": 6,
   "metadata": {
    "id": "ISlFqs5y_Zct"
   },
   "outputs": [],
   "source": [
    "df = df.rename(columns={'  userID':'user_id', 'Track':'track', '  City  ' :'city', 'Day' : 'day'})# переименование столбцов"
   ]
  },
  {
   "cell_type": "code",
   "execution_count": 7,
   "metadata": {
    "id": "d4NOAmTW_Zct"
   },
   "outputs": [
    {
     "data": {
      "text/plain": [
       "Index(['user_id', 'track', 'artist', 'genre', 'city', 'time', 'day'], dtype='object')"
      ]
     },
     "metadata": {},
     "output_type": "display_data"
    }
   ],
   "source": [
    "# проверка результатов - перечень названий столбцов\n",
    "display(df.columns) "
   ]
  },
  {
   "cell_type": "markdown",
   "metadata": {
    "id": "5ISfbcfY_Zct"
   },
   "source": [
    "### Пропуски значений\n",
    "Сначала посчитаем, сколько в таблице пропущенных значений. Для этого достаточно двух методов `pandas`:"
   ]
  },
  {
   "cell_type": "code",
   "execution_count": 8,
   "metadata": {
    "id": "RskX29qr_Zct"
   },
   "outputs": [
    {
     "data": {
      "text/plain": [
       "user_id       0\n",
       "track      1231\n",
       "artist     7203\n",
       "genre      1198\n",
       "city          0\n",
       "time          0\n",
       "day           0\n",
       "dtype: int64"
      ]
     },
     "metadata": {},
     "output_type": "display_data"
    }
   ],
   "source": [
    "display(df.isna().sum()) # подсчёт пропусков"
   ]
  },
  {
   "cell_type": "markdown",
   "metadata": {
    "id": "fSv2laPA_Zct"
   },
   "source": [
    "Заменим пропущенные значения в столбцах `track`, `artist` и `genre` на строку `'unknown'`. Для этого создадим список `columns_to_replace`, переберем его элементы циклом `for` и для каждого столбца выполним замену пропущенных значений:"
   ]
  },
  {
   "cell_type": "code",
   "execution_count": 9,
   "metadata": {
    "id": "KplB5qWs_Zct"
   },
   "outputs": [],
   "source": [
    "# перебор названий столбцов в цикле и замена пропущенных значений на 'unknown'\n",
    "columns_to_replace = ['track', 'artist', 'genre']\n",
    "for column in columns_to_replace:\n",
    "    df[column] = df[column].fillna('unknown') "
   ]
  },
  {
   "cell_type": "code",
   "execution_count": 10,
   "metadata": {
    "id": "Tq4nYRX4_Zct"
   },
   "outputs": [
    {
     "data": {
      "text/plain": [
       "user_id    0\n",
       "track      0\n",
       "artist     0\n",
       "genre      0\n",
       "city       0\n",
       "time       0\n",
       "day        0\n",
       "dtype: int64"
      ]
     },
     "metadata": {},
     "output_type": "display_data"
    }
   ],
   "source": [
    "# подсчёт пропусков\n",
    "display(df.isna().sum()) "
   ]
  },
  {
   "cell_type": "markdown",
   "metadata": {
    "id": "BWKRtBJ3_Zct"
   },
   "source": [
    "\n",
    "### Дубликаты\n",
    "Посчитаем явные дубликаты в таблице одной командой:"
   ]
  },
  {
   "cell_type": "code",
   "execution_count": 11,
   "metadata": {
    "id": "36eES_S0_Zct"
   },
   "outputs": [
    {
     "data": {
      "text/plain": [
       "3826"
      ]
     },
     "execution_count": 11,
     "metadata": {},
     "output_type": "execute_result"
    }
   ],
   "source": [
    "df.duplicated().sum() "
   ]
  },
  {
   "cell_type": "code",
   "execution_count": 12,
   "metadata": {
    "id": "exFHq6tt_Zct"
   },
   "outputs": [],
   "source": [
    "# удаление явных дубликатов (с удалением старых индексов и формированием новых)\n",
    "df = df.drop_duplicates().reset_index(drop=True) "
   ]
  },
  {
   "cell_type": "code",
   "execution_count": 13,
   "metadata": {
    "id": "-8PuNWQ0_Zct"
   },
   "outputs": [
    {
     "data": {
      "text/plain": [
       "0"
      ]
     },
     "execution_count": 13,
     "metadata": {},
     "output_type": "execute_result"
    }
   ],
   "source": [
    "df.duplicated().sum() # проверка на отсутствие дубликатов"
   ]
  },
  {
   "cell_type": "code",
   "execution_count": 14,
   "metadata": {
    "id": "JIUcqzZN_Zct"
   },
   "outputs": [
    {
     "data": {
      "text/plain": [
       "array(['acid', 'acoustic', 'action', 'adult', 'africa', 'afrikaans',\n",
       "       'alternative', 'alternativepunk', 'ambient', 'americana',\n",
       "       'animated', 'anime', 'arabesk', 'arabic', 'arena',\n",
       "       'argentinetango', 'art', 'audiobook', 'author', 'avantgarde',\n",
       "       'axé', 'baile', 'balkan', 'beats', 'bigroom', 'black', 'bluegrass',\n",
       "       'blues', 'bollywood', 'bossa', 'brazilian', 'breakbeat', 'breaks',\n",
       "       'broadway', 'cantautori', 'cantopop', 'canzone', 'caribbean',\n",
       "       'caucasian', 'celtic', 'chamber', 'chanson', 'children', 'chill',\n",
       "       'chinese', 'choral', 'christian', 'christmas', 'classical',\n",
       "       'classicmetal', 'club', 'colombian', 'comedy', 'conjazz',\n",
       "       'contemporary', 'country', 'cuban', 'dance', 'dancehall',\n",
       "       'dancepop', 'dark', 'death', 'deep', 'deutschrock', 'deutschspr',\n",
       "       'dirty', 'disco', 'dnb', 'documentary', 'downbeat', 'downtempo',\n",
       "       'drum', 'dub', 'dubstep', 'eastern', 'easy', 'electronic',\n",
       "       'electropop', 'emo', 'entehno', 'epicmetal', 'estrada', 'ethnic',\n",
       "       'eurofolk', 'european', 'experimental', 'extrememetal', 'fado',\n",
       "       'fairytail', 'film', 'fitness', 'flamenco', 'folk', 'folklore',\n",
       "       'folkmetal', 'folkrock', 'folktronica', 'forró', 'frankreich',\n",
       "       'französisch', 'french', 'funk', 'future', 'gangsta', 'garage',\n",
       "       'german', 'ghazal', 'gitarre', 'glitch', 'gospel', 'gothic',\n",
       "       'grime', 'grunge', 'gypsy', 'handsup', \"hard'n'heavy\", 'hardcore',\n",
       "       'hardstyle', 'hardtechno', 'hip', 'hip-hop', 'hiphop',\n",
       "       'historisch', 'holiday', 'hop', 'horror', 'house', 'hymn', 'idm',\n",
       "       'independent', 'indian', 'indie', 'indipop', 'industrial',\n",
       "       'inspirational', 'instrumental', 'international', 'irish', 'jam',\n",
       "       'japanese', 'jazz', 'jewish', 'jpop', 'jungle', 'k-pop',\n",
       "       'karadeniz', 'karaoke', 'kayokyoku', 'korean', 'laiko', 'latin',\n",
       "       'latino', 'leftfield', 'local', 'lounge', 'loungeelectronic',\n",
       "       'lovers', 'malaysian', 'mandopop', 'marschmusik', 'meditative',\n",
       "       'mediterranean', 'melodic', 'metal', 'metalcore', 'mexican',\n",
       "       'middle', 'minimal', 'miscellaneous', 'modern', 'mood', 'mpb',\n",
       "       'muslim', 'native', 'neoklassik', 'neue', 'new', 'newage',\n",
       "       'newwave', 'nu', 'nujazz', 'numetal', 'oceania', 'old', 'opera',\n",
       "       'orchestral', 'other', 'piano', 'podcasts', 'pop', 'popdance',\n",
       "       'popelectronic', 'popeurodance', 'poprussian', 'post',\n",
       "       'posthardcore', 'postrock', 'power', 'progmetal', 'progressive',\n",
       "       'psychedelic', 'punjabi', 'punk', 'quebecois', 'ragga', 'ram',\n",
       "       'rancheras', 'rap', 'rave', 'reggae', 'reggaeton', 'regional',\n",
       "       'relax', 'religious', 'retro', 'rhythm', 'rnb', 'rnr', 'rock',\n",
       "       'rockabilly', 'rockalternative', 'rockindie', 'rockother',\n",
       "       'romance', 'roots', 'ruspop', 'rusrap', 'rusrock', 'russian',\n",
       "       'salsa', 'samba', 'scenic', 'schlager', 'self', 'sertanejo',\n",
       "       'shanson', 'shoegazing', 'showtunes', 'singer', 'ska', 'skarock',\n",
       "       'slow', 'smooth', 'soft', 'soul', 'soulful', 'sound', 'soundtrack',\n",
       "       'southern', 'specialty', 'speech', 'spiritual', 'sport',\n",
       "       'stonerrock', 'surf', 'swing', 'synthpop', 'synthrock',\n",
       "       'sängerportrait', 'tango', 'tanzorchester', 'taraftar', 'tatar',\n",
       "       'tech', 'techno', 'teen', 'thrash', 'top', 'traditional',\n",
       "       'tradjazz', 'trance', 'tribal', 'trip', 'triphop', 'tropical',\n",
       "       'türk', 'türkçe', 'ukrrock', 'unknown', 'urban', 'uzbek',\n",
       "       'variété', 'vi', 'videogame', 'vocal', 'western', 'world',\n",
       "       'worldbeat', 'ïîï', 'электроника'], dtype=object)"
      ]
     },
     "execution_count": 14,
     "metadata": {},
     "output_type": "execute_result"
    }
   ],
   "source": [
    "# Просмотр уникальных названий жанров\n",
    "df['genre'].sort_values().unique() "
   ]
  },
  {
   "cell_type": "markdown",
   "metadata": {
    "id": "qej-Qmuo_Zct"
   },
   "source": [
    "Мы видим следующие неявные дубликаты:\n",
    "* *hip*,\n",
    "* *hop*,\n",
    "* *hip-hop*.\n",
    "\n",
    "Чтобы очистить от них таблицу, напишем функцию `replace_wrong_genres()` с двумя параметрами: \n",
    "* `wrong_genres` — список дубликатов,\n",
    "* `correct_genre` — строка с правильным значением.\n",
    "\n",
    "Функция должна исправить колонку `genre` в таблице `df`: заменить каждое значение из списка `wrong_genres` на значение из `correct_genre`."
   ]
  },
  {
   "cell_type": "code",
   "execution_count": 15,
   "metadata": {
    "id": "ErNDkmns_Zct"
   },
   "outputs": [],
   "source": [
    "# Функция для замены неявных дубликатов\n",
    "def replace_wrong_genres(wrong_genres, correct_genre): \n",
    "    for wrong_genre in wrong_genres: \n",
    "        df['genre'] = df['genre'].replace(wrong_genres, correct_genre) #вызываем метод replace\n",
    "\n"
   ]
  },
  {
   "cell_type": "markdown",
   "metadata": {
    "id": "aDoBJxbA_Zct"
   },
   "source": [
    " Вызовем `replace_wrong_genres()` и передадим ей такие аргументы, чтобы она устранила неявные дубликаты: вместо `hip`, `hop` и `hip-hop` в таблице должно быть значение `hiphop`:"
   ]
  },
  {
   "cell_type": "code",
   "execution_count": 16,
   "metadata": {
    "id": "YN5i2hpmSo09"
   },
   "outputs": [],
   "source": [
    "duplicates = ['hip', 'hop', 'hip-hop'] # список неявных дубликатов\n",
    "name = 'hiphop' # правильное имя\n",
    "replace_wrong_genres(duplicates, name) #вызываем функцию  Устранение неявных дубликатов"
   ]
  },
  {
   "cell_type": "code",
   "execution_count": 17,
   "metadata": {
    "id": "wvixALnFG15m"
   },
   "outputs": [
    {
     "data": {
      "text/plain": [
       "array(['acid', 'acoustic', 'action', 'adult', 'africa', 'afrikaans',\n",
       "       'alternative', 'alternativepunk', 'ambient', 'americana',\n",
       "       'animated', 'anime', 'arabesk', 'arabic', 'arena',\n",
       "       'argentinetango', 'art', 'audiobook', 'author', 'avantgarde',\n",
       "       'axé', 'baile', 'balkan', 'beats', 'bigroom', 'black', 'bluegrass',\n",
       "       'blues', 'bollywood', 'bossa', 'brazilian', 'breakbeat', 'breaks',\n",
       "       'broadway', 'cantautori', 'cantopop', 'canzone', 'caribbean',\n",
       "       'caucasian', 'celtic', 'chamber', 'chanson', 'children', 'chill',\n",
       "       'chinese', 'choral', 'christian', 'christmas', 'classical',\n",
       "       'classicmetal', 'club', 'colombian', 'comedy', 'conjazz',\n",
       "       'contemporary', 'country', 'cuban', 'dance', 'dancehall',\n",
       "       'dancepop', 'dark', 'death', 'deep', 'deutschrock', 'deutschspr',\n",
       "       'dirty', 'disco', 'dnb', 'documentary', 'downbeat', 'downtempo',\n",
       "       'drum', 'dub', 'dubstep', 'eastern', 'easy', 'electronic',\n",
       "       'electropop', 'emo', 'entehno', 'epicmetal', 'estrada', 'ethnic',\n",
       "       'eurofolk', 'european', 'experimental', 'extrememetal', 'fado',\n",
       "       'fairytail', 'film', 'fitness', 'flamenco', 'folk', 'folklore',\n",
       "       'folkmetal', 'folkrock', 'folktronica', 'forró', 'frankreich',\n",
       "       'französisch', 'french', 'funk', 'future', 'gangsta', 'garage',\n",
       "       'german', 'ghazal', 'gitarre', 'glitch', 'gospel', 'gothic',\n",
       "       'grime', 'grunge', 'gypsy', 'handsup', \"hard'n'heavy\", 'hardcore',\n",
       "       'hardstyle', 'hardtechno', 'hiphop', 'historisch', 'holiday',\n",
       "       'horror', 'house', 'hymn', 'idm', 'independent', 'indian', 'indie',\n",
       "       'indipop', 'industrial', 'inspirational', 'instrumental',\n",
       "       'international', 'irish', 'jam', 'japanese', 'jazz', 'jewish',\n",
       "       'jpop', 'jungle', 'k-pop', 'karadeniz', 'karaoke', 'kayokyoku',\n",
       "       'korean', 'laiko', 'latin', 'latino', 'leftfield', 'local',\n",
       "       'lounge', 'loungeelectronic', 'lovers', 'malaysian', 'mandopop',\n",
       "       'marschmusik', 'meditative', 'mediterranean', 'melodic', 'metal',\n",
       "       'metalcore', 'mexican', 'middle', 'minimal', 'miscellaneous',\n",
       "       'modern', 'mood', 'mpb', 'muslim', 'native', 'neoklassik', 'neue',\n",
       "       'new', 'newage', 'newwave', 'nu', 'nujazz', 'numetal', 'oceania',\n",
       "       'old', 'opera', 'orchestral', 'other', 'piano', 'podcasts', 'pop',\n",
       "       'popdance', 'popelectronic', 'popeurodance', 'poprussian', 'post',\n",
       "       'posthardcore', 'postrock', 'power', 'progmetal', 'progressive',\n",
       "       'psychedelic', 'punjabi', 'punk', 'quebecois', 'ragga', 'ram',\n",
       "       'rancheras', 'rap', 'rave', 'reggae', 'reggaeton', 'regional',\n",
       "       'relax', 'religious', 'retro', 'rhythm', 'rnb', 'rnr', 'rock',\n",
       "       'rockabilly', 'rockalternative', 'rockindie', 'rockother',\n",
       "       'romance', 'roots', 'ruspop', 'rusrap', 'rusrock', 'russian',\n",
       "       'salsa', 'samba', 'scenic', 'schlager', 'self', 'sertanejo',\n",
       "       'shanson', 'shoegazing', 'showtunes', 'singer', 'ska', 'skarock',\n",
       "       'slow', 'smooth', 'soft', 'soul', 'soulful', 'sound', 'soundtrack',\n",
       "       'southern', 'specialty', 'speech', 'spiritual', 'sport',\n",
       "       'stonerrock', 'surf', 'swing', 'synthpop', 'synthrock',\n",
       "       'sängerportrait', 'tango', 'tanzorchester', 'taraftar', 'tatar',\n",
       "       'tech', 'techno', 'teen', 'thrash', 'top', 'traditional',\n",
       "       'tradjazz', 'trance', 'tribal', 'trip', 'triphop', 'tropical',\n",
       "       'türk', 'türkçe', 'ukrrock', 'unknown', 'urban', 'uzbek',\n",
       "       'variété', 'vi', 'videogame', 'vocal', 'western', 'world',\n",
       "       'worldbeat', 'ïîï', 'электроника'], dtype=object)"
      ]
     },
     "execution_count": 17,
     "metadata": {},
     "output_type": "execute_result"
    }
   ],
   "source": [
    "df['genre'].sort_values().unique() # Проверка на неявные дубликаты"
   ]
  },
  {
   "cell_type": "markdown",
   "metadata": {
    "id": "WttZHXH0SqKk"
   },
   "source": [
    "## Проверка гипотез"
   ]
  },
  {
   "cell_type": "markdown",
   "metadata": {
    "id": "Im936VVi_Zcu"
   },
   "source": [
    "### Сравнение поведения пользователей двух столиц"
   ]
  },
  {
   "cell_type": "markdown",
   "metadata": {
    "id": "nwt_MuaL_Zcu"
   },
   "source": [
    "Первая гипотеза утверждает, что пользователи по-разному слушают музыку в Москве и Санкт-Петербурге. Проверим это предположение по данным о трёх днях недели — понедельнике, среде и пятнице. Для этого:\n",
    "\n",
    "* Разделим пользователей Москвы и Санкт-Петербурга\n",
    "* Сравним, сколько треков послушала каждая группа пользователей в понедельник, среду и пятницу.\n"
   ]
  },
  {
   "cell_type": "code",
   "execution_count": 18,
   "metadata": {
    "id": "0_Qs96oh_Zcu"
   },
   "outputs": [
    {
     "data": {
      "text/plain": [
       "city\n",
       "Moscow              42741\n",
       "Saint-Petersburg    18512\n",
       "Name: time, dtype: int64"
      ]
     },
     "execution_count": 18,
     "metadata": {},
     "output_type": "execute_result"
    }
   ],
   "source": [
    " # Подсчёт прослушиваний в каждом городе\n",
    "df.groupby('city')['time'].count()"
   ]
  },
  {
   "cell_type": "markdown",
   "metadata": {
    "id": "dzli3w8o_Zcu"
   },
   "source": [
    "\n",
    "В Москве прослушиваний больше, чем в Петербурге. Из этого не следует, что московские пользователи чаще слушают музыку. Просто самих пользователей в Москве больше.\n",
    "\n",
    "Теперь сгруппируем данные по дню недели и подсчитаем прослушивания в понедельник, среду и пятницу. \n"
   ]
  },
  {
   "cell_type": "code",
   "execution_count": 19,
   "metadata": {
    "id": "uZMKjiJz_Zcu"
   },
   "outputs": [
    {
     "data": {
      "text/plain": [
       "day\n",
       "Friday       21840\n",
       "Monday       21354\n",
       "Wednesday    18059\n",
       "Name: city, dtype: int64"
      ]
     },
     "execution_count": 19,
     "metadata": {},
     "output_type": "execute_result"
    }
   ],
   "source": [
    "df.groupby('day')[\"city\"].count() # Подсчёт прослушиваний в каждый из трёх дней"
   ]
  },
  {
   "cell_type": "markdown",
   "metadata": {
    "id": "cC2tNrlL_Zcu"
   },
   "source": [
    "В среднем пользователи из двух городов менее активны по средам. Но картина может измениться, если рассмотреть каждый город в отдельности."
   ]
  },
  {
   "cell_type": "markdown",
   "metadata": {
    "id": "POzs8bGa_Zcu"
   },
   "source": [
    "Создайте функцию `number_tracks()`, которая посчитает прослушивания для заданного дня и города. Ей понадобятся два параметра:\n",
    "* день недели,\n",
    "* название города.\n",
    "\n",
    "В функции сохраним в переменную строки исходной таблицы, у которых значение:\n",
    "  * в колонке `day` равно параметру `day`,\n",
    "  * в колонке `city` равно параметру `city`.\n",
    "\n",
    "Для этого применим последовательную фильтрацию с логической индексацией.\n",
    "\n",
    "Затем посчитаем значения в столбце `user_id` получившейся таблицы. Результат сохраним в новую переменную. Вернем эту переменную из функции."
   ]
  },
  {
   "cell_type": "code",
   "execution_count": 20,
   "metadata": {
    "id": "Nz3GdQB1_Zcu"
   },
   "outputs": [
    {
     "data": {
      "text/plain": [
       "15945"
      ]
     },
     "execution_count": 20,
     "metadata": {},
     "output_type": "execute_result"
    }
   ],
   "source": [
    "# В переменной track_list сохраняются те строки таблицы df, для которых \n",
    "# значение в столбце 'day' равно параметру day и одновременно значение\n",
    "# в столбце 'city' равно параметру city.\n",
    "# В переменной track_list_count сохраняется число значений столбца 'user_id'.\n",
    "# Функция возвращает число - значение track_list_count.\n",
    "\n",
    "def number_tracks(day, city): # <создание функции number_tracks()># Объявляется функция с двумя параметрами: day, city.\n",
    "    track_list = df[df['day'] == day] \n",
    "    track_list = track_list[track_list['city'] == city]\n",
    "    track_list_count = track_list['user_id'].count()\n",
    "    return track_list_count\n",
    "number_tracks('Friday', 'Moscow')\n",
    "\n"
   ]
  },
  {
   "cell_type": "code",
   "execution_count": 21,
   "metadata": {
    "id": "rJcRATNQ_Zcu"
   },
   "outputs": [
    {
     "data": {
      "text/plain": [
       "15740"
      ]
     },
     "execution_count": 21,
     "metadata": {},
     "output_type": "execute_result"
    }
   ],
   "source": [
    "number_tracks('Monday', 'Moscow') # количество прослушиваний в Москве по понедельникам"
   ]
  },
  {
   "cell_type": "code",
   "execution_count": 22,
   "metadata": {
    "id": "hq_ncZ5T_Zcu"
   },
   "outputs": [
    {
     "data": {
      "text/plain": [
       "5614"
      ]
     },
     "execution_count": 22,
     "metadata": {},
     "output_type": "execute_result"
    }
   ],
   "source": [
    "number_tracks('Monday', 'Saint-Petersburg') # количество прослушиваний в Санкт-Петербурге по понедельникам"
   ]
  },
  {
   "cell_type": "code",
   "execution_count": 23,
   "metadata": {
    "id": "_NTy2VPU_Zcu"
   },
   "outputs": [
    {
     "data": {
      "text/plain": [
       "11056"
      ]
     },
     "execution_count": 23,
     "metadata": {},
     "output_type": "execute_result"
    }
   ],
   "source": [
    "number_tracks('Wednesday', 'Moscow') # количество прослушиваний в Москве по средам"
   ]
  },
  {
   "cell_type": "code",
   "execution_count": 24,
   "metadata": {
    "id": "j2y3TAwo_Zcu"
   },
   "outputs": [
    {
     "data": {
      "text/plain": [
       "7003"
      ]
     },
     "execution_count": 24,
     "metadata": {},
     "output_type": "execute_result"
    }
   ],
   "source": [
    "number_tracks('Wednesday', 'Saint-Petersburg') # количество прослушиваний в Санкт-Петербурге по средам"
   ]
  },
  {
   "cell_type": "code",
   "execution_count": 25,
   "metadata": {
    "id": "vYDw5u_K_Zcu"
   },
   "outputs": [
    {
     "data": {
      "text/plain": [
       "15945"
      ]
     },
     "execution_count": 25,
     "metadata": {},
     "output_type": "execute_result"
    }
   ],
   "source": [
    "number_tracks('Friday', 'Moscow') # количество прослушиваний в Москве по пятницам"
   ]
  },
  {
   "cell_type": "code",
   "execution_count": 26,
   "metadata": {
    "id": "8_yzFtW3_Zcu"
   },
   "outputs": [
    {
     "data": {
      "text/plain": [
       "5895"
      ]
     },
     "execution_count": 26,
     "metadata": {},
     "output_type": "execute_result"
    }
   ],
   "source": [
    "number_tracks('Friday', 'Saint-Petersburg') # количество прослушиваний в Санкт-Петербурге по пятницам"
   ]
  },
  {
   "cell_type": "markdown",
   "metadata": {
    "id": "7QXffbO-_Zcu"
   },
   "source": [
    "Создадим c помощью конструктора `pd.DataFrame` таблицу, где\n",
    "* названия колонок — `['city', 'monday', 'wednesday', 'friday']`;\n",
    "* данные — результаты, которые получили с помощью `number_tracks`."
   ]
  },
  {
   "cell_type": "code",
   "execution_count": 27,
   "metadata": {
    "id": "APAcLpOr_Zcu"
   },
   "outputs": [
    {
     "data": {
      "text/html": [
       "<div>\n",
       "<style scoped>\n",
       "    .dataframe tbody tr th:only-of-type {\n",
       "        vertical-align: middle;\n",
       "    }\n",
       "\n",
       "    .dataframe tbody tr th {\n",
       "        vertical-align: top;\n",
       "    }\n",
       "\n",
       "    .dataframe thead th {\n",
       "        text-align: right;\n",
       "    }\n",
       "</style>\n",
       "<table border=\"1\" class=\"dataframe\">\n",
       "  <thead>\n",
       "    <tr style=\"text-align: right;\">\n",
       "      <th></th>\n",
       "      <th>city</th>\n",
       "      <th>monday</th>\n",
       "      <th>wednesday</th>\n",
       "      <th>friday</th>\n",
       "    </tr>\n",
       "  </thead>\n",
       "  <tbody>\n",
       "    <tr>\n",
       "      <td>0</td>\n",
       "      <td>Moscow</td>\n",
       "      <td>16715</td>\n",
       "      <td>11755</td>\n",
       "      <td>16890</td>\n",
       "    </tr>\n",
       "    <tr>\n",
       "      <td>1</td>\n",
       "      <td>Saint-Petersburg</td>\n",
       "      <td>5982</td>\n",
       "      <td>7478</td>\n",
       "      <td>6259</td>\n",
       "    </tr>\n",
       "  </tbody>\n",
       "</table>\n",
       "</div>"
      ],
      "text/plain": [
       "               city  monday  wednesday  friday\n",
       "0            Moscow   16715      11755   16890\n",
       "1  Saint-Petersburg    5982       7478    6259"
      ]
     },
     "execution_count": 27,
     "metadata": {},
     "output_type": "execute_result"
    }
   ],
   "source": [
    "number_tracks = [['Moscow', 16715, 11755, 16890], ['Saint-Petersburg', 5982, 7478, 6259]] \n",
    "columns = ['city', 'monday', 'wednesday', 'friday']\n",
    "pd.DataFrame(data = number_tracks, columns = columns) # Таблица с результатами"
   ]
  },
  {
   "cell_type": "markdown",
   "metadata": {
    "id": "-EgPIHYu_Zcu"
   },
   "source": [
    "**Выводы**\n",
    "\n",
    "Данные показывают разницу поведения пользователей:\n",
    "\n",
    "- В Москве пик прослушиваний приходится на понедельник и пятницу, а в среду заметен спад.\n",
    "- В Петербурге, наоборот, больше слушают музыку по средам. Активность в понедельник и пятницу здесь почти в равной мере уступает среде.\n",
    "\n",
    "Значит, данные говорят в пользу первой гипотезы."
   ]
  },
  {
   "cell_type": "markdown",
   "metadata": {
    "id": "atZAxtq4_Zcu"
   },
   "source": [
    "### Музыка в начале и в конце недели"
   ]
  },
  {
   "cell_type": "markdown",
   "metadata": {
    "id": "eXrQqXFH_Zcu"
   },
   "source": [
    "Согласно второй гипотезе, утром в понедельник в Москве преобладают одни жанры, а в Петербурге — другие. Так же и вечером пятницы преобладают разные жанры — в зависимости от города."
   ]
  },
  {
   "cell_type": "markdown",
   "metadata": {
    "id": "S8UcW6Hw_Zcu"
   },
   "source": [
    "Сохраним таблицы с данными в две переменные:\n",
    "* по Москве — в `moscow_general`;\n",
    "* по Санкт-Петербургу — в `spb_general`."
   ]
  },
  {
   "cell_type": "code",
   "execution_count": 28,
   "metadata": {
    "id": "qeaFfM_P_Zcu"
   },
   "outputs": [],
   "source": [
    "moscow_general = df[df['city'] == 'Moscow'] # получение таблицы moscow_general из тех строк таблицы df, \n",
    "# для которых значение в столбце 'city' равно 'Moscow'\n",
    "\n"
   ]
  },
  {
   "cell_type": "code",
   "execution_count": 29,
   "metadata": {
    "id": "ORaVRKto_Zcu"
   },
   "outputs": [],
   "source": [
    "spb_general = df[df['city'] == 'Saint-Petersburg'] \n",
    "# получение таблицы spb_general из тех строк таблицы df,\n",
    "# для которых значение в столбце 'city' равно 'Saint-Petersburg'\n"
   ]
  },
  {
   "cell_type": "markdown",
   "metadata": {
    "id": "MEJV-CX2_Zcu"
   },
   "source": [
    " Создадим функцию `genre_weekday()` с четырьмя параметрами:\n",
    "* таблица (датафрейм) с данными,\n",
    "* день недели,\n",
    "* начальная временная метка в формате 'hh:mm', \n",
    "* последняя временная метка в формате 'hh:mm'.\n",
    "\n",
    "Функция должна вернуть информацию о топ-10 жанров тех треков, которые прослушивали в указанный день, в промежутке между двумя отметками времени."
   ]
  },
  {
   "cell_type": "code",
   "execution_count": 30,
   "metadata": {
    "id": "laJT9BYl_Zcu"
   },
   "outputs": [],
   "source": [
    "# 1) в переменную genre_df сохраняются те строки переданного датафрейма table, для\n",
    "#    которых одновременно:\n",
    "#    - значение в столбце day равно значению аргумента day\n",
    "#    - значение в столбце time больше значения аргумента time1\n",
    "#    - значение в столбце time меньше значения аргумента time2\n",
    "#    Используйте последовательную фильтрацию с помощью логической индексации.\n",
    "# 2) сгруппировать датафрейм genre_df по столбцу genre, взять один из его\n",
    "#    столбцов и посчитать методом count() количество записей для каждого из\n",
    "#    присутствующих жанров, получившийся Series записать в переменную\n",
    "#    genre_df_count\n",
    "# 3) отсортировать genre_df_count по убыванию встречаемости и сохранить\n",
    "#    в переменную genre_df_sorted\n",
    "# 4) вернуть Series из 10 первых значений genre_df_sorted, это будут топ-10\n",
    "#    популярных жанров (в указанный день, в заданное время)\n",
    "def genre_weekday(table, day, time1, time2): # Объявление функции genre_weekday() с параметрами table, day, time1, time2,\n",
    "    genre_df = table[table['day'] == day] \n",
    "    genre_df = genre_df[genre_df['time'] > time1]\n",
    "    genre_df = genre_df[genre_df['time'] < time2] # которая возвращает информацию о самых популярных жанрах в указанный день в\n",
    "    genre_df_count = genre_df.groupby('genre')['user_id'].count() \n",
    "    genre_df_sorted = genre_df_count.sort_values(ascending = False) \n",
    "    return genre_df_sorted.head(10) # заданное время:\n"
   ]
  },
  {
   "cell_type": "markdown",
   "metadata": {
    "id": "la2s2_PF_Zcu"
   },
   "source": [
    "Cравним результаты функции `genre_weekday()` для Москвы и Санкт-Петербурга в понедельник утром (с 7:00 до 11:00) и в пятницу вечером (с 17:00 до 23:00):"
   ]
  },
  {
   "cell_type": "code",
   "execution_count": 31,
   "metadata": {
    "id": "yz7itPUQ_Zcu"
   },
   "outputs": [
    {
     "data": {
      "text/plain": [
       "genre\n",
       "pop            781\n",
       "dance          549\n",
       "electronic     480\n",
       "rock           474\n",
       "hiphop         286\n",
       "ruspop         186\n",
       "world          181\n",
       "rusrap         175\n",
       "alternative    164\n",
       "unknown        161\n",
       "Name: user_id, dtype: int64"
      ]
     },
     "execution_count": 31,
     "metadata": {},
     "output_type": "execute_result"
    }
   ],
   "source": [
    " # вызов функции для утра понедельника в Москве (вместо df — таблица moscow_general)\n",
    "# объекты, хранящие время, являются строками и сравниваются как строки\n",
    "genre_weekday(moscow_general, 'Monday', '07:00', '11:00')"
   ]
  },
  {
   "cell_type": "code",
   "execution_count": 32,
   "metadata": {
    "id": "kwUcHPdy_Zcu"
   },
   "outputs": [
    {
     "data": {
      "text/plain": [
       "genre\n",
       "pop            218\n",
       "dance          182\n",
       "rock           162\n",
       "electronic     147\n",
       "hiphop          80\n",
       "ruspop          64\n",
       "alternative     58\n",
       "rusrap          55\n",
       "jazz            44\n",
       "classical       40\n",
       "Name: user_id, dtype: int64"
      ]
     },
     "execution_count": 32,
     "metadata": {},
     "output_type": "execute_result"
    }
   ],
   "source": [
    "genre_weekday(spb_general, 'Monday', '07:00', '11:00')# вызов функции для утра понедельника в Петербурге (вместо df — таблица spb_general)"
   ]
  },
  {
   "cell_type": "code",
   "execution_count": 33,
   "metadata": {
    "id": "EzXVRE1o_Zcu"
   },
   "outputs": [
    {
     "data": {
      "text/plain": [
       "genre\n",
       "pop            717\n",
       "dance          524\n",
       "rock           518\n",
       "electronic     485\n",
       "hiphop         238\n",
       "alternative    182\n",
       "world          172\n",
       "classical      172\n",
       "ruspop         149\n",
       "rusrap         133\n",
       "Name: user_id, dtype: int64"
      ]
     },
     "execution_count": 33,
     "metadata": {},
     "output_type": "execute_result"
    }
   ],
   "source": [
    "genre_weekday(moscow_general, 'Monday', '17:00', '23:00') # вызов функции для вечера пятницы в Москве"
   ]
  },
  {
   "cell_type": "code",
   "execution_count": 34,
   "metadata": {
    "id": "JZaEKu5v_Zcu"
   },
   "outputs": [
    {
     "data": {
      "text/plain": [
       "genre\n",
       "pop            263\n",
       "rock           208\n",
       "electronic     192\n",
       "dance          191\n",
       "hiphop         104\n",
       "alternative     72\n",
       "classical       71\n",
       "jazz            57\n",
       "rusrap          54\n",
       "ruspop          53\n",
       "Name: user_id, dtype: int64"
      ]
     },
     "execution_count": 34,
     "metadata": {},
     "output_type": "execute_result"
    }
   ],
   "source": [
    "genre_weekday(spb_general, 'Monday', '17:00', '23:00') # вызов функции для вечера пятницы в Петербурге"
   ]
  },
  {
   "cell_type": "markdown",
   "metadata": {
    "id": "wrCe4MNX_Zcu"
   },
   "source": [
    "\n",
    "**Выводы**\n",
    "\n",
    "Если сравнить топ-10 жанров в понедельник утром, можно сделать такие выводы:\n",
    "\n",
    "1. В Москве и Петербурге слушают похожую музыку. Единственное отличие — в московский рейтинг вошёл жанр “world”, а в петербургский — джаз и классика.\n",
    "\n",
    "2. В Москве пропущенных значений оказалось так много, что значение `'unknown'` заняло десятое место среди самых популярных жанров. Значит, пропущенные значения занимают существенную долю в данных и угрожают достоверности исследования.\n",
    "\n",
    "Вечер пятницы не меняет эту картину. Некоторые жанры поднимаются немного выше, другие спускаются, но в целом топ-10 остаётся тем же самым.\n",
    "\n",
    "Таким образом, вторая гипотеза подтвердилась лишь частично:\n",
    "* Пользователи слушают похожую музыку в начале недели и в конце.\n",
    "* Разница между Москвой и Петербургом не слишком выражена. В Москве чаще слушают русскую популярную музыку, в Петербурге — джаз.\n",
    "\n",
    "Однако пропуски в данных ставят под сомнение этот результат. В Москве их так много, что рейтинг топ-10 мог бы выглядеть иначе, если бы не утерянные  данные о жанрах."
   ]
  },
  {
   "cell_type": "markdown",
   "metadata": {
    "id": "JolODAqr_Zcu"
   },
   "source": [
    "### Жанровые предпочтения в Москве и Петербурге\n",
    "\n",
    "Гипотеза: Петербург — столица рэпа, музыку этого жанра там слушают чаще, чем в Москве.  А Москва — город контрастов, в котором, тем не менее, преобладает поп-музыка."
   ]
  },
  {
   "cell_type": "markdown",
   "metadata": {
    "id": "DlegSvaT_Zcu"
   },
   "source": [
    "Сгруппируем таблицу `moscow_general` по жанру и посчитаем прослушивания треков каждого жанра методом `count()`. Затем отсортируем результат в порядке убывания и сохраним его в таблице `moscow_genres`."
   ]
  },
  {
   "cell_type": "code",
   "execution_count": 35,
   "metadata": {
    "id": "r19lIPke_Zcu"
   },
   "outputs": [],
   "source": [
    "moscow_genres = moscow_general.groupby('genre')['user_id'].count() # одной строкой: группировка таблицы moscow_general по столбцу 'genre', \n",
    "moscow_genres = moscow_genres.sort_values(ascending = False) # подсчёт числа значений 'genre' в этой группировке методом count(), \n",
    "# сортировка получившегося Series в порядке убывания и сохранение в moscow_genres"
   ]
  },
  {
   "cell_type": "markdown",
   "metadata": {
    "id": "6kMuomxTiIr8"
   },
   "source": [
    "Выведем на экран первые десять строк `moscow_genres`:"
   ]
  },
  {
   "cell_type": "code",
   "execution_count": 36,
   "metadata": {
    "id": "WhCSooF8_Zcv"
   },
   "outputs": [
    {
     "data": {
      "text/plain": [
       "genre\n",
       "pop            5892\n",
       "dance          4435\n",
       "rock           3965\n",
       "electronic     3786\n",
       "hiphop         2096\n",
       "classical      1616\n",
       "world          1432\n",
       "alternative    1379\n",
       "ruspop         1372\n",
       "rusrap         1161\n",
       "Name: user_id, dtype: int64"
      ]
     },
     "execution_count": 36,
     "metadata": {},
     "output_type": "execute_result"
    }
   ],
   "source": [
    "moscow_genres.head(10) # просмотр первых 10 строк moscow_genres"
   ]
  },
  {
   "cell_type": "markdown",
   "metadata": {
    "id": "cnPG2vnN_Zcv"
   },
   "source": [
    "\n",
    "Теперь повторим то же и для Петербурга.\n",
    "\n"
   ]
  },
  {
   "cell_type": "code",
   "execution_count": 37,
   "metadata": {
    "id": "gluLIpE7_Zcv"
   },
   "outputs": [],
   "source": [
    "spb_genres = spb_general.groupby('genre')['user_id'].count()  \n",
    "spb_genres = spb_genres.sort_values(ascending = False)  \n",
    "# подсчёт числа значений 'genre' в этой группировке методом count(), \n",
    "# сортировка получившегося Series в порядке убывания и сохранение в spb_genres"
   ]
  },
  {
   "cell_type": "markdown",
   "metadata": {
    "id": "5Doha_ODgyQ8"
   },
   "source": [
    "Выведем на экран первые десять строк `spb_genres`:"
   ]
  },
  {
   "cell_type": "code",
   "execution_count": 38,
   "metadata": {
    "id": "uaGJHjVU_Zcv"
   },
   "outputs": [
    {
     "data": {
      "text/plain": [
       "genre\n",
       "pop            2431\n",
       "dance          1932\n",
       "rock           1879\n",
       "electronic     1736\n",
       "hiphop          960\n",
       "alternative     649\n",
       "classical       646\n",
       "rusrap          564\n",
       "ruspop          538\n",
       "world           515\n",
       "Name: user_id, dtype: int64"
      ]
     },
     "execution_count": 38,
     "metadata": {},
     "output_type": "execute_result"
    }
   ],
   "source": [
    "spb_genres.head(10) # просмотр первых 10 строк spb_genres"
   ]
  },
  {
   "cell_type": "markdown",
   "metadata": {
    "id": "RY51YJYu_Zcv"
   },
   "source": [
    "\n",
    "\n",
    "**Выводы**"
   ]
  },
  {
   "cell_type": "markdown",
   "metadata": {
    "id": "nVhnJEm__Zcv"
   },
   "source": [
    "Гипотеза частично подтвердилась:\n",
    "* Поп-музыка — самый популярный жанр в Москве, как и предполагала гипотеза. Более того, в топ-10 жанров встречается близкий жанр — русская популярная музыка.\n",
    "* Вопреки ожиданиям, рэп одинаково популярен в Москве и Петербурге. \n"
   ]
  },
  {
   "cell_type": "markdown",
   "metadata": {
    "id": "ykKQ0N65_Zcv"
   },
   "source": [
    "## Итоги исследования"
   ]
  },
  {
   "cell_type": "markdown",
   "metadata": {
    "id": "tjUwbHb3_Zcv"
   },
   "source": [
    "Мы проверили три гипотезы и установили:\n",
    "\n",
    "1. День недели по-разному влияет на активность пользователей в Москве и Петербурге. \n",
    "\n",
    "Первая гипотеза полностью подтвердилась.\n",
    "\n",
    "2. Музыкальные предпочтения не сильно меняются в течение недели — будь то Москва или Петербург. Небольшие различия заметны в начале недели, по понедельникам:\n",
    "* в Москве слушают музыку жанра “world”,\n",
    "* в Петербурге — джаз и классику.\n",
    "\n",
    "Таким образом, вторая гипотеза подтвердилась лишь отчасти. Этот результат мог оказаться иным, если бы не пропуски в данных.\n",
    "\n",
    "3. Во вкусах пользователей Москвы и Петербурга больше общего чем различий. Вопреки ожиданиям, предпочтения жанров в Петербурге напоминают московские.\n",
    "\n",
    "Третья гипотеза не подтвердилась. Если различия в предпочтениях и существуют, на основной массе пользователей они незаметны.\n"
   ]
  },
  {
   "cell_type": "code",
   "execution_count": null,
   "metadata": {},
   "outputs": [],
   "source": []
  }
 ],
 "metadata": {
  "ExecuteTimeLog": [
   {
    "duration": 1011,
    "start_time": "2021-11-21T09:17:09.935Z"
   },
   {
    "duration": 259,
    "start_time": "2021-11-21T09:18:11.451Z"
   },
   {
    "duration": 780,
    "start_time": "2021-11-21T09:22:16.548Z"
   },
   {
    "duration": 189,
    "start_time": "2021-11-21T09:22:22.878Z"
   },
   {
    "duration": 27,
    "start_time": "2021-11-21T09:22:31.143Z"
   },
   {
    "duration": 32,
    "start_time": "2021-11-21T09:24:55.117Z"
   },
   {
    "duration": 316,
    "start_time": "2021-11-21T09:35:24.029Z"
   },
   {
    "duration": 6,
    "start_time": "2021-11-21T09:36:12.568Z"
   },
   {
    "duration": 36,
    "start_time": "2021-11-21T09:44:24.608Z"
   },
   {
    "duration": 6,
    "start_time": "2021-11-21T09:44:28.101Z"
   },
   {
    "duration": 30,
    "start_time": "2021-11-21T09:46:31.211Z"
   },
   {
    "duration": 22,
    "start_time": "2021-11-21T09:51:17.903Z"
   },
   {
    "duration": 30,
    "start_time": "2021-11-21T09:51:43.556Z"
   },
   {
    "duration": 88,
    "start_time": "2021-11-21T09:55:15.224Z"
   },
   {
    "duration": 286,
    "start_time": "2021-11-21T09:56:33.325Z"
   },
   {
    "duration": 115,
    "start_time": "2021-11-21T09:57:07.317Z"
   },
   {
    "duration": 31,
    "start_time": "2021-11-21T09:57:39.857Z"
   },
   {
    "duration": 99,
    "start_time": "2021-11-21T09:58:14.628Z"
   },
   {
    "duration": 289,
    "start_time": "2021-11-21T09:59:54.932Z"
   },
   {
    "duration": 16,
    "start_time": "2021-11-21T10:00:18.415Z"
   },
   {
    "duration": 87,
    "start_time": "2021-11-21T10:32:10.872Z"
   },
   {
    "duration": 4,
    "start_time": "2021-11-21T10:33:41.771Z"
   },
   {
    "duration": 274,
    "start_time": "2021-11-21T10:34:04.197Z"
   },
   {
    "duration": 538,
    "start_time": "2021-11-21T10:35:37.720Z"
   },
   {
    "duration": 4,
    "start_time": "2021-11-21T10:36:47.305Z"
   },
   {
    "duration": 575,
    "start_time": "2021-11-21T10:36:51.507Z"
   },
   {
    "duration": 4,
    "start_time": "2021-11-21T10:38:17.353Z"
   },
   {
    "duration": 574,
    "start_time": "2021-11-21T10:38:22.374Z"
   },
   {
    "duration": 5,
    "start_time": "2021-11-21T10:39:36.079Z"
   },
   {
    "duration": 7018,
    "start_time": "2021-11-21T10:39:39.670Z"
   },
   {
    "duration": 4,
    "start_time": "2021-11-21T10:40:33.592Z"
   },
   {
    "duration": 24,
    "start_time": "2021-11-21T10:40:37.457Z"
   },
   {
    "duration": 11,
    "start_time": "2021-11-21T12:13:46.326Z"
   },
   {
    "duration": 47,
    "start_time": "2021-11-21T12:42:00.629Z"
   },
   {
    "duration": 16,
    "start_time": "2021-11-21T12:44:58.837Z"
   },
   {
    "duration": 277,
    "start_time": "2021-11-21T12:47:38.403Z"
   },
   {
    "duration": 264,
    "start_time": "2021-11-21T12:47:45.411Z"
   },
   {
    "duration": 701,
    "start_time": "2021-11-21T12:51:09.770Z"
   },
   {
    "duration": 320,
    "start_time": "2021-11-21T12:51:49.062Z"
   },
   {
    "duration": 280,
    "start_time": "2021-11-21T12:52:18.075Z"
   },
   {
    "duration": 16,
    "start_time": "2021-11-21T12:57:02.523Z"
   },
   {
    "duration": 280,
    "start_time": "2021-11-21T12:58:13.542Z"
   },
   {
    "duration": 313,
    "start_time": "2021-11-21T12:59:16.380Z"
   },
   {
    "duration": 82,
    "start_time": "2021-11-21T13:07:35.578Z"
   },
   {
    "duration": 289,
    "start_time": "2021-11-21T13:07:51.034Z"
   },
   {
    "duration": -416,
    "start_time": "2021-11-21T13:08:56.858Z"
   },
   {
    "duration": 888,
    "start_time": "2021-11-21T13:09:51.760Z"
   },
   {
    "duration": 280,
    "start_time": "2021-11-21T13:12:13.205Z"
   },
   {
    "duration": 343,
    "start_time": "2021-11-21T13:18:11.435Z"
   },
   {
    "duration": 401,
    "start_time": "2021-11-21T13:57:38.467Z"
   },
   {
    "duration": 7,
    "start_time": "2021-11-21T14:00:52.453Z"
   },
   {
    "duration": 7,
    "start_time": "2021-11-21T14:02:51.776Z"
   },
   {
    "duration": 15,
    "start_time": "2021-11-21T14:03:13.081Z"
   },
   {
    "duration": 288,
    "start_time": "2021-11-21T14:03:48.788Z"
   },
   {
    "duration": 15,
    "start_time": "2021-11-21T14:04:09.919Z"
   },
   {
    "duration": 112,
    "start_time": "2021-11-21T14:43:27.230Z"
   },
   {
    "duration": 95,
    "start_time": "2021-11-21T14:44:28.406Z"
   },
   {
    "duration": 231,
    "start_time": "2021-11-21T14:46:09.336Z"
   },
   {
    "duration": 95,
    "start_time": "2021-11-21T14:50:18.287Z"
   },
   {
    "duration": 141,
    "start_time": "2021-11-21T14:50:24.983Z"
   },
   {
    "duration": 100,
    "start_time": "2021-11-21T14:50:51.481Z"
   },
   {
    "duration": 94,
    "start_time": "2021-11-21T14:54:13.451Z"
   },
   {
    "duration": 93,
    "start_time": "2021-11-21T14:54:28.469Z"
   },
   {
    "duration": 86,
    "start_time": "2021-11-21T15:10:04.583Z"
   },
   {
    "duration": 13,
    "start_time": "2021-11-21T15:11:58.878Z"
   },
   {
    "duration": 14,
    "start_time": "2021-11-21T15:12:28.302Z"
   },
   {
    "duration": 14,
    "start_time": "2021-11-21T15:13:39.708Z"
   },
   {
    "duration": 23,
    "start_time": "2021-11-21T15:15:33.779Z"
   },
   {
    "duration": 26,
    "start_time": "2021-11-21T15:16:16.953Z"
   },
   {
    "duration": 14,
    "start_time": "2021-11-21T15:16:49.210Z"
   },
   {
    "duration": 23,
    "start_time": "2021-11-21T15:17:24.978Z"
   },
   {
    "duration": 22,
    "start_time": "2021-11-21T15:18:21.783Z"
   },
   {
    "duration": 25,
    "start_time": "2021-11-21T15:18:49.917Z"
   },
   {
    "duration": 26,
    "start_time": "2021-11-21T15:19:10.275Z"
   },
   {
    "duration": 6,
    "start_time": "2021-11-21T16:13:52.882Z"
   },
   {
    "duration": 25,
    "start_time": "2021-11-21T16:14:21.567Z"
   },
   {
    "duration": 22,
    "start_time": "2021-11-21T16:14:40.363Z"
   },
   {
    "duration": 13,
    "start_time": "2021-11-21T16:15:16.333Z"
   },
   {
    "duration": 22,
    "start_time": "2021-11-21T16:15:39.864Z"
   },
   {
    "duration": 23,
    "start_time": "2021-11-21T16:15:59.486Z"
   },
   {
    "duration": 22,
    "start_time": "2021-11-21T16:16:27.792Z"
   },
   {
    "duration": 24,
    "start_time": "2021-11-21T16:16:52.034Z"
   },
   {
    "duration": 90,
    "start_time": "2021-11-21T16:24:34.529Z"
   },
   {
    "duration": 15,
    "start_time": "2021-11-21T16:31:57.133Z"
   },
   {
    "duration": 141,
    "start_time": "2021-11-21T16:46:47.820Z"
   },
   {
    "duration": 93,
    "start_time": "2021-11-21T16:47:00.169Z"
   },
   {
    "duration": 105,
    "start_time": "2021-11-21T16:47:56.975Z"
   },
   {
    "duration": 113,
    "start_time": "2021-11-21T16:48:06.095Z"
   },
   {
    "duration": 104,
    "start_time": "2021-11-21T16:48:14.689Z"
   },
   {
    "duration": 3,
    "start_time": "2021-11-21T16:48:16.165Z"
   },
   {
    "duration": 89,
    "start_time": "2021-11-21T16:52:20.767Z"
   },
   {
    "duration": 103,
    "start_time": "2021-11-21T16:52:32.283Z"
   },
   {
    "duration": 419,
    "start_time": "2021-11-21T16:58:50.012Z"
   },
   {
    "duration": 17,
    "start_time": "2021-11-21T17:01:40.982Z"
   },
   {
    "duration": 14,
    "start_time": "2021-11-21T17:02:16.487Z"
   },
   {
    "duration": 32,
    "start_time": "2021-11-21T17:06:39.555Z"
   },
   {
    "duration": 18,
    "start_time": "2021-11-21T17:15:13.889Z"
   },
   {
    "duration": 5,
    "start_time": "2021-11-21T17:27:47.003Z"
   },
   {
    "duration": 618,
    "start_time": "2021-11-21T17:27:55.095Z"
   },
   {
    "duration": 700,
    "start_time": "2021-11-21T17:29:15.110Z"
   },
   {
    "duration": 6,
    "start_time": "2021-11-21T17:33:18.070Z"
   },
   {
    "duration": 674,
    "start_time": "2021-11-21T17:33:23.252Z"
   },
   {
    "duration": 5,
    "start_time": "2021-11-21T17:37:28.787Z"
   },
   {
    "duration": 608,
    "start_time": "2021-11-21T17:37:33.142Z"
   },
   {
    "duration": 5,
    "start_time": "2021-11-21T17:37:44.208Z"
   },
   {
    "duration": 27,
    "start_time": "2021-11-21T17:37:51.362Z"
   },
   {
    "duration": 20,
    "start_time": "2021-11-21T17:38:53.373Z"
   },
   {
    "duration": 26,
    "start_time": "2021-11-21T17:40:22.820Z"
   },
   {
    "duration": 18,
    "start_time": "2021-11-21T17:40:43.596Z"
   },
   {
    "duration": 279,
    "start_time": "2021-11-21T17:48:19.269Z"
   },
   {
    "duration": 363,
    "start_time": "2021-11-21T17:49:22.726Z"
   },
   {
    "duration": 273,
    "start_time": "2021-11-21T17:49:26.120Z"
   },
   {
    "duration": 515,
    "start_time": "2021-11-21T17:53:21.128Z"
   },
   {
    "duration": 286,
    "start_time": "2021-11-21T17:53:40.465Z"
   },
   {
    "duration": 13,
    "start_time": "2021-11-21T17:56:31.134Z"
   },
   {
    "duration": 7,
    "start_time": "2021-11-21T17:57:00.240Z"
   },
   {
    "duration": 9,
    "start_time": "2021-11-21T17:58:57.321Z"
   },
   {
    "duration": 6,
    "start_time": "2021-11-21T17:59:17.832Z"
   },
   {
    "duration": 285,
    "start_time": "2021-11-22T16:34:12.816Z"
   },
   {
    "duration": 261,
    "start_time": "2021-11-22T16:34:43.442Z"
   },
   {
    "duration": 272,
    "start_time": "2021-11-22T16:35:25.900Z"
   },
   {
    "duration": 348,
    "start_time": "2021-11-22T16:35:48.363Z"
   },
   {
    "duration": 627,
    "start_time": "2021-11-22T16:36:09.231Z"
   },
   {
    "duration": 142,
    "start_time": "2021-11-22T16:36:12.768Z"
   },
   {
    "duration": 304,
    "start_time": "2021-11-22T16:36:16.142Z"
   },
   {
    "duration": 17,
    "start_time": "2021-11-22T16:36:21.864Z"
   },
   {
    "duration": 3,
    "start_time": "2021-11-22T16:37:23.700Z"
   },
   {
    "duration": 22,
    "start_time": "2021-11-22T16:38:22.950Z"
   },
   {
    "duration": 11,
    "start_time": "2021-11-22T16:38:35.068Z"
   },
   {
    "duration": 75,
    "start_time": "2021-11-22T16:40:59.420Z"
   },
   {
    "duration": 56,
    "start_time": "2021-11-22T16:41:08.281Z"
   },
   {
    "duration": 287,
    "start_time": "2021-11-22T16:48:44.586Z"
   },
   {
    "duration": 42,
    "start_time": "2021-11-22T16:49:07.603Z"
   },
   {
    "duration": 6,
    "start_time": "2021-11-22T16:52:33.007Z"
   },
   {
    "duration": 74,
    "start_time": "2021-11-22T16:54:02.495Z"
   },
   {
    "duration": 10,
    "start_time": "2021-11-22T16:55:21.024Z"
   },
   {
    "duration": 10,
    "start_time": "2021-11-22T16:55:33.144Z"
   },
   {
    "duration": 18,
    "start_time": "2021-11-22T16:56:04.530Z"
   },
   {
    "duration": 18,
    "start_time": "2021-11-22T16:56:28.810Z"
   },
   {
    "duration": 15,
    "start_time": "2021-11-22T16:56:29.656Z"
   },
   {
    "duration": 16,
    "start_time": "2021-11-22T16:56:30.372Z"
   },
   {
    "duration": 14,
    "start_time": "2021-11-22T16:56:31.892Z"
   },
   {
    "duration": 17,
    "start_time": "2021-11-22T16:56:32.600Z"
   },
   {
    "duration": 15,
    "start_time": "2021-11-22T16:56:33.497Z"
   },
   {
    "duration": 8,
    "start_time": "2021-11-22T16:56:36.052Z"
   },
   {
    "duration": 11,
    "start_time": "2021-11-22T16:56:52.523Z"
   },
   {
    "duration": 8,
    "start_time": "2021-11-22T16:56:53.379Z"
   },
   {
    "duration": 4,
    "start_time": "2021-11-22T16:57:23.510Z"
   },
   {
    "duration": 19,
    "start_time": "2021-11-22T16:57:28.135Z"
   },
   {
    "duration": 14,
    "start_time": "2021-11-22T16:57:30.122Z"
   },
   {
    "duration": 17,
    "start_time": "2021-11-22T16:57:32.342Z"
   },
   {
    "duration": 13,
    "start_time": "2021-11-22T16:57:33.794Z"
   },
   {
    "duration": 9,
    "start_time": "2021-11-22T16:57:43.567Z"
   },
   {
    "duration": 5,
    "start_time": "2021-11-22T16:57:46.386Z"
   },
   {
    "duration": 8,
    "start_time": "2021-11-22T16:57:52.906Z"
   },
   {
    "duration": 5,
    "start_time": "2021-11-22T16:57:55.681Z"
   },
   {
    "duration": 319,
    "start_time": "2021-11-22T17:00:38.635Z"
   },
   {
    "duration": 311,
    "start_time": "2021-11-22T17:00:56.743Z"
   },
   {
    "duration": 657,
    "start_time": "2021-11-22T17:01:09.980Z"
   },
   {
    "duration": 191,
    "start_time": "2021-11-22T17:01:10.639Z"
   },
   {
    "duration": 24,
    "start_time": "2021-11-22T17:01:10.833Z"
   },
   {
    "duration": 39,
    "start_time": "2021-11-22T17:01:10.859Z"
   },
   {
    "duration": 4,
    "start_time": "2021-11-22T17:01:10.900Z"
   },
   {
    "duration": 58,
    "start_time": "2021-11-22T17:01:10.906Z"
   },
   {
    "duration": 12,
    "start_time": "2021-11-22T17:01:10.966Z"
   },
   {
    "duration": 49,
    "start_time": "2021-11-22T17:01:10.982Z"
   },
   {
    "duration": 39,
    "start_time": "2021-11-22T17:01:11.034Z"
   },
   {
    "duration": 36,
    "start_time": "2021-11-22T17:01:11.075Z"
   },
   {
    "duration": 99,
    "start_time": "2021-11-22T17:01:11.113Z"
   },
   {
    "duration": 93,
    "start_time": "2021-11-22T17:01:11.214Z"
   },
   {
    "duration": 81,
    "start_time": "2021-11-22T17:01:11.310Z"
   },
   {
    "duration": 69,
    "start_time": "2021-11-22T17:01:11.393Z"
   },
   {
    "duration": 4,
    "start_time": "2021-11-22T17:01:11.464Z"
   },
   {
    "duration": 22,
    "start_time": "2021-11-22T17:01:11.469Z"
   },
   {
    "duration": 57,
    "start_time": "2021-11-22T17:01:11.492Z"
   },
   {
    "duration": 10,
    "start_time": "2021-11-22T17:01:11.551Z"
   },
   {
    "duration": 9,
    "start_time": "2021-11-22T17:01:11.563Z"
   },
   {
    "duration": 17,
    "start_time": "2021-11-22T17:01:11.574Z"
   },
   {
    "duration": 17,
    "start_time": "2021-11-22T17:01:11.594Z"
   },
   {
    "duration": 17,
    "start_time": "2021-11-22T17:01:11.645Z"
   },
   {
    "duration": 26,
    "start_time": "2021-11-22T17:01:11.665Z"
   },
   {
    "duration": 13,
    "start_time": "2021-11-22T17:01:11.693Z"
   },
   {
    "duration": 39,
    "start_time": "2021-11-22T17:01:11.708Z"
   },
   {
    "duration": 13,
    "start_time": "2021-11-22T17:01:11.749Z"
   },
   {
    "duration": 7,
    "start_time": "2021-11-22T17:01:11.764Z"
   },
   {
    "duration": 10,
    "start_time": "2021-11-22T17:01:11.773Z"
   },
   {
    "duration": 8,
    "start_time": "2021-11-22T17:01:11.785Z"
   },
   {
    "duration": 3,
    "start_time": "2021-11-22T17:01:11.795Z"
   },
   {
    "duration": 53,
    "start_time": "2021-11-22T17:01:11.800Z"
   },
   {
    "duration": 13,
    "start_time": "2021-11-22T17:01:11.855Z"
   },
   {
    "duration": 16,
    "start_time": "2021-11-22T17:01:11.869Z"
   },
   {
    "duration": 12,
    "start_time": "2021-11-22T17:01:11.887Z"
   },
   {
    "duration": 50,
    "start_time": "2021-11-22T17:01:11.901Z"
   },
   {
    "duration": 5,
    "start_time": "2021-11-22T17:01:11.953Z"
   },
   {
    "duration": 11,
    "start_time": "2021-11-22T17:01:11.960Z"
   },
   {
    "duration": 4,
    "start_time": "2021-11-22T17:01:11.973Z"
   },
   {
    "duration": 674,
    "start_time": "2021-11-22T17:10:50.364Z"
   },
   {
    "duration": 146,
    "start_time": "2021-11-22T17:10:51.040Z"
   },
   {
    "duration": 16,
    "start_time": "2021-11-22T17:10:51.188Z"
   },
   {
    "duration": 40,
    "start_time": "2021-11-22T17:10:51.207Z"
   },
   {
    "duration": 4,
    "start_time": "2021-11-22T17:10:51.253Z"
   },
   {
    "duration": 30,
    "start_time": "2021-11-22T17:10:51.258Z"
   },
   {
    "duration": 17,
    "start_time": "2021-11-22T17:10:51.290Z"
   },
   {
    "duration": 39,
    "start_time": "2021-11-22T17:10:51.309Z"
   },
   {
    "duration": 30,
    "start_time": "2021-11-22T17:10:51.350Z"
   },
   {
    "duration": 21,
    "start_time": "2021-11-22T17:10:51.382Z"
   },
   {
    "duration": 78,
    "start_time": "2021-11-22T17:10:51.405Z"
   },
   {
    "duration": 71,
    "start_time": "2021-11-22T17:10:51.485Z"
   },
   {
    "duration": 56,
    "start_time": "2021-11-22T17:10:51.559Z"
   },
   {
    "duration": 59,
    "start_time": "2021-11-22T17:10:51.616Z"
   },
   {
    "duration": 3,
    "start_time": "2021-11-22T17:10:51.677Z"
   },
   {
    "duration": 35,
    "start_time": "2021-11-22T17:10:51.682Z"
   },
   {
    "duration": 52,
    "start_time": "2021-11-22T17:10:51.719Z"
   },
   {
    "duration": 10,
    "start_time": "2021-11-22T17:10:51.773Z"
   },
   {
    "duration": 9,
    "start_time": "2021-11-22T17:10:51.784Z"
   },
   {
    "duration": 16,
    "start_time": "2021-11-22T17:10:51.795Z"
   },
   {
    "duration": 42,
    "start_time": "2021-11-22T17:10:51.813Z"
   },
   {
    "duration": 21,
    "start_time": "2021-11-22T17:10:51.857Z"
   },
   {
    "duration": 15,
    "start_time": "2021-11-22T17:10:51.881Z"
   },
   {
    "duration": 14,
    "start_time": "2021-11-22T17:10:51.897Z"
   },
   {
    "duration": 57,
    "start_time": "2021-11-22T17:10:51.912Z"
   },
   {
    "duration": 16,
    "start_time": "2021-11-22T17:10:51.971Z"
   },
   {
    "duration": 9,
    "start_time": "2021-11-22T17:10:51.988Z"
   },
   {
    "duration": 11,
    "start_time": "2021-11-22T17:10:51.998Z"
   },
   {
    "duration": 9,
    "start_time": "2021-11-22T17:10:52.011Z"
   },
   {
    "duration": 41,
    "start_time": "2021-11-22T17:10:52.022Z"
   },
   {
    "duration": 22,
    "start_time": "2021-11-22T17:10:52.065Z"
   },
   {
    "duration": 13,
    "start_time": "2021-11-22T17:10:52.089Z"
   },
   {
    "duration": 16,
    "start_time": "2021-11-22T17:10:52.103Z"
   },
   {
    "duration": 28,
    "start_time": "2021-11-22T17:10:52.121Z"
   },
   {
    "duration": 15,
    "start_time": "2021-11-22T17:10:52.151Z"
   },
   {
    "duration": 7,
    "start_time": "2021-11-22T17:10:52.168Z"
   },
   {
    "duration": 8,
    "start_time": "2021-11-22T17:10:52.177Z"
   },
   {
    "duration": 5,
    "start_time": "2021-11-22T17:10:52.186Z"
   }
  ],
  "colab": {
   "collapsed_sections": [
    "E0vqbgi9ay0H",
    "VUC88oWjTJw2"
   ],
   "name": "yandex_music_project_2021.2.ipynb",
   "provenance": []
  },
  "kernelspec": {
   "display_name": "Python 3",
   "language": "python",
   "name": "python3"
  },
  "language_info": {
   "codemirror_mode": {
    "name": "ipython",
    "version": 3
   },
   "file_extension": ".py",
   "mimetype": "text/x-python",
   "name": "python",
   "nbconvert_exporter": "python",
   "pygments_lexer": "ipython3",
   "version": "3.8.8"
  },
  "toc": {
   "base_numbering": 1,
   "nav_menu": {},
   "number_sections": true,
   "sideBar": true,
   "skip_h1_title": true,
   "title_cell": "Table of Contents",
   "title_sidebar": "Contents",
   "toc_cell": false,
   "toc_position": {},
   "toc_section_display": true,
   "toc_window_display": true
  }
 },
 "nbformat": 4,
 "nbformat_minor": 1
}
