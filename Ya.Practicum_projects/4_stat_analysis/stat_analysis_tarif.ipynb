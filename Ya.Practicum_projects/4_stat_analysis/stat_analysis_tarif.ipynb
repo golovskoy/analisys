{
 "cells": [
  {
   "cell_type": "markdown",
   "metadata": {},
   "source": [
    "<font color='blue' size=5><b>Комментарий ревьюера</b></font>\n",
    "\n",
    "<font color='blue'>Привет! Меня зовут Тимофей Вилков, и я буду проверять твой проект. Спасибо за проделанную работу! Предлагаю общаться на «ты».</font>\n",
    "\n",
    "<font color='blue'>Я буду использовать различные цвета, чтобы было удобнее воспринимать мои комментарии:</font>\n",
    "\n",
    "\n",
    "\n",
    "<div class=\"alert alert-block alert-success\">\n",
    "✔️ <b>Зеленый текст</b> - все отлично\n",
    "</div>\n",
    "\n",
    "<div class=\"alert alert-block alert-warning\">\n",
    "⚠️ <b>Желтый текст</b> - сделано все правильно, однако есть рекомендации, на что стоит обратить внимание\n",
    "</div>\n",
    "\n",
    "<div class=\"alert alert-block alert-danger\">\n",
    "❌ <b>Красный текст</b> - красный текст - есть недочеты\n",
    "</div>\n",
    "\n",
    "---\n",
    "\n",
    "<font color='blue'>Пожалуйста, не удаляй мои комментарии в случае возврата работы, так будет проще разобраться, какие были недочеты, а также сразу увидеть исправленное. </font>\n",
    "\n",
    "Ответы на мои комментарии лучше тоже помечать.\n",
    "Например:\n",
    "\n",
    "<div class=\"alert alert-block alert-info\">\n",
    "<b>Комментарий студента:</b> \n",
    "Текст комментария, вопроса, объяснения\n",
    "</div>\n",
    "\n",
    "<font color='blue'><b>Давай смотреть, что получилось!</b></font>"
   ]
  },
  {
   "cell_type": "markdown",
   "metadata": {},
   "source": [
    "<div class=\"alert alert-block alert-success\">\n",
    "✔️ Привет ещё раз! Новые комментарии я отметил так: Ревью №2\n",
    "</div>"
   ]
  },
  {
   "cell_type": "markdown",
   "metadata": {},
   "source": [
    "# Определение перспективного тарифа для телеком-компании"
   ]
  },
  {
   "cell_type": "markdown",
   "metadata": {},
   "source": [
    "# 1. Читаем данные"
   ]
  },
  {
   "cell_type": "code",
   "execution_count": 1,
   "metadata": {},
   "outputs": [
    {
     "name": "stdout",
     "output_type": "stream",
     "text": [
      "<class 'pandas.core.frame.DataFrame'>\n",
      "RangeIndex: 500 entries, 0 to 499\n",
      "Data columns (total 8 columns):\n",
      "user_id       500 non-null int64\n",
      "age           500 non-null int64\n",
      "churn_date    38 non-null object\n",
      "city          500 non-null object\n",
      "first_name    500 non-null object\n",
      "last_name     500 non-null object\n",
      "reg_date      500 non-null object\n",
      "tariff        500 non-null object\n",
      "dtypes: int64(2), object(6)\n",
      "memory usage: 31.4+ KB\n",
      "<class 'pandas.core.frame.DataFrame'>\n",
      "RangeIndex: 202607 entries, 0 to 202606\n",
      "Data columns (total 4 columns):\n",
      "id           202607 non-null object\n",
      "call_date    202607 non-null object\n",
      "duration     202607 non-null float64\n",
      "user_id      202607 non-null int64\n",
      "dtypes: float64(1), int64(1), object(2)\n",
      "memory usage: 6.2+ MB\n",
      "<class 'pandas.core.frame.DataFrame'>\n",
      "RangeIndex: 123036 entries, 0 to 123035\n",
      "Data columns (total 3 columns):\n",
      "id              123036 non-null object\n",
      "message_date    123036 non-null object\n",
      "user_id         123036 non-null int64\n",
      "dtypes: int64(1), object(2)\n",
      "memory usage: 2.8+ MB\n",
      "<class 'pandas.core.frame.DataFrame'>\n",
      "RangeIndex: 149396 entries, 0 to 149395\n",
      "Data columns (total 5 columns):\n",
      "Unnamed: 0      149396 non-null int64\n",
      "id              149396 non-null object\n",
      "mb_used         149396 non-null float64\n",
      "session_date    149396 non-null object\n",
      "user_id         149396 non-null int64\n",
      "dtypes: float64(1), int64(2), object(2)\n",
      "memory usage: 5.7+ MB\n"
     ]
    }
   ],
   "source": [
    "import pandas as pd #импортируем pandas как pd\n",
    "users = pd.read_csv('/datasets/users.csv') # читаем файл users.csv\n",
    "users.info() #получаем информацию о данных, содержащихся в файле/datasets/users.csv.\n",
    "\n",
    "calls = pd.read_csv('/datasets/calls.csv') # читаем файл calls.csv\n",
    "calls.info() #получаем информацию о данных, содержащихся в файле\n",
    "\n",
    "messages = pd.read_csv('/datasets/messages.csv') # читаем файл messages.csv\n",
    "messages.info() #получаем информацию о данных, содержащихся в файле\n",
    "\n",
    "internet = pd.read_csv('/datasets/internet.csv') # читаем файл internet.csv\n",
    "internet.info() #получаем информацию о данных, содержащихся в файле\n",
    "\n",
    "tariffs = pd.read_csv('/datasets/tariffs.csv') # читаем файл tariffs.csv\n"
   ]
  },
  {
   "cell_type": "markdown",
   "metadata": {},
   "source": [
    "<div class=\"alert alert-block alert-warning\">\n",
    "⚠️ Все комментарии кроме поясняющих работу кода лучше писать markdown, их так гораздо удобнее читать\n",
    "</div>"
   ]
  },
  {
   "cell_type": "markdown",
   "metadata": {},
   "source": [
    "<div class=\"alert alert-block alert-warning\">\n",
    "⚠️ Алексей, пиши, пожалуйста, комментарии к работе на этапе её создания чёрным цветом\n",
    "</div>"
   ]
  },
  {
   "cell_type": "markdown",
   "metadata": {},
   "source": [
    "<div class=\"alert alert-block alert-info\">Заменил везде зеленый цвет на черный.\n",
    "    "
   ]
  },
  {
   "cell_type": "markdown",
   "metadata": {},
   "source": [
    "<div class=\"alert alert-block alert-success\">\n",
    "✔️ Ревью №2: Спасибо! \n",
    "</div"
   ]
  },
  {
   "cell_type": "markdown",
   "metadata": {},
   "source": [
    "# 2. Подготовка данных."
   ]
  },
  {
   "cell_type": "markdown",
   "metadata": {},
   "source": [
    "## Замена типов данных."
   ]
  },
  {
   "cell_type": "markdown",
   "metadata": {},
   "source": [
    "<font color='black'><div>1. В разных датасетах разное количество строк (значений). Это правильно. В одном датасете количество значений в столбцах одинаковое, что говорит о том, что пропущенных значений нет. Также проверены методами isna и duplicated все датасеты на наличие пропусков и явных дубликатов. В столбце churn_date значений всего 38, но это значит, что только у 38 пользователей тариф прекратил действие.<div>2.В столбце call_date данные строчные. Необходимо заменить на тип \"дата\". "
   ]
  },
  {
   "cell_type": "markdown",
   "metadata": {},
   "source": [
    "<div class=\"alert alert-block alert-success\">\n",
    "✔️ Отличная работа с первичным выводом!\n",
    "</div>"
   ]
  },
  {
   "cell_type": "code",
   "execution_count": 2,
   "metadata": {},
   "outputs": [
    {
     "data": {
      "text/html": [
       "<div>\n",
       "<style scoped>\n",
       "    .dataframe tbody tr th:only-of-type {\n",
       "        vertical-align: middle;\n",
       "    }\n",
       "\n",
       "    .dataframe tbody tr th {\n",
       "        vertical-align: top;\n",
       "    }\n",
       "\n",
       "    .dataframe thead th {\n",
       "        text-align: right;\n",
       "    }\n",
       "</style>\n",
       "<table border=\"1\" class=\"dataframe\">\n",
       "  <thead>\n",
       "    <tr style=\"text-align: right;\">\n",
       "      <th></th>\n",
       "      <th>id</th>\n",
       "      <th>call_date</th>\n",
       "      <th>duration</th>\n",
       "      <th>user_id</th>\n",
       "    </tr>\n",
       "  </thead>\n",
       "  <tbody>\n",
       "    <tr>\n",
       "      <td>0</td>\n",
       "      <td>1000_0</td>\n",
       "      <td>2018-07-25</td>\n",
       "      <td>0.00</td>\n",
       "      <td>1000</td>\n",
       "    </tr>\n",
       "    <tr>\n",
       "      <td>1</td>\n",
       "      <td>1000_1</td>\n",
       "      <td>2018-08-17</td>\n",
       "      <td>0.00</td>\n",
       "      <td>1000</td>\n",
       "    </tr>\n",
       "    <tr>\n",
       "      <td>2</td>\n",
       "      <td>1000_2</td>\n",
       "      <td>2018-06-11</td>\n",
       "      <td>2.85</td>\n",
       "      <td>1000</td>\n",
       "    </tr>\n",
       "    <tr>\n",
       "      <td>3</td>\n",
       "      <td>1000_3</td>\n",
       "      <td>2018-09-21</td>\n",
       "      <td>13.80</td>\n",
       "      <td>1000</td>\n",
       "    </tr>\n",
       "    <tr>\n",
       "      <td>4</td>\n",
       "      <td>1000_4</td>\n",
       "      <td>2018-12-15</td>\n",
       "      <td>5.18</td>\n",
       "      <td>1000</td>\n",
       "    </tr>\n",
       "  </tbody>\n",
       "</table>\n",
       "</div>"
      ],
      "text/plain": [
       "       id   call_date  duration  user_id\n",
       "0  1000_0  2018-07-25      0.00     1000\n",
       "1  1000_1  2018-08-17      0.00     1000\n",
       "2  1000_2  2018-06-11      2.85     1000\n",
       "3  1000_3  2018-09-21     13.80     1000\n",
       "4  1000_4  2018-12-15      5.18     1000"
      ]
     },
     "execution_count": 2,
     "metadata": {},
     "output_type": "execute_result"
    }
   ],
   "source": [
    "calls.head(5)"
   ]
  },
  {
   "cell_type": "code",
   "execution_count": 3,
   "metadata": {},
   "outputs": [
    {
     "name": "stdout",
     "output_type": "stream",
     "text": [
      "<class 'pandas.core.frame.DataFrame'>\n",
      "RangeIndex: 202607 entries, 0 to 202606\n",
      "Data columns (total 4 columns):\n",
      "id           202607 non-null object\n",
      "call_date    202607 non-null datetime64[ns]\n",
      "duration     202607 non-null float64\n",
      "user_id      202607 non-null int64\n",
      "dtypes: datetime64[ns](1), float64(1), int64(1), object(1)\n",
      "memory usage: 6.2+ MB\n"
     ]
    }
   ],
   "source": [
    "calls['call_date'] = pd.to_datetime(calls['call_date'], format='%Y-%m-%d')\n",
    "calls.info()"
   ]
  },
  {
   "cell_type": "markdown",
   "metadata": {},
   "source": [
    "<font color='black'>Данные столбца calls['call_date'] приведены в нужный формат. "
   ]
  },
  {
   "cell_type": "code",
   "execution_count": 4,
   "metadata": {},
   "outputs": [
    {
     "name": "stdout",
     "output_type": "stream",
     "text": [
      "<class 'pandas.core.frame.DataFrame'>\n",
      "RangeIndex: 123036 entries, 0 to 123035\n",
      "Data columns (total 3 columns):\n",
      "id              123036 non-null object\n",
      "message_date    123036 non-null datetime64[ns]\n",
      "user_id         123036 non-null int64\n",
      "dtypes: datetime64[ns](1), int64(1), object(1)\n",
      "memory usage: 2.8+ MB\n"
     ]
    }
   ],
   "source": [
    "#меняем тип данных в столбце message_date\n",
    "messages['message_date'] = pd.to_datetime(messages['message_date'], format='%Y-%m-%d')\n",
    "messages.info()"
   ]
  },
  {
   "cell_type": "markdown",
   "metadata": {},
   "source": [
    "<font color='black'>Данные столбца message_date приведены в нужный формат. "
   ]
  },
  {
   "cell_type": "code",
   "execution_count": 5,
   "metadata": {},
   "outputs": [
    {
     "name": "stdout",
     "output_type": "stream",
     "text": [
      "<class 'pandas.core.frame.DataFrame'>\n",
      "RangeIndex: 149396 entries, 0 to 149395\n",
      "Data columns (total 5 columns):\n",
      "Unnamed: 0      149396 non-null int64\n",
      "id              149396 non-null object\n",
      "mb_used         149396 non-null float64\n",
      "session_date    149396 non-null datetime64[ns]\n",
      "user_id         149396 non-null int64\n",
      "dtypes: datetime64[ns](1), float64(1), int64(2), object(1)\n",
      "memory usage: 5.7+ MB\n"
     ]
    }
   ],
   "source": [
    "#меняем тип данных в столбце session_date\n",
    "internet['session_date'] = pd.to_datetime(internet['session_date'], format='%Y-%m-%d')\n",
    "internet.info() "
   ]
  },
  {
   "cell_type": "markdown",
   "metadata": {},
   "source": [
    "<font color='black'>Данные столбца session_date приведены в нужный формат. "
   ]
  },
  {
   "cell_type": "markdown",
   "metadata": {},
   "source": [
    "## Подсчет по месяцам."
   ]
  },
  {
   "cell_type": "code",
   "execution_count": 6,
   "metadata": {},
   "outputs": [
    {
     "data": {
      "text/html": [
       "<div>\n",
       "<style scoped>\n",
       "    .dataframe tbody tr th:only-of-type {\n",
       "        vertical-align: middle;\n",
       "    }\n",
       "\n",
       "    .dataframe tbody tr th {\n",
       "        vertical-align: top;\n",
       "    }\n",
       "\n",
       "    .dataframe thead th {\n",
       "        text-align: right;\n",
       "    }\n",
       "</style>\n",
       "<table border=\"1\" class=\"dataframe\">\n",
       "  <thead>\n",
       "    <tr style=\"text-align: right;\">\n",
       "      <th></th>\n",
       "      <th></th>\n",
       "      <th>duration</th>\n",
       "    </tr>\n",
       "    <tr>\n",
       "      <th>user_id</th>\n",
       "      <th>month</th>\n",
       "      <th></th>\n",
       "    </tr>\n",
       "  </thead>\n",
       "  <tbody>\n",
       "    <tr>\n",
       "      <td rowspan=\"5\" valign=\"top\">1000</td>\n",
       "      <td>5</td>\n",
       "      <td>159.0</td>\n",
       "    </tr>\n",
       "    <tr>\n",
       "      <td>6</td>\n",
       "      <td>172.0</td>\n",
       "    </tr>\n",
       "    <tr>\n",
       "      <td>7</td>\n",
       "      <td>340.0</td>\n",
       "    </tr>\n",
       "    <tr>\n",
       "      <td>8</td>\n",
       "      <td>408.0</td>\n",
       "    </tr>\n",
       "    <tr>\n",
       "      <td>9</td>\n",
       "      <td>466.0</td>\n",
       "    </tr>\n",
       "  </tbody>\n",
       "</table>\n",
       "</div>"
      ],
      "text/plain": [
       "               duration\n",
       "user_id month          \n",
       "1000    5         159.0\n",
       "        6         172.0\n",
       "        7         340.0\n",
       "        8         408.0\n",
       "        9         466.0"
      ]
     },
     "execution_count": 6,
     "metadata": {},
     "output_type": "execute_result"
    }
   ],
   "source": [
    "#создадим столбец month в датасете calls\n",
    "calls['month'] = pd.DatetimeIndex(calls['call_date']).month\n",
    "#округлим все продолжительности звонков в минутах до целых вверх, чтобы соблюсти условие \"«Мегалайн» всегда округляет секунды до минут\". \n",
    "import numpy as np #импортируем библиотеку numpy\n",
    "calls['duration'] = calls['duration'].apply(np.ceil)\n",
    "#подсчитаем для каждого абонента суммарную длительность звонков по месяцам\n",
    "calls_per_month = calls.pivot_table(index = ['user_id','month'], values = 'duration', aggfunc = 'sum')\n",
    "calls_per_month.head(5)"
   ]
  },
  {
   "cell_type": "markdown",
   "metadata": {},
   "source": [
    "<div class=\"alert alert-block alert-success\">\n",
    "✔️ np.ceil не нуждается в apply, т.к. может работать сразу со всем столбцом\n",
    "</div>"
   ]
  },
  {
   "cell_type": "code",
   "execution_count": 7,
   "metadata": {},
   "outputs": [
    {
     "data": {
      "text/html": [
       "<div>\n",
       "<style scoped>\n",
       "    .dataframe tbody tr th:only-of-type {\n",
       "        vertical-align: middle;\n",
       "    }\n",
       "\n",
       "    .dataframe tbody tr th {\n",
       "        vertical-align: top;\n",
       "    }\n",
       "\n",
       "    .dataframe thead th {\n",
       "        text-align: right;\n",
       "    }\n",
       "</style>\n",
       "<table border=\"1\" class=\"dataframe\">\n",
       "  <thead>\n",
       "    <tr style=\"text-align: right;\">\n",
       "      <th></th>\n",
       "      <th></th>\n",
       "      <th>id</th>\n",
       "    </tr>\n",
       "    <tr>\n",
       "      <th>user_id</th>\n",
       "      <th>month</th>\n",
       "      <th></th>\n",
       "    </tr>\n",
       "  </thead>\n",
       "  <tbody>\n",
       "    <tr>\n",
       "      <td rowspan=\"5\" valign=\"top\">1000</td>\n",
       "      <td>5</td>\n",
       "      <td>22</td>\n",
       "    </tr>\n",
       "    <tr>\n",
       "      <td>6</td>\n",
       "      <td>60</td>\n",
       "    </tr>\n",
       "    <tr>\n",
       "      <td>7</td>\n",
       "      <td>75</td>\n",
       "    </tr>\n",
       "    <tr>\n",
       "      <td>8</td>\n",
       "      <td>81</td>\n",
       "    </tr>\n",
       "    <tr>\n",
       "      <td>9</td>\n",
       "      <td>57</td>\n",
       "    </tr>\n",
       "  </tbody>\n",
       "</table>\n",
       "</div>"
      ],
      "text/plain": [
       "               id\n",
       "user_id month    \n",
       "1000    5      22\n",
       "        6      60\n",
       "        7      75\n",
       "        8      81\n",
       "        9      57"
      ]
     },
     "execution_count": 7,
     "metadata": {},
     "output_type": "execute_result"
    }
   ],
   "source": [
    "#создадим столбец month в датасете messages\n",
    "messages['month'] = pd.DatetimeIndex(messages['message_date']).month\n",
    "#подсчитаем для каждого абонента суммарное количество сообщений по месяцам\n",
    "messages_per_month = messages.pivot_table(index = ['user_id','month'], values = 'id', aggfunc = 'count')\n",
    "messages_per_month.head(5) "
   ]
  },
  {
   "cell_type": "code",
   "execution_count": 8,
   "metadata": {
    "scrolled": true
   },
   "outputs": [
    {
     "data": {
      "text/html": [
       "<div>\n",
       "<style scoped>\n",
       "    .dataframe tbody tr th:only-of-type {\n",
       "        vertical-align: middle;\n",
       "    }\n",
       "\n",
       "    .dataframe tbody tr th {\n",
       "        vertical-align: top;\n",
       "    }\n",
       "\n",
       "    .dataframe thead th {\n",
       "        text-align: right;\n",
       "    }\n",
       "</style>\n",
       "<table border=\"1\" class=\"dataframe\">\n",
       "  <thead>\n",
       "    <tr style=\"text-align: right;\">\n",
       "      <th></th>\n",
       "      <th></th>\n",
       "      <th>mb_used</th>\n",
       "      <th>gb_used</th>\n",
       "    </tr>\n",
       "    <tr>\n",
       "      <th>user_id</th>\n",
       "      <th>month</th>\n",
       "      <th></th>\n",
       "      <th></th>\n",
       "    </tr>\n",
       "  </thead>\n",
       "  <tbody>\n",
       "    <tr>\n",
       "      <td rowspan=\"5\" valign=\"top\">1000</td>\n",
       "      <td>5</td>\n",
       "      <td>2253.49</td>\n",
       "      <td>3.0</td>\n",
       "    </tr>\n",
       "    <tr>\n",
       "      <td>6</td>\n",
       "      <td>23233.77</td>\n",
       "      <td>23.0</td>\n",
       "    </tr>\n",
       "    <tr>\n",
       "      <td>7</td>\n",
       "      <td>14003.64</td>\n",
       "      <td>14.0</td>\n",
       "    </tr>\n",
       "    <tr>\n",
       "      <td>8</td>\n",
       "      <td>14055.93</td>\n",
       "      <td>14.0</td>\n",
       "    </tr>\n",
       "    <tr>\n",
       "      <td>9</td>\n",
       "      <td>14568.91</td>\n",
       "      <td>15.0</td>\n",
       "    </tr>\n",
       "  </tbody>\n",
       "</table>\n",
       "</div>"
      ],
      "text/plain": [
       "                mb_used  gb_used\n",
       "user_id month                   \n",
       "1000    5       2253.49      3.0\n",
       "        6      23233.77     23.0\n",
       "        7      14003.64     14.0\n",
       "        8      14055.93     14.0\n",
       "        9      14568.91     15.0"
      ]
     },
     "execution_count": 8,
     "metadata": {},
     "output_type": "execute_result"
    }
   ],
   "source": [
    "#создадим столбец month в датасете internet\n",
    "internet['month'] = pd.DatetimeIndex(internet['session_date']).month\n",
    "#подсчитаем для каждого абонента суммарное количество трафика израсходованного за месяц\n",
    "internet_per_month = internet.pivot_table(index = ['user_id','month'], values = 'mb_used', aggfunc = 'sum')\n",
    "#создадим столбец gb_used в датасете internet_per_mounth\n",
    "internet_per_month['gb_used'] = internet_per_month['mb_used']/1024\n",
    "#округлим месячный трафик в gb до целых вверх, чтобы соблюсти условие:\n",
    "#\"Для веб-трафика отдельные сессии не считаются. Вместо этого общая сумма за месяц округляется \n",
    "#в бо́льшую сторону. Если абонент использует 1025 мегабайт в этом месяце, с него возьмут плату за 2 гигабайта.\". \n",
    "internet_per_month['gb_used'] = internet_per_month['gb_used'].apply(np.ceil)\n",
    "internet_per_month.head(5)"
   ]
  },
  {
   "cell_type": "markdown",
   "metadata": {},
   "source": [
    "<div class=\"alert alert-block alert-danger\">\n",
    "❌ В 1 гигибайте 1024 мегабайта\n",
    "</div>"
   ]
  },
  {
   "cell_type": "markdown",
   "metadata": {},
   "source": [
    "<div class=\"alert alert-block alert-info\">Исправил на 1024"
   ]
  },
  {
   "cell_type": "markdown",
   "metadata": {},
   "source": [
    "<div class=\"alert alert-block alert-success\">\n",
    "✔️ Ревью №2: Теперь полный порядок)\n",
    "</div"
   ]
  },
  {
   "cell_type": "code",
   "execution_count": 9,
   "metadata": {},
   "outputs": [
    {
     "data": {
      "text/html": [
       "<div>\n",
       "<style scoped>\n",
       "    .dataframe tbody tr th:only-of-type {\n",
       "        vertical-align: middle;\n",
       "    }\n",
       "\n",
       "    .dataframe tbody tr th {\n",
       "        vertical-align: top;\n",
       "    }\n",
       "\n",
       "    .dataframe thead th {\n",
       "        text-align: right;\n",
       "    }\n",
       "</style>\n",
       "<table border=\"1\" class=\"dataframe\">\n",
       "  <thead>\n",
       "    <tr style=\"text-align: right;\">\n",
       "      <th></th>\n",
       "      <th>user_id</th>\n",
       "      <th>month</th>\n",
       "      <th>duration</th>\n",
       "      <th>id</th>\n",
       "      <th>mb_used</th>\n",
       "      <th>gb_used</th>\n",
       "    </tr>\n",
       "  </thead>\n",
       "  <tbody>\n",
       "    <tr>\n",
       "      <td>0</td>\n",
       "      <td>1000</td>\n",
       "      <td>5</td>\n",
       "      <td>159.0</td>\n",
       "      <td>22.0</td>\n",
       "      <td>2253.49</td>\n",
       "      <td>3.0</td>\n",
       "    </tr>\n",
       "    <tr>\n",
       "      <td>1</td>\n",
       "      <td>1000</td>\n",
       "      <td>6</td>\n",
       "      <td>172.0</td>\n",
       "      <td>60.0</td>\n",
       "      <td>23233.77</td>\n",
       "      <td>23.0</td>\n",
       "    </tr>\n",
       "    <tr>\n",
       "      <td>2</td>\n",
       "      <td>1000</td>\n",
       "      <td>7</td>\n",
       "      <td>340.0</td>\n",
       "      <td>75.0</td>\n",
       "      <td>14003.64</td>\n",
       "      <td>14.0</td>\n",
       "    </tr>\n",
       "    <tr>\n",
       "      <td>3</td>\n",
       "      <td>1000</td>\n",
       "      <td>8</td>\n",
       "      <td>408.0</td>\n",
       "      <td>81.0</td>\n",
       "      <td>14055.93</td>\n",
       "      <td>14.0</td>\n",
       "    </tr>\n",
       "    <tr>\n",
       "      <td>4</td>\n",
       "      <td>1000</td>\n",
       "      <td>9</td>\n",
       "      <td>466.0</td>\n",
       "      <td>57.0</td>\n",
       "      <td>14568.91</td>\n",
       "      <td>15.0</td>\n",
       "    </tr>\n",
       "  </tbody>\n",
       "</table>\n",
       "</div>"
      ],
      "text/plain": [
       "   user_id  month  duration    id   mb_used  gb_used\n",
       "0     1000      5     159.0  22.0   2253.49      3.0\n",
       "1     1000      6     172.0  60.0  23233.77     23.0\n",
       "2     1000      7     340.0  75.0  14003.64     14.0\n",
       "3     1000      8     408.0  81.0  14055.93     14.0\n",
       "4     1000      9     466.0  57.0  14568.91     15.0"
      ]
     },
     "execution_count": 9,
     "metadata": {},
     "output_type": "execute_result"
    }
   ],
   "source": [
    "#Объединяем таблицы с месячными статистиками\n",
    "data_per_month = calls_per_month.merge(messages_per_month , on = ['user_id', 'month'], how = 'outer')\n",
    "#Добавим статистику по трафику таблицы с месячными статистиками\n",
    "data_per_month = data_per_month.merge(internet_per_month, on = ['user_id', 'month'], how = 'outer').reset_index()\n",
    "data_per_month.head(5)"
   ]
  },
  {
   "cell_type": "code",
   "execution_count": 10,
   "metadata": {},
   "outputs": [
    {
     "data": {
      "text/html": [
       "<div>\n",
       "<style scoped>\n",
       "    .dataframe tbody tr th:only-of-type {\n",
       "        vertical-align: middle;\n",
       "    }\n",
       "\n",
       "    .dataframe tbody tr th {\n",
       "        vertical-align: top;\n",
       "    }\n",
       "\n",
       "    .dataframe thead th {\n",
       "        text-align: right;\n",
       "    }\n",
       "</style>\n",
       "<table border=\"1\" class=\"dataframe\">\n",
       "  <thead>\n",
       "    <tr style=\"text-align: right;\">\n",
       "      <th></th>\n",
       "      <th>user_id</th>\n",
       "      <th>month</th>\n",
       "      <th>duration</th>\n",
       "      <th>id</th>\n",
       "      <th>mb_used</th>\n",
       "      <th>gb_used</th>\n",
       "      <th>city</th>\n",
       "      <th>tariff</th>\n",
       "    </tr>\n",
       "  </thead>\n",
       "  <tbody>\n",
       "    <tr>\n",
       "      <td>0</td>\n",
       "      <td>1000</td>\n",
       "      <td>5.0</td>\n",
       "      <td>159.0</td>\n",
       "      <td>22.0</td>\n",
       "      <td>2253.49</td>\n",
       "      <td>3.0</td>\n",
       "      <td>Краснодар</td>\n",
       "      <td>ultra</td>\n",
       "    </tr>\n",
       "    <tr>\n",
       "      <td>1</td>\n",
       "      <td>1000</td>\n",
       "      <td>6.0</td>\n",
       "      <td>172.0</td>\n",
       "      <td>60.0</td>\n",
       "      <td>23233.77</td>\n",
       "      <td>23.0</td>\n",
       "      <td>Краснодар</td>\n",
       "      <td>ultra</td>\n",
       "    </tr>\n",
       "    <tr>\n",
       "      <td>2</td>\n",
       "      <td>1000</td>\n",
       "      <td>7.0</td>\n",
       "      <td>340.0</td>\n",
       "      <td>75.0</td>\n",
       "      <td>14003.64</td>\n",
       "      <td>14.0</td>\n",
       "      <td>Краснодар</td>\n",
       "      <td>ultra</td>\n",
       "    </tr>\n",
       "    <tr>\n",
       "      <td>3</td>\n",
       "      <td>1000</td>\n",
       "      <td>8.0</td>\n",
       "      <td>408.0</td>\n",
       "      <td>81.0</td>\n",
       "      <td>14055.93</td>\n",
       "      <td>14.0</td>\n",
       "      <td>Краснодар</td>\n",
       "      <td>ultra</td>\n",
       "    </tr>\n",
       "    <tr>\n",
       "      <td>4</td>\n",
       "      <td>1000</td>\n",
       "      <td>9.0</td>\n",
       "      <td>466.0</td>\n",
       "      <td>57.0</td>\n",
       "      <td>14568.91</td>\n",
       "      <td>15.0</td>\n",
       "      <td>Краснодар</td>\n",
       "      <td>ultra</td>\n",
       "    </tr>\n",
       "  </tbody>\n",
       "</table>\n",
       "</div>"
      ],
      "text/plain": [
       "   user_id  month  duration    id   mb_used  gb_used       city tariff\n",
       "0     1000    5.0     159.0  22.0   2253.49      3.0  Краснодар  ultra\n",
       "1     1000    6.0     172.0  60.0  23233.77     23.0  Краснодар  ultra\n",
       "2     1000    7.0     340.0  75.0  14003.64     14.0  Краснодар  ultra\n",
       "3     1000    8.0     408.0  81.0  14055.93     14.0  Краснодар  ultra\n",
       "4     1000    9.0     466.0  57.0  14568.91     15.0  Краснодар  ultra"
      ]
     },
     "execution_count": 10,
     "metadata": {},
     "output_type": "execute_result"
    }
   ],
   "source": [
    "#Присоединим город и тарифный план\n",
    "data_per_month = data_per_month.merge(users[['user_id', 'city', 'tariff']], on = 'user_id', how = 'outer')\n",
    "data_per_month.head(5)\n",
    "#display(data_per_month['duration'].sum(),calls['duration'].sum())"
   ]
  },
  {
   "cell_type": "markdown",
   "metadata": {},
   "source": [
    "<div class=\"alert alert-block alert-success\">\n",
    "✔️ Объединение проведено успешно, оптимальными способами, отлично! Однако, полезно проверять результат сравнивая информацию из исходного набора данных и полученного. Например: проверить, что суммарное количество минут разговоров в <code>data_per_month</code> совпадает с этим значением в <code>calls</code>. Вариантов проверки множество, не пренебрегай этим:)\n",
    "</div>"
   ]
  },
  {
   "cell_type": "markdown",
   "metadata": {},
   "source": [
    "<div class=\"alert alert-block alert-info\">Хорошо. Я проверил совпадение по длительности звонков, а потом закомментил строку с кодом для проверки."
   ]
  },
  {
   "cell_type": "markdown",
   "metadata": {},
   "source": [
    "<div class=\"alert alert-block alert-success\">\n",
    "✔️ Ревью №2: Лучше не комментить, а оставить как есть, эта ячейка будет отличным подтвержением правильности объединения\n",
    "</div"
   ]
  },
  {
   "cell_type": "code",
   "execution_count": 11,
   "metadata": {},
   "outputs": [
    {
     "data": {
      "text/html": [
       "<div>\n",
       "<style scoped>\n",
       "    .dataframe tbody tr th:only-of-type {\n",
       "        vertical-align: middle;\n",
       "    }\n",
       "\n",
       "    .dataframe tbody tr th {\n",
       "        vertical-align: top;\n",
       "    }\n",
       "\n",
       "    .dataframe thead th {\n",
       "        text-align: right;\n",
       "    }\n",
       "</style>\n",
       "<table border=\"1\" class=\"dataframe\">\n",
       "  <thead>\n",
       "    <tr style=\"text-align: right;\">\n",
       "      <th></th>\n",
       "      <th>messages_included</th>\n",
       "      <th>mb_per_month_included</th>\n",
       "      <th>minutes_included</th>\n",
       "      <th>rub_monthly_fee</th>\n",
       "      <th>rub_per_gb</th>\n",
       "      <th>rub_per_message</th>\n",
       "      <th>rub_per_minute</th>\n",
       "      <th>tariff_name</th>\n",
       "    </tr>\n",
       "  </thead>\n",
       "  <tbody>\n",
       "    <tr>\n",
       "      <td>0</td>\n",
       "      <td>50</td>\n",
       "      <td>15360</td>\n",
       "      <td>500</td>\n",
       "      <td>550</td>\n",
       "      <td>200</td>\n",
       "      <td>3</td>\n",
       "      <td>3</td>\n",
       "      <td>smart</td>\n",
       "    </tr>\n",
       "    <tr>\n",
       "      <td>1</td>\n",
       "      <td>1000</td>\n",
       "      <td>30720</td>\n",
       "      <td>3000</td>\n",
       "      <td>1950</td>\n",
       "      <td>150</td>\n",
       "      <td>1</td>\n",
       "      <td>1</td>\n",
       "      <td>ultra</td>\n",
       "    </tr>\n",
       "  </tbody>\n",
       "</table>\n",
       "</div>"
      ],
      "text/plain": [
       "   messages_included  mb_per_month_included  minutes_included  \\\n",
       "0                 50                  15360               500   \n",
       "1               1000                  30720              3000   \n",
       "\n",
       "   rub_monthly_fee  rub_per_gb  rub_per_message  rub_per_minute tariff_name  \n",
       "0              550         200                3               3       smart  \n",
       "1             1950         150                1               1       ultra  "
      ]
     },
     "execution_count": 11,
     "metadata": {},
     "output_type": "execute_result"
    }
   ],
   "source": [
    "tariffs"
   ]
  },
  {
   "cell_type": "code",
   "execution_count": 12,
   "metadata": {},
   "outputs": [
    {
     "name": "stderr",
     "output_type": "stream",
     "text": [
      "/opt/conda/lib/python3.7/site-packages/ipykernel_launcher.py:5: SettingWithCopyWarning: \n",
      "A value is trying to be set on a copy of a slice from a DataFrame.\n",
      "Try using .loc[row_indexer,col_indexer] = value instead\n",
      "\n",
      "See the caveats in the documentation: http://pandas.pydata.org/pandas-docs/stable/user_guide/indexing.html#returning-a-view-versus-a-copy\n",
      "  \"\"\"\n",
      "/opt/conda/lib/python3.7/site-packages/ipykernel_launcher.py:8: SettingWithCopyWarning: \n",
      "A value is trying to be set on a copy of a slice from a DataFrame\n",
      "\n",
      "See the caveats in the documentation: http://pandas.pydata.org/pandas-docs/stable/user_guide/indexing.html#returning-a-view-versus-a-copy\n",
      "  \n",
      "/opt/conda/lib/python3.7/site-packages/pandas/core/generic.py:9114: SettingWithCopyWarning: \n",
      "A value is trying to be set on a copy of a slice from a DataFrame\n",
      "\n",
      "See the caveats in the documentation: http://pandas.pydata.org/pandas-docs/stable/user_guide/indexing.html#returning-a-view-versus-a-copy\n",
      "  self._update_inplace(new_data)\n",
      "/opt/conda/lib/python3.7/site-packages/IPython/core/interactiveshell.py:3441: SettingWithCopyWarning: \n",
      "A value is trying to be set on a copy of a slice from a DataFrame\n",
      "\n",
      "See the caveats in the documentation: http://pandas.pydata.org/pandas-docs/stable/user_guide/indexing.html#returning-a-view-versus-a-copy\n",
      "  exec(code_obj, self.user_global_ns, self.user_ns)\n",
      "/opt/conda/lib/python3.7/site-packages/ipykernel_launcher.py:10: SettingWithCopyWarning: \n",
      "A value is trying to be set on a copy of a slice from a DataFrame.\n",
      "Try using .loc[row_indexer,col_indexer] = value instead\n",
      "\n",
      "See the caveats in the documentation: http://pandas.pydata.org/pandas-docs/stable/user_guide/indexing.html#returning-a-view-versus-a-copy\n",
      "  # Remove the CWD from sys.path while we load stuff.\n",
      "/opt/conda/lib/python3.7/site-packages/ipykernel_launcher.py:13: SettingWithCopyWarning: \n",
      "A value is trying to be set on a copy of a slice from a DataFrame\n",
      "\n",
      "See the caveats in the documentation: http://pandas.pydata.org/pandas-docs/stable/user_guide/indexing.html#returning-a-view-versus-a-copy\n",
      "  del sys.path[0]\n",
      "/opt/conda/lib/python3.7/site-packages/ipykernel_launcher.py:15: SettingWithCopyWarning: \n",
      "A value is trying to be set on a copy of a slice from a DataFrame.\n",
      "Try using .loc[row_indexer,col_indexer] = value instead\n",
      "\n",
      "See the caveats in the documentation: http://pandas.pydata.org/pandas-docs/stable/user_guide/indexing.html#returning-a-view-versus-a-copy\n",
      "  from ipykernel import kernelapp as app\n",
      "/opt/conda/lib/python3.7/site-packages/ipykernel_launcher.py:18: SettingWithCopyWarning: \n",
      "A value is trying to be set on a copy of a slice from a DataFrame\n",
      "\n",
      "See the caveats in the documentation: http://pandas.pydata.org/pandas-docs/stable/user_guide/indexing.html#returning-a-view-versus-a-copy\n",
      "/opt/conda/lib/python3.7/site-packages/ipykernel_launcher.py:23: SettingWithCopyWarning: \n",
      "A value is trying to be set on a copy of a slice from a DataFrame.\n",
      "Try using .loc[row_indexer,col_indexer] = value instead\n",
      "\n",
      "See the caveats in the documentation: http://pandas.pydata.org/pandas-docs/stable/user_guide/indexing.html#returning-a-view-versus-a-copy\n"
     ]
    },
    {
     "data": {
      "text/html": [
       "<div>\n",
       "<style scoped>\n",
       "    .dataframe tbody tr th:only-of-type {\n",
       "        vertical-align: middle;\n",
       "    }\n",
       "\n",
       "    .dataframe tbody tr th {\n",
       "        vertical-align: top;\n",
       "    }\n",
       "\n",
       "    .dataframe thead th {\n",
       "        text-align: right;\n",
       "    }\n",
       "</style>\n",
       "<table border=\"1\" class=\"dataframe\">\n",
       "  <thead>\n",
       "    <tr style=\"text-align: right;\">\n",
       "      <th></th>\n",
       "      <th>user_id</th>\n",
       "      <th>month</th>\n",
       "      <th>duration</th>\n",
       "      <th>id</th>\n",
       "      <th>mb_used</th>\n",
       "      <th>gb_used</th>\n",
       "      <th>city</th>\n",
       "      <th>tariff</th>\n",
       "      <th>call_over_lim</th>\n",
       "      <th>message_over_lim</th>\n",
       "      <th>gb_over_lim</th>\n",
       "      <th>proceeds</th>\n",
       "    </tr>\n",
       "  </thead>\n",
       "  <tbody>\n",
       "    <tr>\n",
       "      <td>0</td>\n",
       "      <td>1000</td>\n",
       "      <td>5.0</td>\n",
       "      <td>159.0</td>\n",
       "      <td>22.0</td>\n",
       "      <td>2253.49</td>\n",
       "      <td>3.0</td>\n",
       "      <td>Краснодар</td>\n",
       "      <td>ultra</td>\n",
       "      <td>0.0</td>\n",
       "      <td>0.0</td>\n",
       "      <td>0.0</td>\n",
       "      <td>1950.0</td>\n",
       "    </tr>\n",
       "    <tr>\n",
       "      <td>1</td>\n",
       "      <td>1000</td>\n",
       "      <td>6.0</td>\n",
       "      <td>172.0</td>\n",
       "      <td>60.0</td>\n",
       "      <td>23233.77</td>\n",
       "      <td>23.0</td>\n",
       "      <td>Краснодар</td>\n",
       "      <td>ultra</td>\n",
       "      <td>0.0</td>\n",
       "      <td>0.0</td>\n",
       "      <td>0.0</td>\n",
       "      <td>1950.0</td>\n",
       "    </tr>\n",
       "    <tr>\n",
       "      <td>2</td>\n",
       "      <td>1000</td>\n",
       "      <td>7.0</td>\n",
       "      <td>340.0</td>\n",
       "      <td>75.0</td>\n",
       "      <td>14003.64</td>\n",
       "      <td>14.0</td>\n",
       "      <td>Краснодар</td>\n",
       "      <td>ultra</td>\n",
       "      <td>0.0</td>\n",
       "      <td>0.0</td>\n",
       "      <td>0.0</td>\n",
       "      <td>1950.0</td>\n",
       "    </tr>\n",
       "    <tr>\n",
       "      <td>3</td>\n",
       "      <td>1000</td>\n",
       "      <td>8.0</td>\n",
       "      <td>408.0</td>\n",
       "      <td>81.0</td>\n",
       "      <td>14055.93</td>\n",
       "      <td>14.0</td>\n",
       "      <td>Краснодар</td>\n",
       "      <td>ultra</td>\n",
       "      <td>0.0</td>\n",
       "      <td>0.0</td>\n",
       "      <td>0.0</td>\n",
       "      <td>1950.0</td>\n",
       "    </tr>\n",
       "    <tr>\n",
       "      <td>4</td>\n",
       "      <td>1000</td>\n",
       "      <td>9.0</td>\n",
       "      <td>466.0</td>\n",
       "      <td>57.0</td>\n",
       "      <td>14568.91</td>\n",
       "      <td>15.0</td>\n",
       "      <td>Краснодар</td>\n",
       "      <td>ultra</td>\n",
       "      <td>0.0</td>\n",
       "      <td>0.0</td>\n",
       "      <td>0.0</td>\n",
       "      <td>1950.0</td>\n",
       "    </tr>\n",
       "    <tr>\n",
       "      <td>...</td>\n",
       "      <td>...</td>\n",
       "      <td>...</td>\n",
       "      <td>...</td>\n",
       "      <td>...</td>\n",
       "      <td>...</td>\n",
       "      <td>...</td>\n",
       "      <td>...</td>\n",
       "      <td>...</td>\n",
       "      <td>...</td>\n",
       "      <td>...</td>\n",
       "      <td>...</td>\n",
       "      <td>...</td>\n",
       "    </tr>\n",
       "    <tr>\n",
       "      <td>3205</td>\n",
       "      <td>1473</td>\n",
       "      <td>9.0</td>\n",
       "      <td>NaN</td>\n",
       "      <td>19.0</td>\n",
       "      <td>17289.85</td>\n",
       "      <td>17.0</td>\n",
       "      <td>Красноярск</td>\n",
       "      <td>ultra</td>\n",
       "      <td>NaN</td>\n",
       "      <td>0.0</td>\n",
       "      <td>0.0</td>\n",
       "      <td>NaN</td>\n",
       "    </tr>\n",
       "    <tr>\n",
       "      <td>3206</td>\n",
       "      <td>1473</td>\n",
       "      <td>10.0</td>\n",
       "      <td>NaN</td>\n",
       "      <td>20.0</td>\n",
       "      <td>13688.65</td>\n",
       "      <td>14.0</td>\n",
       "      <td>Красноярск</td>\n",
       "      <td>ultra</td>\n",
       "      <td>NaN</td>\n",
       "      <td>0.0</td>\n",
       "      <td>0.0</td>\n",
       "      <td>NaN</td>\n",
       "    </tr>\n",
       "    <tr>\n",
       "      <td>3207</td>\n",
       "      <td>1473</td>\n",
       "      <td>11.0</td>\n",
       "      <td>NaN</td>\n",
       "      <td>14.0</td>\n",
       "      <td>21673.80</td>\n",
       "      <td>22.0</td>\n",
       "      <td>Красноярск</td>\n",
       "      <td>ultra</td>\n",
       "      <td>NaN</td>\n",
       "      <td>0.0</td>\n",
       "      <td>0.0</td>\n",
       "      <td>NaN</td>\n",
       "    </tr>\n",
       "    <tr>\n",
       "      <td>3208</td>\n",
       "      <td>1473</td>\n",
       "      <td>12.0</td>\n",
       "      <td>NaN</td>\n",
       "      <td>20.0</td>\n",
       "      <td>18418.26</td>\n",
       "      <td>18.0</td>\n",
       "      <td>Красноярск</td>\n",
       "      <td>ultra</td>\n",
       "      <td>NaN</td>\n",
       "      <td>0.0</td>\n",
       "      <td>0.0</td>\n",
       "      <td>NaN</td>\n",
       "    </tr>\n",
       "    <tr>\n",
       "      <td>3214</td>\n",
       "      <td>1128</td>\n",
       "      <td>NaN</td>\n",
       "      <td>NaN</td>\n",
       "      <td>NaN</td>\n",
       "      <td>NaN</td>\n",
       "      <td>NaN</td>\n",
       "      <td>Волжский</td>\n",
       "      <td>ultra</td>\n",
       "      <td>NaN</td>\n",
       "      <td>NaN</td>\n",
       "      <td>NaN</td>\n",
       "      <td>NaN</td>\n",
       "    </tr>\n",
       "  </tbody>\n",
       "</table>\n",
       "<p>986 rows × 12 columns</p>\n",
       "</div>"
      ],
      "text/plain": [
       "      user_id  month  duration    id   mb_used  gb_used        city tariff  \\\n",
       "0        1000    5.0     159.0  22.0   2253.49      3.0   Краснодар  ultra   \n",
       "1        1000    6.0     172.0  60.0  23233.77     23.0   Краснодар  ultra   \n",
       "2        1000    7.0     340.0  75.0  14003.64     14.0   Краснодар  ultra   \n",
       "3        1000    8.0     408.0  81.0  14055.93     14.0   Краснодар  ultra   \n",
       "4        1000    9.0     466.0  57.0  14568.91     15.0   Краснодар  ultra   \n",
       "...       ...    ...       ...   ...       ...      ...         ...    ...   \n",
       "3205     1473    9.0       NaN  19.0  17289.85     17.0  Красноярск  ultra   \n",
       "3206     1473   10.0       NaN  20.0  13688.65     14.0  Красноярск  ultra   \n",
       "3207     1473   11.0       NaN  14.0  21673.80     22.0  Красноярск  ultra   \n",
       "3208     1473   12.0       NaN  20.0  18418.26     18.0  Красноярск  ultra   \n",
       "3214     1128    NaN       NaN   NaN       NaN      NaN    Волжский  ultra   \n",
       "\n",
       "      call_over_lim  message_over_lim  gb_over_lim  proceeds  \n",
       "0               0.0               0.0          0.0    1950.0  \n",
       "1               0.0               0.0          0.0    1950.0  \n",
       "2               0.0               0.0          0.0    1950.0  \n",
       "3               0.0               0.0          0.0    1950.0  \n",
       "4               0.0               0.0          0.0    1950.0  \n",
       "...             ...               ...          ...       ...  \n",
       "3205            NaN               0.0          0.0       NaN  \n",
       "3206            NaN               0.0          0.0       NaN  \n",
       "3207            NaN               0.0          0.0       NaN  \n",
       "3208            NaN               0.0          0.0       NaN  \n",
       "3214            NaN               NaN          NaN       NaN  \n",
       "\n",
       "[986 rows x 12 columns]"
      ]
     },
     "execution_count": 12,
     "metadata": {},
     "output_type": "execute_result"
    }
   ],
   "source": [
    "#посчитаем помесячную выручку для каждого пользователя тарифа ультра\n",
    "#сделаем срез со строками для тарифа ультра\n",
    "sample_ultra = data_per_month[data_per_month['tariff'] == 'ultra']\n",
    "#создадим столбец с перерасходом для звонков\n",
    "sample_ultra['call_over_lim'] = sample_ultra['duration']-tariffs.loc[1,'minutes_included']\n",
    "#уберем отрицательные значения из столбца и заменим их нулями\n",
    "for index in range(len(sample_ultra)):\n",
    "    sample_ultra['call_over_lim'][sample_ultra['call_over_lim'] < 0] = 0\n",
    "#создадим столбец с перерасходом для сообщений\n",
    "sample_ultra['message_over_lim'] = sample_ultra['id']-tariffs.loc[1,'messages_included']\n",
    "#уберем отрицательные значения из столбца и заменим их нулями\n",
    "for index in range(len(sample_ultra)):\n",
    "    sample_ultra['message_over_lim'][sample_ultra['message_over_lim'] < 0] = 0   \n",
    "#создадим столбец с перерасходом для интернет трафика\n",
    "sample_ultra['gb_over_lim'] = sample_ultra['gb_used']-tariffs.loc[1,'mb_per_month_included']/1024\n",
    "#уберем отрицательные значения из столбца и заменим их нулями\n",
    "for index in range(len(sample_ultra)):\n",
    "    sample_ultra['gb_over_lim'][sample_ultra['gb_over_lim'] < 0] = 0       \n",
    "#создадим столбец с выручкой\n",
    "sample_ultra['proceeds'] = (sample_ultra['call_over_lim']*tariffs.loc[1,'rub_per_minute'] + \n",
    "                            sample_ultra['message_over_lim']*tariffs.loc[1,'rub_per_message']+\n",
    "                            sample_ultra['gb_over_lim']*tariffs.loc[1,'rub_per_gb']+ \n",
    "                            tariffs.loc[1,'rub_monthly_fee'])\n",
    "sample_ultra"
   ]
  },
  {
   "cell_type": "markdown",
   "metadata": {},
   "source": [
    "<div class=\"alert alert-block alert-success\">\n",
    "✔️ Можно чуть упростить и оптимизировать твой код: вместо проверок на положительность можно просто брать максимум из нуля и выручки\n",
    "</div>"
   ]
  },
  {
   "cell_type": "code",
   "execution_count": 13,
   "metadata": {},
   "outputs": [
    {
     "name": "stderr",
     "output_type": "stream",
     "text": [
      "/opt/conda/lib/python3.7/site-packages/ipykernel_launcher.py:5: SettingWithCopyWarning: \n",
      "A value is trying to be set on a copy of a slice from a DataFrame.\n",
      "Try using .loc[row_indexer,col_indexer] = value instead\n",
      "\n",
      "See the caveats in the documentation: http://pandas.pydata.org/pandas-docs/stable/user_guide/indexing.html#returning-a-view-versus-a-copy\n",
      "  \"\"\"\n",
      "/opt/conda/lib/python3.7/site-packages/ipykernel_launcher.py:8: SettingWithCopyWarning: \n",
      "A value is trying to be set on a copy of a slice from a DataFrame\n",
      "\n",
      "See the caveats in the documentation: http://pandas.pydata.org/pandas-docs/stable/user_guide/indexing.html#returning-a-view-versus-a-copy\n",
      "  \n",
      "/opt/conda/lib/python3.7/site-packages/ipykernel_launcher.py:10: SettingWithCopyWarning: \n",
      "A value is trying to be set on a copy of a slice from a DataFrame.\n",
      "Try using .loc[row_indexer,col_indexer] = value instead\n",
      "\n",
      "See the caveats in the documentation: http://pandas.pydata.org/pandas-docs/stable/user_guide/indexing.html#returning-a-view-versus-a-copy\n",
      "  # Remove the CWD from sys.path while we load stuff.\n",
      "/opt/conda/lib/python3.7/site-packages/ipykernel_launcher.py:13: SettingWithCopyWarning: \n",
      "A value is trying to be set on a copy of a slice from a DataFrame\n",
      "\n",
      "See the caveats in the documentation: http://pandas.pydata.org/pandas-docs/stable/user_guide/indexing.html#returning-a-view-versus-a-copy\n",
      "  del sys.path[0]\n",
      "/opt/conda/lib/python3.7/site-packages/ipykernel_launcher.py:15: SettingWithCopyWarning: \n",
      "A value is trying to be set on a copy of a slice from a DataFrame.\n",
      "Try using .loc[row_indexer,col_indexer] = value instead\n",
      "\n",
      "See the caveats in the documentation: http://pandas.pydata.org/pandas-docs/stable/user_guide/indexing.html#returning-a-view-versus-a-copy\n",
      "  from ipykernel import kernelapp as app\n",
      "/opt/conda/lib/python3.7/site-packages/ipykernel_launcher.py:18: SettingWithCopyWarning: \n",
      "A value is trying to be set on a copy of a slice from a DataFrame\n",
      "\n",
      "See the caveats in the documentation: http://pandas.pydata.org/pandas-docs/stable/user_guide/indexing.html#returning-a-view-versus-a-copy\n",
      "/opt/conda/lib/python3.7/site-packages/ipykernel_launcher.py:23: SettingWithCopyWarning: \n",
      "A value is trying to be set on a copy of a slice from a DataFrame.\n",
      "Try using .loc[row_indexer,col_indexer] = value instead\n",
      "\n",
      "See the caveats in the documentation: http://pandas.pydata.org/pandas-docs/stable/user_guide/indexing.html#returning-a-view-versus-a-copy\n"
     ]
    },
    {
     "data": {
      "text/html": [
       "<div>\n",
       "<style scoped>\n",
       "    .dataframe tbody tr th:only-of-type {\n",
       "        vertical-align: middle;\n",
       "    }\n",
       "\n",
       "    .dataframe tbody tr th {\n",
       "        vertical-align: top;\n",
       "    }\n",
       "\n",
       "    .dataframe thead th {\n",
       "        text-align: right;\n",
       "    }\n",
       "</style>\n",
       "<table border=\"1\" class=\"dataframe\">\n",
       "  <thead>\n",
       "    <tr style=\"text-align: right;\">\n",
       "      <th></th>\n",
       "      <th>user_id</th>\n",
       "      <th>month</th>\n",
       "      <th>duration</th>\n",
       "      <th>id</th>\n",
       "      <th>mb_used</th>\n",
       "      <th>gb_used</th>\n",
       "      <th>city</th>\n",
       "      <th>tariff</th>\n",
       "      <th>call_over_lim</th>\n",
       "      <th>message_over_lim</th>\n",
       "      <th>gb_over_lim</th>\n",
       "      <th>proceeds</th>\n",
       "    </tr>\n",
       "  </thead>\n",
       "  <tbody>\n",
       "    <tr>\n",
       "      <td>8</td>\n",
       "      <td>1001</td>\n",
       "      <td>11.0</td>\n",
       "      <td>430.0</td>\n",
       "      <td>NaN</td>\n",
       "      <td>18429.34</td>\n",
       "      <td>18.0</td>\n",
       "      <td>Москва</td>\n",
       "      <td>smart</td>\n",
       "      <td>0.0</td>\n",
       "      <td>NaN</td>\n",
       "      <td>3.0</td>\n",
       "      <td>NaN</td>\n",
       "    </tr>\n",
       "    <tr>\n",
       "      <td>9</td>\n",
       "      <td>1001</td>\n",
       "      <td>12.0</td>\n",
       "      <td>414.0</td>\n",
       "      <td>NaN</td>\n",
       "      <td>14036.66</td>\n",
       "      <td>14.0</td>\n",
       "      <td>Москва</td>\n",
       "      <td>smart</td>\n",
       "      <td>0.0</td>\n",
       "      <td>NaN</td>\n",
       "      <td>0.0</td>\n",
       "      <td>NaN</td>\n",
       "    </tr>\n",
       "    <tr>\n",
       "      <td>10</td>\n",
       "      <td>1002</td>\n",
       "      <td>6.0</td>\n",
       "      <td>117.0</td>\n",
       "      <td>4.0</td>\n",
       "      <td>10856.82</td>\n",
       "      <td>11.0</td>\n",
       "      <td>Стерлитамак</td>\n",
       "      <td>smart</td>\n",
       "      <td>0.0</td>\n",
       "      <td>0.0</td>\n",
       "      <td>0.0</td>\n",
       "      <td>550.0</td>\n",
       "    </tr>\n",
       "    <tr>\n",
       "      <td>11</td>\n",
       "      <td>1002</td>\n",
       "      <td>7.0</td>\n",
       "      <td>214.0</td>\n",
       "      <td>11.0</td>\n",
       "      <td>17580.10</td>\n",
       "      <td>18.0</td>\n",
       "      <td>Стерлитамак</td>\n",
       "      <td>smart</td>\n",
       "      <td>0.0</td>\n",
       "      <td>0.0</td>\n",
       "      <td>3.0</td>\n",
       "      <td>1150.0</td>\n",
       "    </tr>\n",
       "    <tr>\n",
       "      <td>12</td>\n",
       "      <td>1002</td>\n",
       "      <td>8.0</td>\n",
       "      <td>289.0</td>\n",
       "      <td>13.0</td>\n",
       "      <td>20319.26</td>\n",
       "      <td>20.0</td>\n",
       "      <td>Стерлитамак</td>\n",
       "      <td>smart</td>\n",
       "      <td>0.0</td>\n",
       "      <td>0.0</td>\n",
       "      <td>5.0</td>\n",
       "      <td>1550.0</td>\n",
       "    </tr>\n",
       "    <tr>\n",
       "      <td>...</td>\n",
       "      <td>...</td>\n",
       "      <td>...</td>\n",
       "      <td>...</td>\n",
       "      <td>...</td>\n",
       "      <td>...</td>\n",
       "      <td>...</td>\n",
       "      <td>...</td>\n",
       "      <td>...</td>\n",
       "      <td>...</td>\n",
       "      <td>...</td>\n",
       "      <td>...</td>\n",
       "      <td>...</td>\n",
       "    </tr>\n",
       "    <tr>\n",
       "      <td>3210</td>\n",
       "      <td>1489</td>\n",
       "      <td>9.0</td>\n",
       "      <td>NaN</td>\n",
       "      <td>32.0</td>\n",
       "      <td>17206.30</td>\n",
       "      <td>17.0</td>\n",
       "      <td>Санкт-Петербург</td>\n",
       "      <td>smart</td>\n",
       "      <td>NaN</td>\n",
       "      <td>0.0</td>\n",
       "      <td>2.0</td>\n",
       "      <td>NaN</td>\n",
       "    </tr>\n",
       "    <tr>\n",
       "      <td>3211</td>\n",
       "      <td>1489</td>\n",
       "      <td>10.0</td>\n",
       "      <td>NaN</td>\n",
       "      <td>21.0</td>\n",
       "      <td>19559.44</td>\n",
       "      <td>20.0</td>\n",
       "      <td>Санкт-Петербург</td>\n",
       "      <td>smart</td>\n",
       "      <td>NaN</td>\n",
       "      <td>0.0</td>\n",
       "      <td>5.0</td>\n",
       "      <td>NaN</td>\n",
       "    </tr>\n",
       "    <tr>\n",
       "      <td>3212</td>\n",
       "      <td>1489</td>\n",
       "      <td>11.0</td>\n",
       "      <td>NaN</td>\n",
       "      <td>20.0</td>\n",
       "      <td>17491.56</td>\n",
       "      <td>18.0</td>\n",
       "      <td>Санкт-Петербург</td>\n",
       "      <td>smart</td>\n",
       "      <td>NaN</td>\n",
       "      <td>0.0</td>\n",
       "      <td>3.0</td>\n",
       "      <td>NaN</td>\n",
       "    </tr>\n",
       "    <tr>\n",
       "      <td>3213</td>\n",
       "      <td>1489</td>\n",
       "      <td>12.0</td>\n",
       "      <td>NaN</td>\n",
       "      <td>35.0</td>\n",
       "      <td>17322.51</td>\n",
       "      <td>17.0</td>\n",
       "      <td>Санкт-Петербург</td>\n",
       "      <td>smart</td>\n",
       "      <td>NaN</td>\n",
       "      <td>0.0</td>\n",
       "      <td>2.0</td>\n",
       "      <td>NaN</td>\n",
       "    </tr>\n",
       "    <tr>\n",
       "      <td>3215</td>\n",
       "      <td>1371</td>\n",
       "      <td>NaN</td>\n",
       "      <td>NaN</td>\n",
       "      <td>NaN</td>\n",
       "      <td>NaN</td>\n",
       "      <td>NaN</td>\n",
       "      <td>Омск</td>\n",
       "      <td>smart</td>\n",
       "      <td>NaN</td>\n",
       "      <td>NaN</td>\n",
       "      <td>NaN</td>\n",
       "      <td>NaN</td>\n",
       "    </tr>\n",
       "  </tbody>\n",
       "</table>\n",
       "<p>2230 rows × 12 columns</p>\n",
       "</div>"
      ],
      "text/plain": [
       "      user_id  month  duration    id   mb_used  gb_used             city  \\\n",
       "8        1001   11.0     430.0   NaN  18429.34     18.0           Москва   \n",
       "9        1001   12.0     414.0   NaN  14036.66     14.0           Москва   \n",
       "10       1002    6.0     117.0   4.0  10856.82     11.0      Стерлитамак   \n",
       "11       1002    7.0     214.0  11.0  17580.10     18.0      Стерлитамак   \n",
       "12       1002    8.0     289.0  13.0  20319.26     20.0      Стерлитамак   \n",
       "...       ...    ...       ...   ...       ...      ...              ...   \n",
       "3210     1489    9.0       NaN  32.0  17206.30     17.0  Санкт-Петербург   \n",
       "3211     1489   10.0       NaN  21.0  19559.44     20.0  Санкт-Петербург   \n",
       "3212     1489   11.0       NaN  20.0  17491.56     18.0  Санкт-Петербург   \n",
       "3213     1489   12.0       NaN  35.0  17322.51     17.0  Санкт-Петербург   \n",
       "3215     1371    NaN       NaN   NaN       NaN      NaN             Омск   \n",
       "\n",
       "     tariff  call_over_lim  message_over_lim  gb_over_lim  proceeds  \n",
       "8     smart            0.0               NaN          3.0       NaN  \n",
       "9     smart            0.0               NaN          0.0       NaN  \n",
       "10    smart            0.0               0.0          0.0     550.0  \n",
       "11    smart            0.0               0.0          3.0    1150.0  \n",
       "12    smart            0.0               0.0          5.0    1550.0  \n",
       "...     ...            ...               ...          ...       ...  \n",
       "3210  smart            NaN               0.0          2.0       NaN  \n",
       "3211  smart            NaN               0.0          5.0       NaN  \n",
       "3212  smart            NaN               0.0          3.0       NaN  \n",
       "3213  smart            NaN               0.0          2.0       NaN  \n",
       "3215  smart            NaN               NaN          NaN       NaN  \n",
       "\n",
       "[2230 rows x 12 columns]"
      ]
     },
     "execution_count": 13,
     "metadata": {},
     "output_type": "execute_result"
    }
   ],
   "source": [
    "#посчитаем помесячную выручку для каждого пользователя тарифа смарт\n",
    "#сделаем срез со строками для тарифа смарт\n",
    "sample_smart = data_per_month[data_per_month['tariff'] == 'smart']\n",
    "#создадим столбец с перерасходом для звонков\n",
    "sample_smart['call_over_lim'] = sample_smart['duration']-tariffs.loc[0,'minutes_included']\n",
    "#уберем отрицательные значения из столбца и заменим их нулями\n",
    "for index in range(len(sample_smart)):\n",
    "    sample_smart['call_over_lim'][sample_smart['call_over_lim'] < 0] = 0\n",
    "#создадим столбец с перерасходом для сообщений\n",
    "sample_smart['message_over_lim'] = sample_smart['id']-tariffs.loc[0,'messages_included']\n",
    "#уберем отрицательные значения из столбца и заменим их нулями\n",
    "for index in range(len(sample_smart)):\n",
    "    sample_smart['message_over_lim'][sample_smart['message_over_lim'] < 0] = 0   \n",
    "#создадим столбец с перерасходом для интернет трафика\n",
    "sample_smart['gb_over_lim'] = sample_smart['gb_used']-tariffs.loc[0,'mb_per_month_included']/1024\n",
    "#уберем отрицательные значения из столбца и заменим их нулями\n",
    "for index in range(len(sample_smart)):\n",
    "    sample_smart['gb_over_lim'][sample_smart['gb_over_lim'] < 0] = 0       \n",
    "#создадим столбец с выручкой\n",
    "sample_smart['proceeds'] = (sample_smart['call_over_lim']*tariffs.loc[0,'rub_per_minute'] + \n",
    "                            sample_smart['message_over_lim']*tariffs.loc[0,'rub_per_message']+\n",
    "                            sample_smart['gb_over_lim']*tariffs.loc[0,'rub_per_gb']+ \n",
    "                            tariffs.loc[0,'rub_monthly_fee'])\n",
    "sample_smart"
   ]
  },
  {
   "cell_type": "markdown",
   "metadata": {},
   "source": [
    "<div class=\"alert alert-block alert-warning\">\n",
    "⚠️ Для расчёта выручки ты дублируешь код для двух тарифов, лучше обернуть его в функцию\n",
    "</div>"
   ]
  },
  {
   "cell_type": "code",
   "execution_count": 14,
   "metadata": {},
   "outputs": [
    {
     "data": {
      "text/html": [
       "<div>\n",
       "<style scoped>\n",
       "    .dataframe tbody tr th:only-of-type {\n",
       "        vertical-align: middle;\n",
       "    }\n",
       "\n",
       "    .dataframe tbody tr th {\n",
       "        vertical-align: top;\n",
       "    }\n",
       "\n",
       "    .dataframe thead th {\n",
       "        text-align: right;\n",
       "    }\n",
       "</style>\n",
       "<table border=\"1\" class=\"dataframe\">\n",
       "  <thead>\n",
       "    <tr style=\"text-align: right;\">\n",
       "      <th></th>\n",
       "      <th>user_id</th>\n",
       "      <th>month</th>\n",
       "      <th>duration</th>\n",
       "      <th>id</th>\n",
       "      <th>mb_used</th>\n",
       "      <th>gb_used</th>\n",
       "      <th>city</th>\n",
       "      <th>tariff</th>\n",
       "      <th>call_over_lim</th>\n",
       "      <th>message_over_lim</th>\n",
       "      <th>gb_over_lim</th>\n",
       "      <th>proceeds</th>\n",
       "    </tr>\n",
       "  </thead>\n",
       "  <tbody>\n",
       "    <tr>\n",
       "      <td>8</td>\n",
       "      <td>1001</td>\n",
       "      <td>11.0</td>\n",
       "      <td>430.0</td>\n",
       "      <td>NaN</td>\n",
       "      <td>18429.34</td>\n",
       "      <td>18.0</td>\n",
       "      <td>Москва</td>\n",
       "      <td>smart</td>\n",
       "      <td>0.0</td>\n",
       "      <td>NaN</td>\n",
       "      <td>3.0</td>\n",
       "      <td>NaN</td>\n",
       "    </tr>\n",
       "    <tr>\n",
       "      <td>9</td>\n",
       "      <td>1001</td>\n",
       "      <td>12.0</td>\n",
       "      <td>414.0</td>\n",
       "      <td>NaN</td>\n",
       "      <td>14036.66</td>\n",
       "      <td>14.0</td>\n",
       "      <td>Москва</td>\n",
       "      <td>smart</td>\n",
       "      <td>0.0</td>\n",
       "      <td>NaN</td>\n",
       "      <td>0.0</td>\n",
       "      <td>NaN</td>\n",
       "    </tr>\n",
       "    <tr>\n",
       "      <td>10</td>\n",
       "      <td>1002</td>\n",
       "      <td>6.0</td>\n",
       "      <td>117.0</td>\n",
       "      <td>4.0</td>\n",
       "      <td>10856.82</td>\n",
       "      <td>11.0</td>\n",
       "      <td>Стерлитамак</td>\n",
       "      <td>smart</td>\n",
       "      <td>0.0</td>\n",
       "      <td>0.0</td>\n",
       "      <td>0.0</td>\n",
       "      <td>550.0</td>\n",
       "    </tr>\n",
       "    <tr>\n",
       "      <td>11</td>\n",
       "      <td>1002</td>\n",
       "      <td>7.0</td>\n",
       "      <td>214.0</td>\n",
       "      <td>11.0</td>\n",
       "      <td>17580.10</td>\n",
       "      <td>18.0</td>\n",
       "      <td>Стерлитамак</td>\n",
       "      <td>smart</td>\n",
       "      <td>0.0</td>\n",
       "      <td>0.0</td>\n",
       "      <td>3.0</td>\n",
       "      <td>1150.0</td>\n",
       "    </tr>\n",
       "    <tr>\n",
       "      <td>12</td>\n",
       "      <td>1002</td>\n",
       "      <td>8.0</td>\n",
       "      <td>289.0</td>\n",
       "      <td>13.0</td>\n",
       "      <td>20319.26</td>\n",
       "      <td>20.0</td>\n",
       "      <td>Стерлитамак</td>\n",
       "      <td>smart</td>\n",
       "      <td>0.0</td>\n",
       "      <td>0.0</td>\n",
       "      <td>5.0</td>\n",
       "      <td>1550.0</td>\n",
       "    </tr>\n",
       "    <tr>\n",
       "      <td>...</td>\n",
       "      <td>...</td>\n",
       "      <td>...</td>\n",
       "      <td>...</td>\n",
       "      <td>...</td>\n",
       "      <td>...</td>\n",
       "      <td>...</td>\n",
       "      <td>...</td>\n",
       "      <td>...</td>\n",
       "      <td>...</td>\n",
       "      <td>...</td>\n",
       "      <td>...</td>\n",
       "      <td>...</td>\n",
       "    </tr>\n",
       "    <tr>\n",
       "      <td>3205</td>\n",
       "      <td>1473</td>\n",
       "      <td>9.0</td>\n",
       "      <td>NaN</td>\n",
       "      <td>19.0</td>\n",
       "      <td>17289.85</td>\n",
       "      <td>17.0</td>\n",
       "      <td>Красноярск</td>\n",
       "      <td>ultra</td>\n",
       "      <td>NaN</td>\n",
       "      <td>0.0</td>\n",
       "      <td>0.0</td>\n",
       "      <td>NaN</td>\n",
       "    </tr>\n",
       "    <tr>\n",
       "      <td>3206</td>\n",
       "      <td>1473</td>\n",
       "      <td>10.0</td>\n",
       "      <td>NaN</td>\n",
       "      <td>20.0</td>\n",
       "      <td>13688.65</td>\n",
       "      <td>14.0</td>\n",
       "      <td>Красноярск</td>\n",
       "      <td>ultra</td>\n",
       "      <td>NaN</td>\n",
       "      <td>0.0</td>\n",
       "      <td>0.0</td>\n",
       "      <td>NaN</td>\n",
       "    </tr>\n",
       "    <tr>\n",
       "      <td>3207</td>\n",
       "      <td>1473</td>\n",
       "      <td>11.0</td>\n",
       "      <td>NaN</td>\n",
       "      <td>14.0</td>\n",
       "      <td>21673.80</td>\n",
       "      <td>22.0</td>\n",
       "      <td>Красноярск</td>\n",
       "      <td>ultra</td>\n",
       "      <td>NaN</td>\n",
       "      <td>0.0</td>\n",
       "      <td>0.0</td>\n",
       "      <td>NaN</td>\n",
       "    </tr>\n",
       "    <tr>\n",
       "      <td>3208</td>\n",
       "      <td>1473</td>\n",
       "      <td>12.0</td>\n",
       "      <td>NaN</td>\n",
       "      <td>20.0</td>\n",
       "      <td>18418.26</td>\n",
       "      <td>18.0</td>\n",
       "      <td>Красноярск</td>\n",
       "      <td>ultra</td>\n",
       "      <td>NaN</td>\n",
       "      <td>0.0</td>\n",
       "      <td>0.0</td>\n",
       "      <td>NaN</td>\n",
       "    </tr>\n",
       "    <tr>\n",
       "      <td>3214</td>\n",
       "      <td>1128</td>\n",
       "      <td>NaN</td>\n",
       "      <td>NaN</td>\n",
       "      <td>NaN</td>\n",
       "      <td>NaN</td>\n",
       "      <td>NaN</td>\n",
       "      <td>Волжский</td>\n",
       "      <td>ultra</td>\n",
       "      <td>NaN</td>\n",
       "      <td>NaN</td>\n",
       "      <td>NaN</td>\n",
       "      <td>NaN</td>\n",
       "    </tr>\n",
       "  </tbody>\n",
       "</table>\n",
       "<p>3216 rows × 12 columns</p>\n",
       "</div>"
      ],
      "text/plain": [
       "      user_id  month  duration    id   mb_used  gb_used         city tariff  \\\n",
       "8        1001   11.0     430.0   NaN  18429.34     18.0       Москва  smart   \n",
       "9        1001   12.0     414.0   NaN  14036.66     14.0       Москва  smart   \n",
       "10       1002    6.0     117.0   4.0  10856.82     11.0  Стерлитамак  smart   \n",
       "11       1002    7.0     214.0  11.0  17580.10     18.0  Стерлитамак  smart   \n",
       "12       1002    8.0     289.0  13.0  20319.26     20.0  Стерлитамак  smart   \n",
       "...       ...    ...       ...   ...       ...      ...          ...    ...   \n",
       "3205     1473    9.0       NaN  19.0  17289.85     17.0   Красноярск  ultra   \n",
       "3206     1473   10.0       NaN  20.0  13688.65     14.0   Красноярск  ultra   \n",
       "3207     1473   11.0       NaN  14.0  21673.80     22.0   Красноярск  ultra   \n",
       "3208     1473   12.0       NaN  20.0  18418.26     18.0   Красноярск  ultra   \n",
       "3214     1128    NaN       NaN   NaN       NaN      NaN     Волжский  ultra   \n",
       "\n",
       "      call_over_lim  message_over_lim  gb_over_lim  proceeds  \n",
       "8               0.0               NaN          3.0       NaN  \n",
       "9               0.0               NaN          0.0       NaN  \n",
       "10              0.0               0.0          0.0     550.0  \n",
       "11              0.0               0.0          3.0    1150.0  \n",
       "12              0.0               0.0          5.0    1550.0  \n",
       "...             ...               ...          ...       ...  \n",
       "3205            NaN               0.0          0.0       NaN  \n",
       "3206            NaN               0.0          0.0       NaN  \n",
       "3207            NaN               0.0          0.0       NaN  \n",
       "3208            NaN               0.0          0.0       NaN  \n",
       "3214            NaN               NaN          NaN       NaN  \n",
       "\n",
       "[3216 rows x 12 columns]"
      ]
     },
     "execution_count": 14,
     "metadata": {},
     "output_type": "execute_result"
    }
   ],
   "source": [
    "#Объединим таблицы с обоими тарифами\n",
    "data =pd.concat([sample_smart,sample_ultra],axis=0)\n",
    "data\n"
   ]
  },
  {
   "cell_type": "markdown",
   "metadata": {},
   "source": [
    "# 3. Анализ данных с помощью гистограмм"
   ]
  },
  {
   "cell_type": "markdown",
   "metadata": {},
   "source": [
    "## Анализ пользователей тарифа ультра"
   ]
  },
  {
   "cell_type": "code",
   "execution_count": 15,
   "metadata": {},
   "outputs": [
    {
     "data": {
      "text/plain": [
       "Text(0.5, 0, 'duration(минут)')"
      ]
     },
     "execution_count": 15,
     "metadata": {},
     "output_type": "execute_result"
    },
    {
     "data": {
      "image/png": "[encoded data removed]",
      "text/plain": [
       "<Figure size 432x288 with 1 Axes>"
      ]
     },
     "metadata": {
      "needs_background": "light"
     },
     "output_type": "display_data"
    }
   ],
   "source": [
    "#Построим распределение суммарной длительности разговоров в месяц\n",
    "from matplotlib import pyplot as plt\n",
    "sample_ultra['duration'].plot(kind ='hist', title = 'Cуммарная длительность разговоров в месяц', bins = 30, \n",
    "                              range = (0, 2000))\n",
    "plt.xlabel('duration(минут)')"
   ]
  },
  {
   "cell_type": "code",
   "execution_count": 16,
   "metadata": {},
   "outputs": [
    {
     "data": {
      "text/plain": [
       "545.4511041009464"
      ]
     },
     "metadata": {},
     "output_type": "display_data"
    },
    {
     "data": {
      "text/plain": [
       "94104.36117385984"
      ]
     },
     "metadata": {},
     "output_type": "display_data"
    },
    {
     "data": {
      "text/plain": [
       "306.76434143143143"
      ]
     },
     "metadata": {},
     "output_type": "display_data"
    }
   ],
   "source": [
    "mean = sample_ultra['duration'].mean()\n",
    "variance = np.var(sample_ultra['duration'])\n",
    "standard_deviation = np.std(sample_ultra['duration'])\n",
    "display(mean, variance, standard_deviation)"
   ]
  },
  {
   "cell_type": "markdown",
   "metadata": {},
   "source": [
    "<font color='black'> В большинстве случаев люди за месяц наговаривают от 250 до 1000 минут. Среднее значение составляет 545 минут со стандартным отклонением 306 минут. "
   ]
  },
  {
   "cell_type": "code",
   "execution_count": 17,
   "metadata": {},
   "outputs": [
    {
     "data": {
      "text/plain": [
       "Text(0.5, 0, 'Количество сообщений в месяц')"
      ]
     },
     "execution_count": 17,
     "metadata": {},
     "output_type": "execute_result"
    },
    {
     "data": {
      "image/png": "[encoded data removed]",
      "text/plain": [
       "<Figure size 432x288 with 1 Axes>"
      ]
     },
     "metadata": {
      "needs_background": "light"
     },
     "output_type": "display_data"
    }
   ],
   "source": [
    "#Построим распределение суммарного количества сообщений в месяц\n",
    "sample_ultra['id'].plot(kind ='hist', title = 'Количество сообщений в месяц', bins = 30, \n",
    "                              range = (0, 250))\n",
    "plt.xlabel('Количество сообщений в месяц')"
   ]
  },
  {
   "cell_type": "code",
   "execution_count": 18,
   "metadata": {},
   "outputs": [
    {
     "data": {
      "text/plain": [
       "61.161006289308176"
      ]
     },
     "metadata": {},
     "output_type": "display_data"
    },
    {
     "data": {
      "text/plain": [
       "2107.0055235156838"
      ]
     },
     "metadata": {},
     "output_type": "display_data"
    },
    {
     "data": {
      "text/plain": [
       "45.90212983637779"
      ]
     },
     "metadata": {},
     "output_type": "display_data"
    }
   ],
   "source": [
    "mean = sample_ultra['id'].mean()\n",
    "variance = np.var(sample_ultra['id'])\n",
    "standard_deviation = np.std(sample_ultra['id'])\n",
    "display(mean, variance, standard_deviation)"
   ]
  },
  {
   "cell_type": "markdown",
   "metadata": {},
   "source": [
    "<font color='black'> В большинстве случаев люди за месяц отправляют до 100 сообщений. Среднее значение составляет 61 сообщение со стандартным отклонением 45 сообщений. "
   ]
  },
  {
   "cell_type": "code",
   "execution_count": 19,
   "metadata": {},
   "outputs": [
    {
     "data": {
      "text/plain": [
       "Text(0.5, 0, 'Трафик в месяц, Гб')"
      ]
     },
     "execution_count": 19,
     "metadata": {},
     "output_type": "execute_result"
    },
    {
     "data": {
      "image/png": "[encoded data removed]",
      "text/plain": [
       "<Figure size 432x288 with 1 Axes>"
      ]
     },
     "metadata": {
      "needs_background": "light"
     },
     "output_type": "display_data"
    }
   ],
   "source": [
    "#Построим распределение суммарного количества трафика в месяц\n",
    "sample_ultra['gb_used'].plot(kind ='hist', title = 'Трафик в месяц, Гб', bins = 30, \n",
    "                              range = (0, 55))\n",
    "plt.xlabel('Трафик в месяц, Гб')"
   ]
  },
  {
   "cell_type": "code",
   "execution_count": 20,
   "metadata": {},
   "outputs": [
    {
     "data": {
      "text/plain": [
       "19.694358974358973"
      ]
     },
     "metadata": {},
     "output_type": "display_data"
    },
    {
     "data": {
      "text/plain": [
       "94.05017330703485"
      ]
     },
     "metadata": {},
     "output_type": "display_data"
    },
    {
     "data": {
      "text/plain": [
       "9.697946860394465"
      ]
     },
     "metadata": {},
     "output_type": "display_data"
    }
   ],
   "source": [
    "mean = sample_ultra['gb_used'].mean()\n",
    "variance = np.var(sample_ultra['gb_used'])\n",
    "standard_deviation = np.std(sample_ultra['gb_used'])\n",
    "display(mean, variance, standard_deviation)"
   ]
  },
  {
   "cell_type": "markdown",
   "metadata": {},
   "source": [
    "<font color='black'> Распределение пользования интернетом больше похоже на нормальное по сравнению со звонками и сообщениями. Наиболее часто встречающееся количество потребленных гигабайт лежит в диапазоне от 15 до 30 Гб.Среднее значение составляет 20 Гб со стандартным отклонением 10 Гб. "
   ]
  },
  {
   "cell_type": "markdown",
   "metadata": {},
   "source": [
    "## Анализ пользователей тарифа смарт"
   ]
  },
  {
   "cell_type": "code",
   "execution_count": 21,
   "metadata": {},
   "outputs": [
    {
     "data": {
      "text/plain": [
       "Text(0.5, 0, 'duration(минут)')"
      ]
     },
     "execution_count": 21,
     "metadata": {},
     "output_type": "execute_result"
    },
    {
     "data": {
      "image/png": "[encoded data removed]",
      "text/plain": [
       "<Figure size 432x288 with 1 Axes>"
      ]
     },
     "metadata": {
      "needs_background": "light"
     },
     "output_type": "display_data"
    }
   ],
   "source": [
    "#Построим распределение суммарной длительности разговоров в месяц\n",
    "sample_smart['duration'].plot(kind ='hist', title = 'Cуммарная длительность разговоров в месяц', bins = 30, \n",
    "                              range = (0, 1500))\n",
    "plt.xlabel('duration(минут)')"
   ]
  },
  {
   "cell_type": "code",
   "execution_count": 22,
   "metadata": {},
   "outputs": [
    {
     "data": {
      "text/plain": [
       "419.0629779577148"
      ]
     },
     "metadata": {},
     "output_type": "display_data"
    },
    {
     "data": {
      "text/plain": [
       "35828.06530953033"
      ]
     },
     "metadata": {},
     "output_type": "display_data"
    },
    {
     "data": {
      "text/plain": [
       "189.2830296395594"
      ]
     },
     "metadata": {},
     "output_type": "display_data"
    }
   ],
   "source": [
    "mean = sample_smart['duration'].mean()\n",
    "variance = np.var(sample_smart['duration'])\n",
    "standard_deviation = np.std(sample_smart['duration'])\n",
    "display(mean, variance, standard_deviation)"
   ]
  },
  {
   "cell_type": "markdown",
   "metadata": {},
   "source": [
    "<font color='black'> Для тарифа смарт количество наговоренных минут меньше. Распределение похоже на нормальное, скошенное влево. Среднее значение составляет 419 минут со стандартным отклонением 189 минут. "
   ]
  },
  {
   "cell_type": "code",
   "execution_count": 23,
   "metadata": {},
   "outputs": [
    {
     "data": {
      "text/plain": [
       "Text(0.5, 0, 'Количество сообщений в месяц')"
      ]
     },
     "execution_count": 23,
     "metadata": {},
     "output_type": "execute_result"
    },
    {
     "data": {
      "image/png": "[encoded data removed]",
      "text/plain": [
       "<Figure size 432x288 with 1 Axes>"
      ]
     },
     "metadata": {
      "needs_background": "light"
     },
     "output_type": "display_data"
    }
   ],
   "source": [
    "#Построим распределение суммарного количества сообщений в месяц\n",
    "sample_smart['id'].plot(kind ='hist', title = 'Количество сообщений в месяц', bins = 30, \n",
    "                              range = (0, 150))\n",
    "plt.xlabel('Количество сообщений в месяц')"
   ]
  },
  {
   "cell_type": "code",
   "execution_count": 24,
   "metadata": {},
   "outputs": [
    {
     "data": {
      "text/plain": [
       "38.71644120707596"
      ]
     },
     "metadata": {},
     "output_type": "display_data"
    },
    {
     "data": {
      "text/plain": [
       "717.220843110227"
      ]
     },
     "metadata": {},
     "output_type": "display_data"
    },
    {
     "data": {
      "text/plain": [
       "26.780979129042816"
      ]
     },
     "metadata": {},
     "output_type": "display_data"
    }
   ],
   "source": [
    "mean = sample_smart['id'].mean()\n",
    "variance = np.var(sample_smart['id'])\n",
    "standard_deviation = np.std(sample_smart['id'])\n",
    "display(mean, variance, standard_deviation)"
   ]
  },
  {
   "cell_type": "markdown",
   "metadata": {},
   "source": [
    "<font color='black'> Как и в случае с тарифом ультра, большинство в месяц отправляет менее 100 сообщений. Среднее значение составляет 38 сообщений со стандартным отклонением 26 сообщений. "
   ]
  },
  {
   "cell_type": "code",
   "execution_count": 25,
   "metadata": {},
   "outputs": [
    {
     "data": {
      "text/plain": [
       "Text(0.5, 0, 'Трафик в месяц, Гб')"
      ]
     },
     "execution_count": 25,
     "metadata": {},
     "output_type": "execute_result"
    },
    {
     "data": {
      "image/png": "[encoded data removed]",
      "text/plain": [
       "<Figure size 432x288 with 1 Axes>"
      ]
     },
     "metadata": {
      "needs_background": "light"
     },
     "output_type": "display_data"
    }
   ],
   "source": [
    "#Построим распределение суммарного количества трафика в месяц\n",
    "sample_smart['gb_used'].plot(kind ='hist', title = 'Трафик в месяц, Гб', bins = 30, \n",
    "                              range = (0, 45))\n",
    "plt.xlabel('Трафик в месяц, Гб')"
   ]
  },
  {
   "cell_type": "code",
   "execution_count": 26,
   "metadata": {},
   "outputs": [
    {
     "data": {
      "text/plain": [
       "16.33617594254937"
      ]
     },
     "metadata": {},
     "output_type": "display_data"
    },
    {
     "data": {
      "text/plain": [
       "32.908978554322495"
      ]
     },
     "metadata": {},
     "output_type": "display_data"
    },
    {
     "data": {
      "text/plain": [
       "5.73663477609674"
      ]
     },
     "metadata": {},
     "output_type": "display_data"
    }
   ],
   "source": [
    "mean = sample_smart['gb_used'].mean()\n",
    "variance = np.var(sample_smart['gb_used'])\n",
    "standard_deviation = np.std(sample_smart['gb_used'])\n",
    "display(mean, variance, standard_deviation)"
   ]
  },
  {
   "cell_type": "markdown",
   "metadata": {},
   "source": [
    "<font color='black'> Распределение пользования интернетом является нормальным. Наиболее часто встречающееся количество потребленных гигабайт лежит в диапазоне от 15 до 25 Гб. Пик распределения для тарифа смарт лежит левее, чем для тарифа ультра, что говорит о меньшем потреблении трафика, пользователями с тарифом смарт.Среднее значение составляет 16 Гб со стандартным отклонением 6 Гб. "
   ]
  },
  {
   "cell_type": "markdown",
   "metadata": {},
   "source": [
    "<div class=\"alert alert-block alert-warning\">\n",
    "⚠️ Было бы очень удобно анализировать различия с помощью наложения двух графиков друг на друга:\n",
    "<code>\n",
    "from matplotlib import pyplot as plt\n",
    "<code>\n",
    "<code>\n",
    "<code>\n",
    "plt.figure(figsize=(10, 6))\n",
    "df['minutes_used'][df['tariff'] == 'smart'].plot(kind='hist', alpha=0.5, bins=30)\n",
    "df['minutes_used'][df['tariff'] == 'ultra'].plot(kind='hist', alpha=0.5, bins=30)\n",
    "plt.title('Гистограмма распределения продолжительности звонков по 2-м тарифам'+ \"\\n\")\n",
    "plt.xlabel('Минуты')\n",
    "plt.ylabel('Частотность')\n",
    "plt.legend(['smart', 'ultra'])\n",
    "<code>\n",
    "plt.show()</code>\n",
    "</div>"
   ]
  },
  {
   "cell_type": "markdown",
   "metadata": {},
   "source": [
    "\n",
    "<div class=\"alert alert-block alert-success\">\n",
    "✔️ На твоих графиках удобнее анализировать тарифы по отдельности, а на объединённом можно оценить как они соотносятся друг с другом\n",
    "\n",
    "</div>"
   ]
  },
  {
   "cell_type": "markdown",
   "metadata": {},
   "source": [
    "# 4. Проверка гипотез."
   ]
  },
  {
   "cell_type": "code",
   "execution_count": 27,
   "metadata": {},
   "outputs": [
    {
     "data": {
      "text/plain": [
       "2048.936170212766"
      ]
     },
     "metadata": {},
     "output_type": "display_data"
    },
    {
     "data": {
      "text/plain": [
       "1290.6778067885118"
      ]
     },
     "metadata": {},
     "output_type": "display_data"
    }
   ],
   "source": [
    "#Посчитаем среднюю выручку тарифа ультра\n",
    "ultra_mean = sample_ultra['proceeds'].mean()\n",
    "ultra_mean\n",
    "#Посчитаем среднюю выручку тарифа смарт\n",
    "smart_mean = sample_smart['proceeds'].mean()\n",
    "display(ultra_mean, smart_mean)"
   ]
  },
  {
   "cell_type": "markdown",
   "metadata": {},
   "source": [
    "<font color='black'>Формируем нулевую гипотезу о равенстве средних выручек для тарифов ультра и смарт. Альтернативная гипотеза является двусторонней и предполагает, что выручки не равны. Считаем, что генеральные совокупности независимы. Поэтому применяем метод st.ttest_ind. "
   ]
  },
  {
   "cell_type": "markdown",
   "metadata": {},
   "source": [
    "<div class=\"alert alert-block alert-success\">\n",
    "✔️ Гипотезы верно сформулированы\n",
    "</div>"
   ]
  },
  {
   "cell_type": "code",
   "execution_count": 28,
   "metadata": {},
   "outputs": [
    {
     "name": "stdout",
     "output_type": "stream",
     "text": [
      "p-значение:  1.1515961964890638e-119\n",
      "Отвергаем нулевую гипотезу\n"
     ]
    }
   ],
   "source": [
    "#сделаем выборку строк для тарифа ультра где выручка не равна NaN.\n",
    "sample1 = sample_ultra.query(\"proceeds != 'NaN'\")\n",
    "#сделаем выборку строк для тарифа смарт где выручка не равна NaN.\n",
    "sample2 = sample_smart.query(\"proceeds != 'NaN'\")\n",
    "\n",
    "from scipy import stats as st\n",
    "alpha = .05 # критический уровень статистической значимости, используем именно 5%, как наиболее распространенный.\n",
    "# если p-value окажется меньше него - отвегнем гипотезу\n",
    "\n",
    "results = st.ttest_ind(\n",
    "    sample1['proceeds'], \n",
    "    sample2['proceeds'])\n",
    "\n",
    "print('p-значение: ', results.pvalue)\n",
    "\n",
    "if results.pvalue < alpha:\n",
    "    print(\"Отвергаем нулевую гипотезу\")\n",
    "else:\n",
    "    print(\"Не получилось отвергнуть нулевую гипотезу\")"
   ]
  },
  {
   "cell_type": "markdown",
   "metadata": {},
   "source": [
    "<div class=\"alert alert-block alert-success\">\n",
    "✔️ Пропуски можно заполнить нулями: пропуск в итоговой сводной таблице означает, что абонент не пользовался услугами, значит его потребление составило 0\n",
    "</div>"
   ]
  },
  {
   "cell_type": "markdown",
   "metadata": {},
   "source": [
    "<font color='black'>Полученная вероятность меньше критического уровня, поэтому средние выручки тарифов ультра и смарт не равны. "
   ]
  },
  {
   "cell_type": "markdown",
   "metadata": {},
   "source": [
    "<font color='black'>Формируем нулевую гипотезу о равенстве средних выручек для Москвы и регионов. Альтернативная гипотеза предполагает, что выручки не равны. Считаем, что генеральные совокупности независимы, поэтому применяем метод st.ttest_ind."
   ]
  },
  {
   "cell_type": "code",
   "execution_count": 29,
   "metadata": {},
   "outputs": [
    {
     "name": "stdout",
     "output_type": "stream",
     "text": [
      "p-значение:  0.12167256176036186\n",
      "Не получилось отвергнуть нулевую гипотезу\n"
     ]
    }
   ],
   "source": [
    "#сделаем выборку строк всего датасета где выручка не равна NaN.\n",
    "sample = data.query(\"proceeds != 'NaN'\")\n",
    "#сделаем выборку строк для регионов кроме Москвы.\n",
    "sample_1 = sample.query(\"city != 'Москва'\")\n",
    "\n",
    "#сделаем выборку строк для Москвы.\n",
    "sample_2 = sample.query(\"city == 'Москва'\")\n",
    "\n",
    "from scipy import stats as st\n",
    "alpha = .05 # критический уровень статистической значимости, используем именно 5%, как наиболее распространенный. \n",
    "# если p-value окажется меньше него - отвегнем гипотезу\n",
    "\n",
    "results = st.ttest_ind(\n",
    "    sample_1['proceeds'], \n",
    "    sample_2['proceeds'])\n",
    "\n",
    "print('p-значение: ', results.pvalue)\n",
    "\n",
    "if results.pvalue < alpha:\n",
    "    print(\"Отвергаем нулевую гипотезу\")\n",
    "else:\n",
    "    print(\"Не получилось отвергнуть нулевую гипотезу\")"
   ]
  },
  {
   "cell_type": "markdown",
   "metadata": {},
   "source": [
    "<div class=\"alert alert-block alert-success\">\n",
    "✔️ Действительно, данные гипотезе не противоречат, поэтому нулевую гипотезу не отвергаем\n",
    "</div>"
   ]
  },
  {
   "cell_type": "markdown",
   "metadata": {},
   "source": [
    "<font color='black'>Таким образом, средняя выручка пользователей из Москвы не отличается от выручки пользователей из других регионов."
   ]
  },
  {
   "cell_type": "markdown",
   "metadata": {},
   "source": [
    "# 5. Общий вывод. "
   ]
  },
  {
   "cell_type": "markdown",
   "metadata": {},
   "source": [
    "<font color='black'>1. Пользователи тарифа ультра в среднем дольше разговаривают по телефону, отсылают больше сообщений и тратят больше трафика. <div>2. Различия по выручке между Москвой и регионами в ходе исследования подтвердить не удалось. <div>3. Наиболее перспективным является тариф ультра, т.к. он имеет большую среднюю выручку по сравнению с тарифом смарт.  "
   ]
  },
  {
   "cell_type": "markdown",
   "metadata": {},
   "source": [
    "<font color='blue'><b>Итоговый комментарий ревьюера</b></font>\\\n",
    "<font color='green'>Алексей, сильный проект, видно, что ты можешь много показать, нужно исправить лишь пару мелочей:)\n",
    "\n",
    "<font color='blue'>Что можно сделать лучше:</font>\n",
    "<ul><font color='red'>1) Поправить перевод мб в гб</font></ul>\n",
    "    \n",
    "<font color='blue'><b>Спасибо, жду твоих исправлений и комментариев!</b></font>"
   ]
  },
  {
   "cell_type": "markdown",
   "metadata": {},
   "source": [
    "<div class=\"alert alert-block alert-info\">\n",
    "Для перевода Мб в Гб в 3х местах исправил 1000 на 1024."
   ]
  },
  {
   "cell_type": "markdown",
   "metadata": {},
   "source": [
    "<div class=\"alert alert-block alert-success\">\n",
    "✔️ Ревью №2: Алексей, спасибо за внесённые правки, работа стала ещё лучше! Перевожу твой проект в статус \"зачтено\" и желаю дальнейших успехов в освоении курса\n",
    "</div>"
   ]
  },
  {
   "cell_type": "code",
   "execution_count": null,
   "metadata": {},
   "outputs": [],
   "source": []
  }
 ],
 "metadata": {
  "ExecuteTimeLog": [
   {
    "duration": 1385,
    "start_time": "2022-01-02T12:39:47.556Z"
   },
   {
    "duration": 616,
    "start_time": "2022-01-02T12:49:47.944Z"
   },
   {
    "duration": 22,
    "start_time": "2022-01-02T13:03:47.457Z"
   },
   {
    "duration": 42,
    "start_time": "2022-01-02T13:06:27.753Z"
   },
   {
    "duration": 19,
    "start_time": "2022-01-02T13:06:43.540Z"
   },
   {
    "duration": 25,
    "start_time": "2022-01-02T13:06:56.439Z"
   },
   {
    "duration": 7151,
    "start_time": "2022-01-02T13:09:53.673Z"
   },
   {
    "duration": 37,
    "start_time": "2022-01-02T13:11:07.981Z"
   },
   {
    "duration": 45,
    "start_time": "2022-01-02T13:15:59.978Z"
   },
   {
    "duration": 3,
    "start_time": "2022-01-02T13:18:40.276Z"
   },
   {
    "duration": 18,
    "start_time": "2022-01-02T13:24:42.114Z"
   },
   {
    "duration": 7,
    "start_time": "2022-01-02T13:25:02.935Z"
   },
   {
    "duration": 14,
    "start_time": "2022-01-02T13:25:11.128Z"
   },
   {
    "duration": 17,
    "start_time": "2022-01-02T13:25:29.426Z"
   },
   {
    "duration": 12,
    "start_time": "2022-01-02T13:29:15.168Z"
   },
   {
    "duration": 127,
    "start_time": "2022-01-02T13:29:21.263Z"
   },
   {
    "duration": 59,
    "start_time": "2022-01-02T13:29:28.065Z"
   },
   {
    "duration": 95,
    "start_time": "2022-01-02T13:29:35.728Z"
   },
   {
    "duration": 302,
    "start_time": "2022-01-02T13:35:02.275Z"
   },
   {
    "duration": 271,
    "start_time": "2022-01-02T13:37:57.460Z"
   },
   {
    "duration": 84,
    "start_time": "2022-01-02T13:39:11.972Z"
   },
   {
    "duration": 26,
    "start_time": "2022-01-02T13:48:43.641Z"
   },
   {
    "duration": 32,
    "start_time": "2022-01-02T13:48:56.975Z"
   },
   {
    "duration": 297,
    "start_time": "2022-01-02T13:52:01.988Z"
   },
   {
    "duration": 299,
    "start_time": "2022-01-02T13:52:41.536Z"
   },
   {
    "duration": 33,
    "start_time": "2022-01-02T13:52:46.752Z"
   },
   {
    "duration": 298,
    "start_time": "2022-01-02T13:53:49.267Z"
   },
   {
    "duration": 68,
    "start_time": "2022-01-02T13:54:16.295Z"
   },
   {
    "duration": 7246,
    "start_time": "2022-01-02T14:02:19.633Z"
   },
   {
    "duration": 70,
    "start_time": "2022-01-02T14:02:42.256Z"
   },
   {
    "duration": 297,
    "start_time": "2022-01-02T14:10:56.061Z"
   },
   {
    "duration": 69,
    "start_time": "2022-01-02T14:11:46.428Z"
   },
   {
    "duration": 282,
    "start_time": "2022-01-02T14:11:52.457Z"
   },
   {
    "duration": 69,
    "start_time": "2022-01-02T14:12:51.531Z"
   },
   {
    "duration": 13,
    "start_time": "2022-01-02T14:14:53.334Z"
   },
   {
    "duration": 285,
    "start_time": "2022-01-02T14:16:22.500Z"
   },
   {
    "duration": 48,
    "start_time": "2022-01-02T14:16:28.789Z"
   },
   {
    "duration": 56,
    "start_time": "2022-01-02T14:18:14.207Z"
   },
   {
    "duration": 70,
    "start_time": "2022-01-02T14:20:01.229Z"
   },
   {
    "duration": 66,
    "start_time": "2022-01-02T14:22:17.394Z"
   },
   {
    "duration": 65,
    "start_time": "2022-01-02T14:25:01.781Z"
   },
   {
    "duration": 65,
    "start_time": "2022-01-02T14:30:40.168Z"
   },
   {
    "duration": 55,
    "start_time": "2022-01-02T14:30:54.609Z"
   },
   {
    "duration": 70,
    "start_time": "2022-01-02T14:31:17.587Z"
   },
   {
    "duration": 58,
    "start_time": "2022-01-02T14:31:28.720Z"
   },
   {
    "duration": 61,
    "start_time": "2022-01-02T14:31:37.591Z"
   },
   {
    "duration": 73,
    "start_time": "2022-01-02T14:34:34.044Z"
   },
   {
    "duration": 62,
    "start_time": "2022-01-02T14:34:44.194Z"
   },
   {
    "duration": 63,
    "start_time": "2022-01-02T14:35:16.665Z"
   },
   {
    "duration": 30,
    "start_time": "2022-01-02T14:37:06.786Z"
   },
   {
    "duration": 44,
    "start_time": "2022-01-02T14:38:29.807Z"
   },
   {
    "duration": 45,
    "start_time": "2022-01-02T14:39:04.440Z"
   },
   {
    "duration": 274,
    "start_time": "2022-01-02T14:39:54.411Z"
   },
   {
    "duration": 592,
    "start_time": "2022-01-02T14:40:05.466Z"
   },
   {
    "duration": 43,
    "start_time": "2022-01-02T14:40:20.538Z"
   },
   {
    "duration": 41,
    "start_time": "2022-01-02T14:43:59.857Z"
   },
   {
    "duration": 65,
    "start_time": "2022-01-02T14:46:27.934Z"
   },
   {
    "duration": 56,
    "start_time": "2022-01-02T14:46:32.869Z"
   },
   {
    "duration": 57,
    "start_time": "2022-01-02T14:46:38.580Z"
   },
   {
    "duration": 37,
    "start_time": "2022-01-02T14:46:44.898Z"
   },
   {
    "duration": 11,
    "start_time": "2022-01-02T14:48:16.289Z"
   },
   {
    "duration": 30,
    "start_time": "2022-01-02T14:48:31.520Z"
   },
   {
    "duration": 30,
    "start_time": "2022-01-02T14:49:46.088Z"
   },
   {
    "duration": 275,
    "start_time": "2022-01-02T14:52:17.009Z"
   },
   {
    "duration": 280,
    "start_time": "2022-01-02T14:54:03.567Z"
   },
   {
    "duration": 30,
    "start_time": "2022-01-02T14:54:30.970Z"
   },
   {
    "duration": 33,
    "start_time": "2022-01-02T14:55:02.246Z"
   },
   {
    "duration": 31,
    "start_time": "2022-01-02T14:55:42.893Z"
   },
   {
    "duration": 1351,
    "start_time": "2022-01-02T14:56:13.862Z"
   },
   {
    "duration": 23,
    "start_time": "2022-01-02T14:56:15.219Z"
   },
   {
    "duration": 76,
    "start_time": "2022-01-02T14:56:15.244Z"
   },
   {
    "duration": 50,
    "start_time": "2022-01-02T14:56:15.322Z"
   },
   {
    "duration": 47,
    "start_time": "2022-01-02T14:56:15.374Z"
   },
   {
    "duration": 103,
    "start_time": "2022-01-02T14:56:15.424Z"
   },
   {
    "duration": 73,
    "start_time": "2022-01-02T14:56:15.530Z"
   },
   {
    "duration": 84,
    "start_time": "2022-01-02T14:56:15.606Z"
   },
   {
    "duration": 38,
    "start_time": "2022-01-02T14:56:15.693Z"
   },
   {
    "duration": 41,
    "start_time": "2022-01-02T14:56:15.733Z"
   },
   {
    "duration": 26,
    "start_time": "2022-01-02T14:56:54.323Z"
   },
   {
    "duration": 13,
    "start_time": "2022-01-02T15:57:34.751Z"
   },
   {
    "duration": 7799,
    "start_time": "2022-01-02T15:58:19.937Z"
   },
   {
    "duration": 6736,
    "start_time": "2022-01-02T15:58:53.744Z"
   },
   {
    "duration": 274,
    "start_time": "2022-01-02T16:00:55.754Z"
   },
   {
    "duration": 276,
    "start_time": "2022-01-02T16:01:38.671Z"
   },
   {
    "duration": 6536,
    "start_time": "2022-01-02T16:01:53.123Z"
   },
   {
    "duration": 7017,
    "start_time": "2022-01-02T16:02:34.493Z"
   },
   {
    "duration": -1517,
    "start_time": "2022-01-02T16:02:52.825Z"
   },
   {
    "duration": 7307,
    "start_time": "2022-01-02T16:02:59.517Z"
   },
   {
    "duration": 6,
    "start_time": "2022-01-02T16:03:45.329Z"
   },
   {
    "duration": 6,
    "start_time": "2022-01-02T16:03:57.953Z"
   },
   {
    "duration": 5,
    "start_time": "2022-01-02T16:06:13.083Z"
   },
   {
    "duration": 18,
    "start_time": "2022-01-02T16:10:59.424Z"
   },
   {
    "duration": 20,
    "start_time": "2022-01-02T16:11:06.045Z"
   },
   {
    "duration": 33,
    "start_time": "2022-01-02T16:11:15.511Z"
   },
   {
    "duration": 280,
    "start_time": "2022-01-02T16:28:04.258Z"
   },
   {
    "duration": 41,
    "start_time": "2022-01-02T16:28:40.563Z"
   },
   {
    "duration": 96,
    "start_time": "2022-01-02T16:38:23.833Z"
   },
   {
    "duration": 96,
    "start_time": "2022-01-02T16:38:32.038Z"
   },
   {
    "duration": 41,
    "start_time": "2022-01-02T16:39:14.292Z"
   },
   {
    "duration": 281,
    "start_time": "2022-01-02T16:42:06.942Z"
   },
   {
    "duration": 101,
    "start_time": "2022-01-02T16:46:42.482Z"
   },
   {
    "duration": 93,
    "start_time": "2022-01-02T16:49:02.644Z"
   },
   {
    "duration": 307,
    "start_time": "2022-01-02T16:49:13.129Z"
   },
   {
    "duration": 45,
    "start_time": "2022-01-02T16:52:49.875Z"
   },
   {
    "duration": 41,
    "start_time": "2022-01-02T16:54:08.295Z"
   },
   {
    "duration": 3161,
    "start_time": "2022-01-02T16:56:35.779Z"
   },
   {
    "duration": 2548,
    "start_time": "2022-01-02T17:00:35.410Z"
   },
   {
    "duration": 90,
    "start_time": "2022-01-02T17:04:00.068Z"
   },
   {
    "duration": 2561,
    "start_time": "2022-01-02T17:04:22.520Z"
   },
   {
    "duration": 5342,
    "start_time": "2022-01-02T17:06:39.764Z"
   },
   {
    "duration": 7604,
    "start_time": "2022-01-02T17:09:20.234Z"
   },
   {
    "duration": 7688,
    "start_time": "2022-01-02T17:15:07.494Z"
   },
   {
    "duration": 7578,
    "start_time": "2022-01-02T17:17:23.024Z"
   },
   {
    "duration": 17453,
    "start_time": "2022-01-02T17:26:40.701Z"
   },
   {
    "duration": 18101,
    "start_time": "2022-01-02T17:28:15.029Z"
   },
   {
    "duration": 17542,
    "start_time": "2022-01-02T17:31:33.997Z"
   },
   {
    "duration": 35,
    "start_time": "2022-01-02T17:40:45.628Z"
   },
   {
    "duration": 17695,
    "start_time": "2022-01-02T17:41:35.520Z"
   },
   {
    "duration": 27,
    "start_time": "2022-01-02T17:41:53.218Z"
   },
   {
    "duration": 17578,
    "start_time": "2022-01-02T17:50:48.889Z"
   },
   {
    "duration": 31,
    "start_time": "2022-01-02T17:51:06.469Z"
   },
   {
    "duration": 751,
    "start_time": "2022-01-02T18:06:12.660Z"
   },
   {
    "duration": 92,
    "start_time": "2022-01-02T18:06:26.587Z"
   },
   {
    "duration": 88,
    "start_time": "2022-01-02T18:07:34.156Z"
   },
   {
    "duration": 91,
    "start_time": "2022-01-02T18:07:43.271Z"
   },
   {
    "duration": 86,
    "start_time": "2022-01-02T18:08:14.268Z"
   },
   {
    "duration": 85,
    "start_time": "2022-01-02T18:08:42.709Z"
   },
   {
    "duration": 381,
    "start_time": "2022-01-02T18:09:24.796Z"
   },
   {
    "duration": 378,
    "start_time": "2022-01-02T18:09:32.492Z"
   },
   {
    "duration": 456,
    "start_time": "2022-01-02T18:09:39.670Z"
   },
   {
    "duration": 408,
    "start_time": "2022-01-02T18:09:47.363Z"
   },
   {
    "duration": 377,
    "start_time": "2022-01-02T18:14:12.876Z"
   },
   {
    "duration": 370,
    "start_time": "2022-01-02T18:14:22.585Z"
   },
   {
    "duration": 369,
    "start_time": "2022-01-02T18:14:40.281Z"
   },
   {
    "duration": 110,
    "start_time": "2022-01-02T18:15:33.007Z"
   },
   {
    "duration": 95,
    "start_time": "2022-01-02T18:16:15.365Z"
   },
   {
    "duration": 104,
    "start_time": "2022-01-02T18:16:33.004Z"
   },
   {
    "duration": 373,
    "start_time": "2022-01-02T18:18:53.269Z"
   },
   {
    "duration": 372,
    "start_time": "2022-01-02T18:19:09.683Z"
   },
   {
    "duration": 384,
    "start_time": "2022-01-02T18:21:34.747Z"
   },
   {
    "duration": 386,
    "start_time": "2022-01-02T18:23:35.547Z"
   },
   {
    "duration": 381,
    "start_time": "2022-01-02T18:23:47.901Z"
   },
   {
    "duration": 373,
    "start_time": "2022-01-02T18:24:12.071Z"
   },
   {
    "duration": 474,
    "start_time": "2022-01-02T18:24:18.565Z"
   },
   {
    "duration": 392,
    "start_time": "2022-01-02T18:24:27.624Z"
   },
   {
    "duration": 375,
    "start_time": "2022-01-02T18:24:56.188Z"
   },
   {
    "duration": 356,
    "start_time": "2022-01-02T18:25:04.231Z"
   },
   {
    "duration": 82,
    "start_time": "2022-01-02T18:27:34.826Z"
   },
   {
    "duration": 60,
    "start_time": "2022-01-02T18:32:34.973Z"
   },
   {
    "duration": 8,
    "start_time": "2022-01-02T18:34:37.488Z"
   },
   {
    "duration": 8,
    "start_time": "2022-01-02T18:35:03.353Z"
   },
   {
    "duration": 7,
    "start_time": "2022-01-02T18:37:48.827Z"
   },
   {
    "duration": 9,
    "start_time": "2022-01-02T18:37:55.169Z"
   },
   {
    "duration": 6,
    "start_time": "2022-01-02T18:39:37.167Z"
   },
   {
    "duration": 1511,
    "start_time": "2022-01-02T18:39:47.053Z"
   },
   {
    "duration": 22,
    "start_time": "2022-01-02T18:39:48.567Z"
   },
   {
    "duration": 82,
    "start_time": "2022-01-02T18:39:48.593Z"
   },
   {
    "duration": 41,
    "start_time": "2022-01-02T18:39:48.677Z"
   },
   {
    "duration": 71,
    "start_time": "2022-01-02T18:39:48.721Z"
   },
   {
    "duration": 99,
    "start_time": "2022-01-02T18:39:48.794Z"
   },
   {
    "duration": 77,
    "start_time": "2022-01-02T18:39:48.895Z"
   },
   {
    "duration": 70,
    "start_time": "2022-01-02T18:39:48.974Z"
   },
   {
    "duration": 52,
    "start_time": "2022-01-02T18:39:49.048Z"
   },
   {
    "duration": 25,
    "start_time": "2022-01-02T18:39:49.104Z"
   },
   {
    "duration": 40,
    "start_time": "2022-01-02T18:39:49.132Z"
   },
   {
    "duration": 7872,
    "start_time": "2022-01-02T18:39:49.175Z"
   },
   {
    "duration": 17202,
    "start_time": "2022-01-02T18:39:57.049Z"
   },
   {
    "duration": 39,
    "start_time": "2022-01-02T18:40:14.252Z"
   },
   {
    "duration": 518,
    "start_time": "2022-01-02T18:40:14.293Z"
   },
   {
    "duration": 6,
    "start_time": "2022-01-02T18:40:14.814Z"
   },
   {
    "duration": 405,
    "start_time": "2022-01-02T18:40:14.823Z"
   },
   {
    "duration": 445,
    "start_time": "2022-01-02T18:40:15.230Z"
   },
   {
    "duration": 389,
    "start_time": "2022-01-02T18:40:15.678Z"
   },
   {
    "duration": 409,
    "start_time": "2022-01-02T18:40:16.069Z"
   },
   {
    "duration": 370,
    "start_time": "2022-01-02T18:40:16.480Z"
   },
   {
    "duration": 67,
    "start_time": "2022-01-02T18:40:16.852Z"
   },
   {
    "duration": 8,
    "start_time": "2022-01-02T18:41:13.454Z"
   },
   {
    "duration": 8,
    "start_time": "2022-01-02T18:42:18.487Z"
   },
   {
    "duration": 8,
    "start_time": "2022-01-02T18:42:31.395Z"
   },
   {
    "duration": 8,
    "start_time": "2022-01-02T18:42:43.893Z"
   },
   {
    "duration": 9,
    "start_time": "2022-01-02T18:44:06.229Z"
   },
   {
    "duration": 8,
    "start_time": "2022-01-02T18:45:30.581Z"
   },
   {
    "duration": 5,
    "start_time": "2022-01-02T18:45:50.908Z"
   },
   {
    "duration": 5,
    "start_time": "2022-01-02T18:46:08.702Z"
   },
   {
    "duration": 7,
    "start_time": "2022-01-02T18:46:13.986Z"
   },
   {
    "duration": 7,
    "start_time": "2022-01-02T18:46:20.892Z"
   },
   {
    "duration": 7,
    "start_time": "2022-01-02T18:46:59.208Z"
   },
   {
    "duration": 10,
    "start_time": "2022-01-02T18:47:33.272Z"
   },
   {
    "duration": 13,
    "start_time": "2022-01-02T18:47:41.216Z"
   },
   {
    "duration": 11,
    "start_time": "2022-01-02T18:48:14.394Z"
   },
   {
    "duration": 10,
    "start_time": "2022-01-02T18:48:38.760Z"
   },
   {
    "duration": 10,
    "start_time": "2022-01-02T18:48:47.516Z"
   },
   {
    "duration": 11,
    "start_time": "2022-01-02T18:49:33.501Z"
   },
   {
    "duration": 11,
    "start_time": "2022-01-02T18:49:37.997Z"
   },
   {
    "duration": 11,
    "start_time": "2022-01-02T18:50:11.799Z"
   },
   {
    "duration": 11,
    "start_time": "2022-01-02T18:50:36.596Z"
   },
   {
    "duration": 10,
    "start_time": "2022-01-02T18:50:49.067Z"
   },
   {
    "duration": 1354,
    "start_time": "2022-01-02T18:50:59.710Z"
   },
   {
    "duration": 21,
    "start_time": "2022-01-02T18:51:01.067Z"
   },
   {
    "duration": 76,
    "start_time": "2022-01-02T18:51:01.091Z"
   },
   {
    "duration": 37,
    "start_time": "2022-01-02T18:51:01.170Z"
   },
   {
    "duration": 67,
    "start_time": "2022-01-02T18:51:01.210Z"
   },
   {
    "duration": 102,
    "start_time": "2022-01-02T18:51:01.279Z"
   },
   {
    "duration": 67,
    "start_time": "2022-01-02T18:51:01.383Z"
   },
   {
    "duration": 70,
    "start_time": "2022-01-02T18:51:01.467Z"
   },
   {
    "duration": 53,
    "start_time": "2022-01-02T18:51:01.541Z"
   },
   {
    "duration": 24,
    "start_time": "2022-01-02T18:51:01.597Z"
   },
   {
    "duration": 24,
    "start_time": "2022-01-02T18:51:01.624Z"
   },
   {
    "duration": 8139,
    "start_time": "2022-01-02T18:51:01.667Z"
   },
   {
    "duration": 17339,
    "start_time": "2022-01-02T18:51:09.809Z"
   },
   {
    "duration": 47,
    "start_time": "2022-01-02T18:51:27.151Z"
   },
   {
    "duration": 511,
    "start_time": "2022-01-02T18:51:27.200Z"
   },
   {
    "duration": 11,
    "start_time": "2022-01-02T18:51:27.714Z"
   },
   {
    "duration": 416,
    "start_time": "2022-01-02T18:51:27.727Z"
   },
   {
    "duration": 440,
    "start_time": "2022-01-02T18:51:28.145Z"
   },
   {
    "duration": 401,
    "start_time": "2022-01-02T18:51:28.588Z"
   },
   {
    "duration": 399,
    "start_time": "2022-01-02T18:51:28.992Z"
   },
   {
    "duration": 397,
    "start_time": "2022-01-02T18:51:29.394Z"
   },
   {
    "duration": 56,
    "start_time": "2022-01-02T18:51:29.793Z"
   },
   {
    "duration": 11,
    "start_time": "2022-01-02T18:52:24.968Z"
   },
   {
    "duration": 11,
    "start_time": "2022-01-02T18:54:44.277Z"
   },
   {
    "duration": 12,
    "start_time": "2022-01-02T18:56:14.687Z"
   },
   {
    "duration": 11,
    "start_time": "2022-01-02T18:57:39.082Z"
   },
   {
    "duration": 11,
    "start_time": "2022-01-02T18:59:52.124Z"
   },
   {
    "duration": 12,
    "start_time": "2022-01-02T19:01:10.185Z"
   },
   {
    "duration": 6,
    "start_time": "2022-01-02T19:09:08.749Z"
   },
   {
    "duration": 8,
    "start_time": "2022-01-02T19:09:20.835Z"
   },
   {
    "duration": 11,
    "start_time": "2022-01-02T19:09:47.374Z"
   },
   {
    "duration": 98,
    "start_time": "2022-01-02T19:16:29.451Z"
   },
   {
    "duration": 475,
    "start_time": "2022-01-02T19:18:57.411Z"
   },
   {
    "duration": 7,
    "start_time": "2022-01-02T19:23:58.846Z"
   },
   {
    "duration": 6,
    "start_time": "2022-01-02T19:29:49.316Z"
   },
   {
    "duration": 406,
    "start_time": "2022-01-02T19:32:22.497Z"
   },
   {
    "duration": 10,
    "start_time": "2022-01-02T19:32:26.785Z"
   },
   {
    "duration": 7,
    "start_time": "2022-01-02T19:32:31.724Z"
   },
   {
    "duration": 10,
    "start_time": "2022-01-02T19:32:59.231Z"
   },
   {
    "duration": 31,
    "start_time": "2022-01-02T19:33:01.741Z"
   },
   {
    "duration": 11,
    "start_time": "2022-01-02T19:33:19.136Z"
   },
   {
    "duration": 31,
    "start_time": "2022-01-02T19:33:25.146Z"
   },
   {
    "duration": 270,
    "start_time": "2022-01-02T19:35:58.850Z"
   },
   {
    "duration": 265,
    "start_time": "2022-01-02T19:36:13.726Z"
   },
   {
    "duration": 253,
    "start_time": "2022-01-02T19:36:36.507Z"
   },
   {
    "duration": 30,
    "start_time": "2022-01-02T19:36:52.114Z"
   },
   {
    "duration": 93,
    "start_time": "2022-01-02T19:41:15.434Z"
   },
   {
    "duration": 36,
    "start_time": "2022-01-02T19:41:58.610Z"
   },
   {
    "duration": 20,
    "start_time": "2022-01-02T19:43:40.202Z"
   },
   {
    "duration": 16,
    "start_time": "2022-01-02T19:44:26.981Z"
   },
   {
    "duration": 385,
    "start_time": "2022-01-03T13:08:37.202Z"
   },
   {
    "duration": 1462,
    "start_time": "2022-01-03T13:08:50.256Z"
   },
   {
    "duration": 21,
    "start_time": "2022-01-03T13:08:51.720Z"
   },
   {
    "duration": 65,
    "start_time": "2022-01-03T13:08:51.744Z"
   },
   {
    "duration": 38,
    "start_time": "2022-01-03T13:08:51.812Z"
   },
   {
    "duration": 47,
    "start_time": "2022-01-03T13:08:51.867Z"
   },
   {
    "duration": 103,
    "start_time": "2022-01-03T13:08:51.917Z"
   },
   {
    "duration": 71,
    "start_time": "2022-01-03T13:08:52.022Z"
   },
   {
    "duration": 81,
    "start_time": "2022-01-03T13:08:52.097Z"
   },
   {
    "duration": 37,
    "start_time": "2022-01-03T13:08:52.181Z"
   },
   {
    "duration": 47,
    "start_time": "2022-01-03T13:08:52.221Z"
   },
   {
    "duration": 11,
    "start_time": "2022-01-03T13:08:52.271Z"
   },
   {
    "duration": 7991,
    "start_time": "2022-01-03T13:08:52.284Z"
   },
   {
    "duration": 17215,
    "start_time": "2022-01-03T13:09:00.278Z"
   },
   {
    "duration": 31,
    "start_time": "2022-01-03T13:09:17.496Z"
   },
   {
    "duration": 532,
    "start_time": "2022-01-03T13:09:17.530Z"
   },
   {
    "duration": 11,
    "start_time": "2022-01-03T13:09:18.068Z"
   },
   {
    "duration": 407,
    "start_time": "2022-01-03T13:09:18.082Z"
   },
   {
    "duration": 11,
    "start_time": "2022-01-03T13:09:18.491Z"
   },
   {
    "duration": 442,
    "start_time": "2022-01-03T13:09:18.504Z"
   },
   {
    "duration": 22,
    "start_time": "2022-01-03T13:09:18.948Z"
   },
   {
    "duration": 396,
    "start_time": "2022-01-03T13:09:18.973Z"
   },
   {
    "duration": 11,
    "start_time": "2022-01-03T13:09:19.371Z"
   },
   {
    "duration": 424,
    "start_time": "2022-01-03T13:09:19.387Z"
   },
   {
    "duration": 12,
    "start_time": "2022-01-03T13:09:19.814Z"
   },
   {
    "duration": 399,
    "start_time": "2022-01-03T13:09:19.829Z"
   },
   {
    "duration": 12,
    "start_time": "2022-01-03T13:09:20.231Z"
   },
   {
    "duration": 30,
    "start_time": "2022-01-03T13:09:20.245Z"
   },
   {
    "duration": 508,
    "start_time": "2022-01-03T13:09:20.278Z"
   },
   {
    "duration": 416,
    "start_time": "2022-01-03T13:09:20.788Z"
   },
   {
    "duration": 31,
    "start_time": "2022-01-03T13:10:54.830Z"
   },
   {
    "duration": 29,
    "start_time": "2022-01-03T13:11:24.569Z"
   },
   {
    "duration": 18,
    "start_time": "2022-01-03T13:11:45.800Z"
   },
   {
    "duration": 30,
    "start_time": "2022-01-03T13:11:56.857Z"
   },
   {
    "duration": 29,
    "start_time": "2022-01-03T13:12:03.669Z"
   },
   {
    "duration": 294,
    "start_time": "2022-01-03T13:13:09.706Z"
   },
   {
    "duration": 279,
    "start_time": "2022-01-03T13:13:17.066Z"
   },
   {
    "duration": 8,
    "start_time": "2022-01-03T13:13:24.349Z"
   },
   {
    "duration": 20,
    "start_time": "2022-01-03T13:13:36.897Z"
   },
   {
    "duration": 18,
    "start_time": "2022-01-03T13:23:41.986Z"
   },
   {
    "duration": 97,
    "start_time": "2022-01-03T13:26:42.662Z"
   },
   {
    "duration": 1380,
    "start_time": "2022-01-04T12:12:45.853Z"
   },
   {
    "duration": 23,
    "start_time": "2022-01-04T12:12:47.237Z"
   },
   {
    "duration": 76,
    "start_time": "2022-01-04T12:12:47.264Z"
   },
   {
    "duration": 38,
    "start_time": "2022-01-04T12:12:47.344Z"
   },
   {
    "duration": 64,
    "start_time": "2022-01-04T12:12:47.384Z"
   },
   {
    "duration": 92,
    "start_time": "2022-01-04T12:12:47.450Z"
   },
   {
    "duration": 61,
    "start_time": "2022-01-04T12:12:47.544Z"
   },
   {
    "duration": 80,
    "start_time": "2022-01-04T12:12:47.609Z"
   },
   {
    "duration": 55,
    "start_time": "2022-01-04T12:12:47.692Z"
   },
   {
    "duration": 23,
    "start_time": "2022-01-04T12:12:47.750Z"
   },
   {
    "duration": 11,
    "start_time": "2022-01-04T12:12:47.776Z"
   },
   {
    "duration": 7315,
    "start_time": "2022-01-04T12:12:47.789Z"
   },
   {
    "duration": 16478,
    "start_time": "2022-01-04T12:12:55.106Z"
   },
   {
    "duration": 46,
    "start_time": "2022-01-04T12:13:11.586Z"
   },
   {
    "duration": 501,
    "start_time": "2022-01-04T12:13:11.634Z"
   },
   {
    "duration": 11,
    "start_time": "2022-01-04T12:13:12.138Z"
   },
   {
    "duration": 578,
    "start_time": "2022-01-04T12:13:12.153Z"
   },
   {
    "duration": 13,
    "start_time": "2022-01-04T12:13:12.734Z"
   },
   {
    "duration": 431,
    "start_time": "2022-01-04T12:13:12.751Z"
   },
   {
    "duration": 14,
    "start_time": "2022-01-04T12:13:13.185Z"
   },
   {
    "duration": 363,
    "start_time": "2022-01-04T12:13:13.223Z"
   },
   {
    "duration": 11,
    "start_time": "2022-01-04T12:13:13.589Z"
   },
   {
    "duration": 376,
    "start_time": "2022-01-04T12:13:13.625Z"
   },
   {
    "duration": 24,
    "start_time": "2022-01-04T12:13:14.004Z"
   },
   {
    "duration": 361,
    "start_time": "2022-01-04T12:13:14.030Z"
   },
   {
    "duration": 31,
    "start_time": "2022-01-04T12:13:14.393Z"
   },
   {
    "duration": 8,
    "start_time": "2022-01-04T12:13:14.427Z"
   },
   {
    "duration": 609,
    "start_time": "2022-01-04T12:13:14.438Z"
   },
   {
    "duration": 25,
    "start_time": "2022-01-04T12:13:15.050Z"
   },
   {
    "duration": 22,
    "start_time": "2022-01-04T12:18:12.488Z"
   },
   {
    "duration": 370,
    "start_time": "2022-01-04T13:59:07.894Z"
   },
   {
    "duration": 329,
    "start_time": "2022-01-04T13:59:32.622Z"
   },
   {
    "duration": 1291,
    "start_time": "2022-01-04T13:59:56.110Z"
   },
   {
    "duration": 16,
    "start_time": "2022-01-04T13:59:57.404Z"
   },
   {
    "duration": 40,
    "start_time": "2022-01-04T13:59:57.421Z"
   },
   {
    "duration": 24,
    "start_time": "2022-01-04T13:59:57.463Z"
   },
   {
    "duration": 42,
    "start_time": "2022-01-04T13:59:57.489Z"
   },
   {
    "duration": 390,
    "start_time": "2022-01-04T13:59:57.533Z"
   },
   {
    "duration": -271,
    "start_time": "2022-01-04T13:59:58.196Z"
   },
   {
    "duration": -274,
    "start_time": "2022-01-04T13:59:58.200Z"
   },
   {
    "duration": -287,
    "start_time": "2022-01-04T13:59:58.213Z"
   },
   {
    "duration": -298,
    "start_time": "2022-01-04T13:59:58.225Z"
   },
   {
    "duration": -302,
    "start_time": "2022-01-04T13:59:58.230Z"
   },
   {
    "duration": -305,
    "start_time": "2022-01-04T13:59:58.234Z"
   },
   {
    "duration": -318,
    "start_time": "2022-01-04T13:59:58.247Z"
   },
   {
    "duration": -321,
    "start_time": "2022-01-04T13:59:58.251Z"
   },
   {
    "duration": -331,
    "start_time": "2022-01-04T13:59:58.262Z"
   },
   {
    "duration": -334,
    "start_time": "2022-01-04T13:59:58.266Z"
   },
   {
    "duration": -344,
    "start_time": "2022-01-04T13:59:58.277Z"
   },
   {
    "duration": -348,
    "start_time": "2022-01-04T13:59:58.281Z"
   },
   {
    "duration": -352,
    "start_time": "2022-01-04T13:59:58.286Z"
   },
   {
    "duration": -362,
    "start_time": "2022-01-04T13:59:58.297Z"
   },
   {
    "duration": -367,
    "start_time": "2022-01-04T13:59:58.302Z"
   },
   {
    "duration": -377,
    "start_time": "2022-01-04T13:59:58.313Z"
   },
   {
    "duration": -384,
    "start_time": "2022-01-04T13:59:58.321Z"
   },
   {
    "duration": -416,
    "start_time": "2022-01-04T13:59:58.354Z"
   },
   {
    "duration": -431,
    "start_time": "2022-01-04T13:59:58.370Z"
   },
   {
    "duration": -441,
    "start_time": "2022-01-04T13:59:58.380Z"
   },
   {
    "duration": -448,
    "start_time": "2022-01-04T13:59:58.388Z"
   },
   {
    "duration": -461,
    "start_time": "2022-01-04T13:59:58.402Z"
   },
   {
    "duration": -472,
    "start_time": "2022-01-04T13:59:58.414Z"
   },
   {
    "duration": 54,
    "start_time": "2022-01-04T14:00:53.807Z"
   },
   {
    "duration": 40,
    "start_time": "2022-01-04T14:01:07.757Z"
   },
   {
    "duration": 45,
    "start_time": "2022-01-04T14:01:12.559Z"
   },
   {
    "duration": 21,
    "start_time": "2022-01-04T14:01:35.024Z"
   },
   {
    "duration": 14,
    "start_time": "2022-01-04T14:01:38.611Z"
   },
   {
    "duration": 7,
    "start_time": "2022-01-04T14:01:43.752Z"
   },
   {
    "duration": 12,
    "start_time": "2022-01-04T14:06:46.802Z"
   },
   {
    "duration": 9,
    "start_time": "2022-01-04T14:07:14.292Z"
   },
   {
    "duration": 11,
    "start_time": "2022-01-04T14:07:25.336Z"
   },
   {
    "duration": 18,
    "start_time": "2022-01-04T14:07:30.336Z"
   },
   {
    "duration": 14,
    "start_time": "2022-01-04T14:08:00.135Z"
   },
   {
    "duration": 105,
    "start_time": "2022-01-04T14:08:20.533Z"
   },
   {
    "duration": 20,
    "start_time": "2022-01-04T14:08:29.510Z"
   },
   {
    "duration": 6139,
    "start_time": "2022-01-04T14:26:40.737Z"
   },
   {
    "duration": 13645,
    "start_time": "2022-01-04T14:26:51.337Z"
   },
   {
    "duration": 23,
    "start_time": "2022-01-04T14:27:04.984Z"
   },
   {
    "duration": 295,
    "start_time": "2022-01-04T14:27:05.009Z"
   },
   {
    "duration": 7,
    "start_time": "2022-01-04T14:27:05.305Z"
   },
   {
    "duration": 210,
    "start_time": "2022-01-04T14:27:05.314Z"
   },
   {
    "duration": 15,
    "start_time": "2022-01-04T14:27:05.527Z"
   },
   {
    "duration": 10,
    "start_time": "2022-01-04T14:27:24.424Z"
   },
   {
    "duration": 200,
    "start_time": "2022-01-04T14:27:27.752Z"
   },
   {
    "duration": 252,
    "start_time": "2022-01-04T14:27:44.607Z"
   },
   {
    "duration": 13,
    "start_time": "2022-01-04T14:27:48.528Z"
   },
   {
    "duration": 197,
    "start_time": "2022-01-04T14:27:50.540Z"
   },
   {
    "duration": 9,
    "start_time": "2022-01-04T14:27:53.350Z"
   },
   {
    "duration": 182,
    "start_time": "2022-01-04T14:28:21.023Z"
   },
   {
    "duration": 8,
    "start_time": "2022-01-04T14:28:24.955Z"
   },
   {
    "duration": 342,
    "start_time": "2022-01-04T14:31:16.313Z"
   },
   {
    "duration": 15,
    "start_time": "2022-01-04T14:31:20.837Z"
   },
   {
    "duration": 936,
    "start_time": "2022-01-04T14:33:08.456Z"
   },
   {
    "duration": 12,
    "start_time": "2022-01-04T14:33:09.394Z"
   },
   {
    "duration": 36,
    "start_time": "2022-01-04T14:33:09.408Z"
   },
   {
    "duration": 24,
    "start_time": "2022-01-04T14:33:09.445Z"
   },
   {
    "duration": 31,
    "start_time": "2022-01-04T14:33:09.470Z"
   },
   {
    "duration": 66,
    "start_time": "2022-01-04T14:33:09.502Z"
   },
   {
    "duration": 39,
    "start_time": "2022-01-04T14:33:09.570Z"
   },
   {
    "duration": 57,
    "start_time": "2022-01-04T14:33:09.611Z"
   },
   {
    "duration": 20,
    "start_time": "2022-01-04T14:33:09.669Z"
   },
   {
    "duration": 12,
    "start_time": "2022-01-04T14:33:09.690Z"
   },
   {
    "duration": 6,
    "start_time": "2022-01-04T14:33:09.703Z"
   },
   {
    "duration": 3964,
    "start_time": "2022-01-04T14:33:09.726Z"
   },
   {
    "duration": 9169,
    "start_time": "2022-01-04T14:33:13.691Z"
   },
   {
    "duration": 17,
    "start_time": "2022-01-04T14:33:22.862Z"
   },
   {
    "duration": 283,
    "start_time": "2022-01-04T14:33:22.881Z"
   },
   {
    "duration": 7,
    "start_time": "2022-01-04T14:33:23.166Z"
   },
   {
    "duration": 206,
    "start_time": "2022-01-04T14:33:23.175Z"
   },
   {
    "duration": 7,
    "start_time": "2022-01-04T14:33:23.383Z"
   },
   {
    "duration": 246,
    "start_time": "2022-01-04T14:33:23.392Z"
   },
   {
    "duration": 7,
    "start_time": "2022-01-04T14:33:23.640Z"
   },
   {
    "duration": 199,
    "start_time": "2022-01-04T14:33:23.648Z"
   },
   {
    "duration": 6,
    "start_time": "2022-01-04T14:33:23.849Z"
   },
   {
    "duration": 214,
    "start_time": "2022-01-04T14:33:23.858Z"
   },
   {
    "duration": 6,
    "start_time": "2022-01-04T14:33:24.074Z"
   },
   {
    "duration": 198,
    "start_time": "2022-01-04T14:33:24.082Z"
   },
   {
    "duration": 6,
    "start_time": "2022-01-04T14:33:24.282Z"
   },
   {
    "duration": 5,
    "start_time": "2022-01-04T14:33:24.290Z"
   },
   {
    "duration": 358,
    "start_time": "2022-01-04T14:33:24.296Z"
   },
   {
    "duration": 11,
    "start_time": "2022-01-04T14:33:24.655Z"
   }
  ],
  "kernelspec": {
   "display_name": "Python 3 (ipykernel)",
   "language": "python",
   "name": "python3"
  },
  "language_info": {
   "codemirror_mode": {
    "name": "ipython",
    "version": 3
   },
   "file_extension": ".py",
   "mimetype": "text/x-python",
   "name": "python",
   "nbconvert_exporter": "python",
   "pygments_lexer": "ipython3",
   "version": "3.9.5"
  },
  "toc": {
   "base_numbering": 1,
   "nav_menu": {},
   "number_sections": true,
   "sideBar": true,
   "skip_h1_title": true,
   "title_cell": "Table of Contents",
   "title_sidebar": "Contents",
   "toc_cell": false,
   "toc_position": {},
   "toc_section_display": true,
   "toc_window_display": false
  }
 },
 "nbformat": 4,
 "nbformat_minor": 2
}
