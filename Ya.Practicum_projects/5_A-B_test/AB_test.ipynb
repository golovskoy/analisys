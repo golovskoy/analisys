{
 "cells": [
  {
   "cell_type": "markdown",
   "metadata": {},
   "source": [
    "# Проверка гипотез по увеличению выручки интернет-магазина"
   ]
  },
  {
   "cell_type": "markdown",
   "metadata": {},
   "source": [
    "Целью исследования является проверка гипотез по увеличению выручки интернет-магазина. Проверку гипотез планируется осуществлять с помощью приоритезации и А/В-теста.\n",
    "\n",
    "Данные для приоритезации гиортез будут взяты у специалистов выдвинувших и описавших гипотезы. План работ следующий: <div>1. Данные для проведения А/В теста будут накоплены в ходе проведения эксперимента.\n",
    "<div>2. Для достижения целей необходимо провести приоритезацию гипотез и проанализировать результаты А/В-теста.\n",
    "<div>3. Принимаем решение для продолжения или остановки А/В-теста."
   ]
  },
  {
   "cell_type": "markdown",
   "metadata": {},
   "source": [
    "# Часть 1. Приоритизация гипотез."
   ]
  },
  {
   "cell_type": "markdown",
   "metadata": {},
   "source": [
    "## Применим фреймворк ICE для приоритизации гипотез. Отсортируем их по убыванию приоритета.\n"
   ]
  },
  {
   "cell_type": "code",
   "execution_count": 1,
   "metadata": {
    "scrolled": true
   },
   "outputs": [
    {
     "data": {
      "text/html": [
       "<div>\n",
       "<style scoped>\n",
       "    .dataframe tbody tr th:only-of-type {\n",
       "        vertical-align: middle;\n",
       "    }\n",
       "\n",
       "    .dataframe tbody tr th {\n",
       "        vertical-align: top;\n",
       "    }\n",
       "\n",
       "    .dataframe thead th {\n",
       "        text-align: right;\n",
       "    }\n",
       "</style>\n",
       "<table border=\"1\" class=\"dataframe\">\n",
       "  <thead>\n",
       "    <tr style=\"text-align: right;\">\n",
       "      <th></th>\n",
       "      <th>Hypothesis</th>\n",
       "      <th>Reach</th>\n",
       "      <th>Impact</th>\n",
       "      <th>Confidence</th>\n",
       "      <th>Efforts</th>\n",
       "    </tr>\n",
       "  </thead>\n",
       "  <tbody>\n",
       "    <tr>\n",
       "      <th>0</th>\n",
       "      <td>Добавить два новых канала привлечения трафика, что позволит привлекать на 30% больше пользователей</td>\n",
       "      <td>3</td>\n",
       "      <td>10</td>\n",
       "      <td>8</td>\n",
       "      <td>6</td>\n",
       "    </tr>\n",
       "    <tr>\n",
       "      <th>1</th>\n",
       "      <td>Запустить собственную службу доставки, что сократит срок доставки заказов</td>\n",
       "      <td>2</td>\n",
       "      <td>5</td>\n",
       "      <td>4</td>\n",
       "      <td>10</td>\n",
       "    </tr>\n",
       "    <tr>\n",
       "      <th>2</th>\n",
       "      <td>Добавить блоки рекомендаций товаров на сайт интернет магазина, чтобы повысить конверсию и средний чек заказа</td>\n",
       "      <td>8</td>\n",
       "      <td>3</td>\n",
       "      <td>7</td>\n",
       "      <td>3</td>\n",
       "    </tr>\n",
       "    <tr>\n",
       "      <th>3</th>\n",
       "      <td>Изменить структура категорий, что увеличит конверсию, т.к. пользователи быстрее найдут нужный товар</td>\n",
       "      <td>8</td>\n",
       "      <td>3</td>\n",
       "      <td>3</td>\n",
       "      <td>8</td>\n",
       "    </tr>\n",
       "    <tr>\n",
       "      <th>4</th>\n",
       "      <td>Изменить цвет фона главной страницы, чтобы увеличить вовлеченность пользователей</td>\n",
       "      <td>3</td>\n",
       "      <td>1</td>\n",
       "      <td>1</td>\n",
       "      <td>1</td>\n",
       "    </tr>\n",
       "    <tr>\n",
       "      <th>5</th>\n",
       "      <td>Добавить страницу отзывов клиентов о магазине, что позволит увеличить количество заказов</td>\n",
       "      <td>3</td>\n",
       "      <td>2</td>\n",
       "      <td>2</td>\n",
       "      <td>3</td>\n",
       "    </tr>\n",
       "    <tr>\n",
       "      <th>6</th>\n",
       "      <td>Показать на главной странице баннеры с актуальными акциями и распродажами, чтобы увеличить конверсию</td>\n",
       "      <td>5</td>\n",
       "      <td>3</td>\n",
       "      <td>8</td>\n",
       "      <td>3</td>\n",
       "    </tr>\n",
       "    <tr>\n",
       "      <th>7</th>\n",
       "      <td>Добавить форму подписки на все основные страницы, чтобы собрать базу клиентов для email-рассылок</td>\n",
       "      <td>10</td>\n",
       "      <td>7</td>\n",
       "      <td>8</td>\n",
       "      <td>5</td>\n",
       "    </tr>\n",
       "    <tr>\n",
       "      <th>8</th>\n",
       "      <td>Запустить акцию, дающую скидку на товар в день рождения</td>\n",
       "      <td>1</td>\n",
       "      <td>9</td>\n",
       "      <td>9</td>\n",
       "      <td>5</td>\n",
       "    </tr>\n",
       "  </tbody>\n",
       "</table>\n",
       "</div>"
      ],
      "text/plain": [
       "                                                                                                     Hypothesis  \\\n",
       "0            Добавить два новых канала привлечения трафика, что позволит привлекать на 30% больше пользователей   \n",
       "1                                     Запустить собственную службу доставки, что сократит срок доставки заказов   \n",
       "2  Добавить блоки рекомендаций товаров на сайт интернет магазина, чтобы повысить конверсию и средний чек заказа   \n",
       "3           Изменить структура категорий, что увеличит конверсию, т.к. пользователи быстрее найдут нужный товар   \n",
       "4                              Изменить цвет фона главной страницы, чтобы увеличить вовлеченность пользователей   \n",
       "5                      Добавить страницу отзывов клиентов о магазине, что позволит увеличить количество заказов   \n",
       "6          Показать на главной странице баннеры с актуальными акциями и распродажами, чтобы увеличить конверсию   \n",
       "7              Добавить форму подписки на все основные страницы, чтобы собрать базу клиентов для email-рассылок   \n",
       "8                                                       Запустить акцию, дающую скидку на товар в день рождения   \n",
       "\n",
       "   Reach  Impact  Confidence  Efforts  \n",
       "0      3      10           8        6  \n",
       "1      2       5           4       10  \n",
       "2      8       3           7        3  \n",
       "3      8       3           3        8  \n",
       "4      3       1           1        1  \n",
       "5      3       2           2        3  \n",
       "6      5       3           8        3  \n",
       "7     10       7           8        5  \n",
       "8      1       9           9        5  "
      ]
     },
     "metadata": {},
     "output_type": "display_data"
    }
   ],
   "source": [
    "#импортируем библиотеки\n",
    "import pandas as pd\n",
    "import scipy.stats as stats\n",
    "import datetime as dt\n",
    "import numpy as np\n",
    "import math as mth\n",
    "import matplotlib.pyplot as plt\n",
    "\n",
    "#ознакомимся с гипотезами\n",
    "data = pd.read_csv('C:\\\\Users\\\\algol\\\\Downloads\\\\hypothesis.csv', sep=',')\n",
    "#Чтобы вывести полное название гипотез\n",
    "pd.set_option('display.max_columns', None)\n",
    "pd.options.display.max_colwidth = 150\n",
    "display(data)"
   ]
  },
  {
   "cell_type": "markdown",
   "metadata": {},
   "source": [
    "Описание данных:  \n",
    "Hypothesis — краткое описание гипотезы;  \n",
    "Reach — охват пользователей по 10-балльной шкале;  \n",
    "Impact — влияние на пользователей по 10-балльной шкале;  \n",
    "Confidence — уверенность в гипотезе по 10-балльной шкале;  \n",
    "Efforts — затраты ресурсов на проверку гипотезы по 10-балльной шкале. Чем больше значение Efforts, тем дороже проверка гипотезы."
   ]
  },
  {
   "cell_type": "code",
   "execution_count": 2,
   "metadata": {},
   "outputs": [
    {
     "data": {
      "text/html": [
       "<div>\n",
       "<style scoped>\n",
       "    .dataframe tbody tr th:only-of-type {\n",
       "        vertical-align: middle;\n",
       "    }\n",
       "\n",
       "    .dataframe tbody tr th {\n",
       "        vertical-align: top;\n",
       "    }\n",
       "\n",
       "    .dataframe thead th {\n",
       "        text-align: right;\n",
       "    }\n",
       "</style>\n",
       "<table border=\"1\" class=\"dataframe\">\n",
       "  <thead>\n",
       "    <tr style=\"text-align: right;\">\n",
       "      <th></th>\n",
       "      <th>hypothesis</th>\n",
       "      <th>ICE</th>\n",
       "    </tr>\n",
       "  </thead>\n",
       "  <tbody>\n",
       "    <tr>\n",
       "      <th>8</th>\n",
       "      <td>Запустить акцию, дающую скидку на товар в день рождения</td>\n",
       "      <td>16.200000</td>\n",
       "    </tr>\n",
       "    <tr>\n",
       "      <th>0</th>\n",
       "      <td>Добавить два новых канала привлечения трафика, что позволит привлекать на 30% больше пользователей</td>\n",
       "      <td>13.333333</td>\n",
       "    </tr>\n",
       "    <tr>\n",
       "      <th>7</th>\n",
       "      <td>Добавить форму подписки на все основные страницы, чтобы собрать базу клиентов для email-рассылок</td>\n",
       "      <td>11.200000</td>\n",
       "    </tr>\n",
       "    <tr>\n",
       "      <th>6</th>\n",
       "      <td>Показать на главной странице баннеры с актуальными акциями и распродажами, чтобы увеличить конверсию</td>\n",
       "      <td>8.000000</td>\n",
       "    </tr>\n",
       "    <tr>\n",
       "      <th>2</th>\n",
       "      <td>Добавить блоки рекомендаций товаров на сайт интернет магазина, чтобы повысить конверсию и средний чек заказа</td>\n",
       "      <td>7.000000</td>\n",
       "    </tr>\n",
       "    <tr>\n",
       "      <th>1</th>\n",
       "      <td>Запустить собственную службу доставки, что сократит срок доставки заказов</td>\n",
       "      <td>2.000000</td>\n",
       "    </tr>\n",
       "    <tr>\n",
       "      <th>5</th>\n",
       "      <td>Добавить страницу отзывов клиентов о магазине, что позволит увеличить количество заказов</td>\n",
       "      <td>1.333333</td>\n",
       "    </tr>\n",
       "    <tr>\n",
       "      <th>3</th>\n",
       "      <td>Изменить структура категорий, что увеличит конверсию, т.к. пользователи быстрее найдут нужный товар</td>\n",
       "      <td>1.125000</td>\n",
       "    </tr>\n",
       "    <tr>\n",
       "      <th>4</th>\n",
       "      <td>Изменить цвет фона главной страницы, чтобы увеличить вовлеченность пользователей</td>\n",
       "      <td>1.000000</td>\n",
       "    </tr>\n",
       "  </tbody>\n",
       "</table>\n",
       "</div>"
      ],
      "text/plain": [
       "                                                                                                     hypothesis  \\\n",
       "8                                                       Запустить акцию, дающую скидку на товар в день рождения   \n",
       "0            Добавить два новых канала привлечения трафика, что позволит привлекать на 30% больше пользователей   \n",
       "7              Добавить форму подписки на все основные страницы, чтобы собрать базу клиентов для email-рассылок   \n",
       "6          Показать на главной странице баннеры с актуальными акциями и распродажами, чтобы увеличить конверсию   \n",
       "2  Добавить блоки рекомендаций товаров на сайт интернет магазина, чтобы повысить конверсию и средний чек заказа   \n",
       "1                                     Запустить собственную службу доставки, что сократит срок доставки заказов   \n",
       "5                      Добавить страницу отзывов клиентов о магазине, что позволит увеличить количество заказов   \n",
       "3           Изменить структура категорий, что увеличит конверсию, т.к. пользователи быстрее найдут нужный товар   \n",
       "4                              Изменить цвет фона главной страницы, чтобы увеличить вовлеченность пользователей   \n",
       "\n",
       "         ICE  \n",
       "8  16.200000  \n",
       "0  13.333333  \n",
       "7  11.200000  \n",
       "6   8.000000  \n",
       "2   7.000000  \n",
       "1   2.000000  \n",
       "5   1.333333  \n",
       "3   1.125000  \n",
       "4   1.000000  "
      ]
     },
     "metadata": {},
     "output_type": "display_data"
    }
   ],
   "source": [
    "#приведем названия столбцов к нижнему регистру\n",
    "data.columns = [x.lower() for x in data.columns]\n",
    "#добавим столбец с параметром ICE\n",
    "data['ICE'] = (\n",
    "    data['impact']\n",
    "    * data['confidence']) / data['efforts']\n",
    "pd.set_option('display.max_columns', None)\n",
    "pd.options.display.max_colwidth = 150\n",
    "display(data[['hypothesis', 'ICE']].sort_values(by='ICE', ascending=False))\n"
   ]
  },
  {
   "cell_type": "markdown",
   "metadata": {},
   "source": [
    "Вывод. Отметим, что по параметру ICE наиболее перспективные гипотезы 8, 0, 7, 6 и 2."
   ]
  },
  {
   "cell_type": "markdown",
   "metadata": {},
   "source": [
    "## Применим фреймворк RICE для приоритизации гипотез. Отсортируем их по убыванию приоритета.\n",
    " "
   ]
  },
  {
   "cell_type": "code",
   "execution_count": 3,
   "metadata": {},
   "outputs": [
    {
     "data": {
      "text/html": [
       "<div>\n",
       "<style scoped>\n",
       "    .dataframe tbody tr th:only-of-type {\n",
       "        vertical-align: middle;\n",
       "    }\n",
       "\n",
       "    .dataframe tbody tr th {\n",
       "        vertical-align: top;\n",
       "    }\n",
       "\n",
       "    .dataframe thead th {\n",
       "        text-align: right;\n",
       "    }\n",
       "</style>\n",
       "<table border=\"1\" class=\"dataframe\">\n",
       "  <thead>\n",
       "    <tr style=\"text-align: right;\">\n",
       "      <th></th>\n",
       "      <th>hypothesis</th>\n",
       "      <th>RICE</th>\n",
       "    </tr>\n",
       "  </thead>\n",
       "  <tbody>\n",
       "    <tr>\n",
       "      <th>7</th>\n",
       "      <td>Добавить форму подписки на все основные страницы, чтобы собрать базу клиентов для email-рассылок</td>\n",
       "      <td>112.0</td>\n",
       "    </tr>\n",
       "    <tr>\n",
       "      <th>2</th>\n",
       "      <td>Добавить блоки рекомендаций товаров на сайт интернет магазина, чтобы повысить конверсию и средний чек заказа</td>\n",
       "      <td>56.0</td>\n",
       "    </tr>\n",
       "    <tr>\n",
       "      <th>0</th>\n",
       "      <td>Добавить два новых канала привлечения трафика, что позволит привлекать на 30% больше пользователей</td>\n",
       "      <td>40.0</td>\n",
       "    </tr>\n",
       "    <tr>\n",
       "      <th>6</th>\n",
       "      <td>Показать на главной странице баннеры с актуальными акциями и распродажами, чтобы увеличить конверсию</td>\n",
       "      <td>40.0</td>\n",
       "    </tr>\n",
       "    <tr>\n",
       "      <th>8</th>\n",
       "      <td>Запустить акцию, дающую скидку на товар в день рождения</td>\n",
       "      <td>16.2</td>\n",
       "    </tr>\n",
       "    <tr>\n",
       "      <th>3</th>\n",
       "      <td>Изменить структура категорий, что увеличит конверсию, т.к. пользователи быстрее найдут нужный товар</td>\n",
       "      <td>9.0</td>\n",
       "    </tr>\n",
       "    <tr>\n",
       "      <th>1</th>\n",
       "      <td>Запустить собственную службу доставки, что сократит срок доставки заказов</td>\n",
       "      <td>4.0</td>\n",
       "    </tr>\n",
       "    <tr>\n",
       "      <th>5</th>\n",
       "      <td>Добавить страницу отзывов клиентов о магазине, что позволит увеличить количество заказов</td>\n",
       "      <td>4.0</td>\n",
       "    </tr>\n",
       "    <tr>\n",
       "      <th>4</th>\n",
       "      <td>Изменить цвет фона главной страницы, чтобы увеличить вовлеченность пользователей</td>\n",
       "      <td>3.0</td>\n",
       "    </tr>\n",
       "  </tbody>\n",
       "</table>\n",
       "</div>"
      ],
      "text/plain": [
       "                                                                                                     hypothesis  \\\n",
       "7              Добавить форму подписки на все основные страницы, чтобы собрать базу клиентов для email-рассылок   \n",
       "2  Добавить блоки рекомендаций товаров на сайт интернет магазина, чтобы повысить конверсию и средний чек заказа   \n",
       "0            Добавить два новых канала привлечения трафика, что позволит привлекать на 30% больше пользователей   \n",
       "6          Показать на главной странице баннеры с актуальными акциями и распродажами, чтобы увеличить конверсию   \n",
       "8                                                       Запустить акцию, дающую скидку на товар в день рождения   \n",
       "3           Изменить структура категорий, что увеличит конверсию, т.к. пользователи быстрее найдут нужный товар   \n",
       "1                                     Запустить собственную службу доставки, что сократит срок доставки заказов   \n",
       "5                      Добавить страницу отзывов клиентов о магазине, что позволит увеличить количество заказов   \n",
       "4                              Изменить цвет фона главной страницы, чтобы увеличить вовлеченность пользователей   \n",
       "\n",
       "    RICE  \n",
       "7  112.0  \n",
       "2   56.0  \n",
       "0   40.0  \n",
       "6   40.0  \n",
       "8   16.2  \n",
       "3    9.0  \n",
       "1    4.0  \n",
       "5    4.0  \n",
       "4    3.0  "
      ]
     },
     "metadata": {},
     "output_type": "display_data"
    }
   ],
   "source": [
    "#добавим столбец с параметром RICE\n",
    "\n",
    "data['RICE'] = (data['reach']*\n",
    "    data['impact']\n",
    "    * data['confidence']) / data['efforts']\n",
    "pd.set_option('display.max_columns', None)\n",
    "pd.options.display.max_colwidth = 150\n",
    "display(data[['hypothesis', 'RICE']].sort_values(by='RICE', ascending=False))"
   ]
  },
  {
   "cell_type": "markdown",
   "metadata": {},
   "source": [
    "Вывод. Отметим, что по параметру RICE в пятерку наиболее перспективных гипотез попадают следующие: <div>-Добавить форму подписки на все основные страницы, чтобы собрать базу клиентов для email-рассылок\t\n",
    "<div>-Добавить блоки рекомендаций товаров на сайт интернет магазина, чтобы повысить конверсию и средний чек заказа\n",
    "<div>-Добавить два новых канала привлечения трафика, что позволит привлекать на 30% больше пользователей\n",
    "<div>-Показать на главной странице баннеры с актуальными акциями и распродажами, чтобы увеличить конверсию\t\n",
    "<div>-Запустить акцию, дающую скидку на товар в день рождения."
   ]
  },
  {
   "cell_type": "markdown",
   "metadata": {},
   "source": [
    "## Проанализируем, как изменилась приоритизация гипотез при применении RICE вместо ICE. \n",
    " "
   ]
  },
  {
   "cell_type": "markdown",
   "metadata": {},
   "source": [
    "На первое место для параметра RICE вышла гипотеза \"Добавить форму подписки на все основные страницы, чтобы собрать базу клиентов для email-рассылок\" это произошло потому, что у нее параметр Reach=10 и является наибольшим из всех. Однако отмечу, что все 5 гипотез: <div>-Добавить форму подписки на все основные страницы, чтобы собрать базу клиентов для email-рассылок;\t\n",
    "<div>-Добавить блоки рекомендаций товаров на сайт интернет магазина, чтобы повысить конверсию и средний чек заказа;\n",
    "<div>-Добавить два новых канала привлечения трафика, что позволит привлекать на 30% больше пользователей;\n",
    "<div>-Показать на главной странице баннеры с актуальными акциями и распродажами, чтобы увеличить конверсию;\t\n",
    "<div>-Запустить акцию, дающую скидку на товар в день рождения,<div> имеются в наибольших приоритетах RICE и ICE. Логично работать с гипотезами именно из этого списка. "
   ]
  },
  {
   "cell_type": "markdown",
   "metadata": {},
   "source": [
    "# Часть 2. Анализ A/B-теста."
   ]
  },
  {
   "cell_type": "code",
   "execution_count": 4,
   "metadata": {
    "scrolled": true
   },
   "outputs": [
    {
     "data": {
      "text/html": [
       "<div>\n",
       "<style scoped>\n",
       "    .dataframe tbody tr th:only-of-type {\n",
       "        vertical-align: middle;\n",
       "    }\n",
       "\n",
       "    .dataframe tbody tr th {\n",
       "        vertical-align: top;\n",
       "    }\n",
       "\n",
       "    .dataframe thead th {\n",
       "        text-align: right;\n",
       "    }\n",
       "</style>\n",
       "<table border=\"1\" class=\"dataframe\">\n",
       "  <thead>\n",
       "    <tr style=\"text-align: right;\">\n",
       "      <th></th>\n",
       "      <th>transactionId</th>\n",
       "      <th>visitorId</th>\n",
       "      <th>date</th>\n",
       "      <th>revenue</th>\n",
       "      <th>group</th>\n",
       "    </tr>\n",
       "  </thead>\n",
       "  <tbody>\n",
       "    <tr>\n",
       "      <th>0</th>\n",
       "      <td>3667963787</td>\n",
       "      <td>3312258926</td>\n",
       "      <td>2019-08-15</td>\n",
       "      <td>1650</td>\n",
       "      <td>B</td>\n",
       "    </tr>\n",
       "    <tr>\n",
       "      <th>1</th>\n",
       "      <td>2804400009</td>\n",
       "      <td>3642806036</td>\n",
       "      <td>2019-08-15</td>\n",
       "      <td>730</td>\n",
       "      <td>B</td>\n",
       "    </tr>\n",
       "    <tr>\n",
       "      <th>2</th>\n",
       "      <td>2961555356</td>\n",
       "      <td>4069496402</td>\n",
       "      <td>2019-08-15</td>\n",
       "      <td>400</td>\n",
       "      <td>A</td>\n",
       "    </tr>\n",
       "    <tr>\n",
       "      <th>3</th>\n",
       "      <td>3797467345</td>\n",
       "      <td>1196621759</td>\n",
       "      <td>2019-08-15</td>\n",
       "      <td>9759</td>\n",
       "      <td>B</td>\n",
       "    </tr>\n",
       "    <tr>\n",
       "      <th>4</th>\n",
       "      <td>2282983706</td>\n",
       "      <td>2322279887</td>\n",
       "      <td>2019-08-15</td>\n",
       "      <td>2308</td>\n",
       "      <td>B</td>\n",
       "    </tr>\n",
       "  </tbody>\n",
       "</table>\n",
       "</div>"
      ],
      "text/plain": [
       "   transactionId   visitorId       date  revenue group\n",
       "0     3667963787  3312258926 2019-08-15     1650     B\n",
       "1     2804400009  3642806036 2019-08-15      730     B\n",
       "2     2961555356  4069496402 2019-08-15      400     A\n",
       "3     3797467345  1196621759 2019-08-15     9759     B\n",
       "4     2282983706  2322279887 2019-08-15     2308     B"
      ]
     },
     "metadata": {},
     "output_type": "display_data"
    },
    {
     "data": {
      "text/html": [
       "<div>\n",
       "<style scoped>\n",
       "    .dataframe tbody tr th:only-of-type {\n",
       "        vertical-align: middle;\n",
       "    }\n",
       "\n",
       "    .dataframe tbody tr th {\n",
       "        vertical-align: top;\n",
       "    }\n",
       "\n",
       "    .dataframe thead th {\n",
       "        text-align: right;\n",
       "    }\n",
       "</style>\n",
       "<table border=\"1\" class=\"dataframe\">\n",
       "  <thead>\n",
       "    <tr style=\"text-align: right;\">\n",
       "      <th></th>\n",
       "      <th>date</th>\n",
       "      <th>group</th>\n",
       "      <th>visitors</th>\n",
       "    </tr>\n",
       "  </thead>\n",
       "  <tbody>\n",
       "    <tr>\n",
       "      <th>0</th>\n",
       "      <td>2019-08-01</td>\n",
       "      <td>A</td>\n",
       "      <td>719</td>\n",
       "    </tr>\n",
       "    <tr>\n",
       "      <th>1</th>\n",
       "      <td>2019-08-02</td>\n",
       "      <td>A</td>\n",
       "      <td>619</td>\n",
       "    </tr>\n",
       "    <tr>\n",
       "      <th>2</th>\n",
       "      <td>2019-08-03</td>\n",
       "      <td>A</td>\n",
       "      <td>507</td>\n",
       "    </tr>\n",
       "    <tr>\n",
       "      <th>3</th>\n",
       "      <td>2019-08-04</td>\n",
       "      <td>A</td>\n",
       "      <td>717</td>\n",
       "    </tr>\n",
       "    <tr>\n",
       "      <th>4</th>\n",
       "      <td>2019-08-05</td>\n",
       "      <td>A</td>\n",
       "      <td>756</td>\n",
       "    </tr>\n",
       "  </tbody>\n",
       "</table>\n",
       "</div>"
      ],
      "text/plain": [
       "        date group  visitors\n",
       "0 2019-08-01     A       719\n",
       "1 2019-08-02     A       619\n",
       "2 2019-08-03     A       507\n",
       "3 2019-08-04     A       717\n",
       "4 2019-08-05     A       756"
      ]
     },
     "metadata": {},
     "output_type": "display_data"
    }
   ],
   "source": [
    "#ознакомимся с датафреймами\n",
    "orders = pd.read_csv('C:\\\\Users\\\\algol\\\\Downloads\\\\orders.csv', sep=',')\n",
    "#переведем формат дат\n",
    "orders['date'] = orders['date'].map(lambda x: dt.datetime.strptime(x, '%Y-%m-%d'))\n",
    "\n",
    "visitors = pd.read_csv(\n",
    "    'C:\\\\Users\\\\algol\\\\Downloads\\\\visitors.csv', sep=','\n",
    ")\n",
    "\n",
    "#переведем формат дат\n",
    "visitors['date'] = visitors['date'].map(\n",
    "    lambda x: dt.datetime.strptime(x, '%Y-%m-%d')\n",
    ")\n",
    "\n",
    "display(orders.head())\n",
    "display(visitors.head())"
   ]
  },
  {
   "cell_type": "markdown",
   "metadata": {},
   "source": [
    "Описание данных:    \n",
    "transactionId — идентификатор заказа;  \n",
    "visitorId — идентификатор пользователя, совершившего заказ;  \n",
    "date — дата, когда был совершён заказ;  \n",
    "revenue — выручка заказа;  \n",
    "group — группа A/B-теста, в которую попал заказ;  \n",
    "date — дата;  \n",
    "group — группа A/B-теста;  \n",
    "visitors — количество пользователей в указанную дату в указанной группе A/B-теста."
   ]
  },
  {
   "cell_type": "code",
   "execution_count": 21,
   "metadata": {},
   "outputs": [
    {
     "data": {
      "text/plain": [
       "0"
      ]
     },
     "execution_count": 21,
     "metadata": {},
     "output_type": "execute_result"
    }
   ],
   "source": [
    "#проверим наличие пропущенных значений\n",
    "orders.isna().sum()\n",
    "visitors.isna().sum()\n",
    "#пропущенные значения не найдены\n",
    "##проверим наличие дубликатов\n",
    "orders.duplicated().sum()\n",
    "visitors.duplicated().sum()\n",
    "#дубликаты не найдены"
   ]
  },
  {
   "cell_type": "markdown",
   "metadata": {},
   "source": [
    "Строки кода проверки пропусков и дубликатов вводились последовательно и исполнялись, везде были нули.\n"
   ]
  },
  {
   "cell_type": "code",
   "execution_count": 6,
   "metadata": {},
   "outputs": [
    {
     "data": {
      "text/plain": [
       "58"
      ]
     },
     "metadata": {},
     "output_type": "display_data"
    },
    {
     "data": {
      "text/plain": [
       "5.625606207565471"
      ]
     },
     "metadata": {},
     "output_type": "display_data"
    }
   ],
   "source": [
    "#найдем количество пользователей попавших в группы А и B одновременно\n",
    "duplicated_users = orders.groupby('visitorId').agg({'group':['nunique', 'unique']})\n",
    "duplicated_users.columns = ['groups', 'names']\n",
    "duplicated_users1 = duplicated_users.query('groups>1')\n",
    "display(len(duplicated_users1))\n",
    "#посчитаем процент пользователей попавших в обе группы от общего числа пользователей\n",
    "display(len(duplicated_users1)/len(duplicated_users)*100)\n",
    "#display(duplicated_users1)\n"
   ]
  },
  {
   "cell_type": "markdown",
   "metadata": {},
   "source": [
    "Получается 58 пользователей состоит в обоих группах. Это составляет 5,6% от общего числа, что многовато. Заказчик учебного проекта был проинформирован о наличии такого количества совпадающих пользователей и принял решение их оставить без изменений и продолжить тест."
   ]
  },
  {
   "cell_type": "markdown",
   "metadata": {},
   "source": [
    "## Построим график кумулятивной выручки по группам. Сделаем выводы и предположения.\n"
   ]
  },
  {
   "cell_type": "code",
   "execution_count": 7,
   "metadata": {},
   "outputs": [
    {
     "data": {
      "text/html": [
       "<div>\n",
       "<style scoped>\n",
       "    .dataframe tbody tr th:only-of-type {\n",
       "        vertical-align: middle;\n",
       "    }\n",
       "\n",
       "    .dataframe tbody tr th {\n",
       "        vertical-align: top;\n",
       "    }\n",
       "\n",
       "    .dataframe thead th {\n",
       "        text-align: right;\n",
       "    }\n",
       "</style>\n",
       "<table border=\"1\" class=\"dataframe\">\n",
       "  <thead>\n",
       "    <tr style=\"text-align: right;\">\n",
       "      <th></th>\n",
       "      <th>date</th>\n",
       "      <th>group</th>\n",
       "      <th>orders</th>\n",
       "      <th>buyers</th>\n",
       "      <th>revenue</th>\n",
       "      <th>visitors</th>\n",
       "    </tr>\n",
       "  </thead>\n",
       "  <tbody>\n",
       "    <tr>\n",
       "      <th>0</th>\n",
       "      <td>2019-08-01</td>\n",
       "      <td>A</td>\n",
       "      <td>24</td>\n",
       "      <td>20</td>\n",
       "      <td>148579</td>\n",
       "      <td>719</td>\n",
       "    </tr>\n",
       "    <tr>\n",
       "      <th>1</th>\n",
       "      <td>2019-08-01</td>\n",
       "      <td>B</td>\n",
       "      <td>21</td>\n",
       "      <td>20</td>\n",
       "      <td>101217</td>\n",
       "      <td>713</td>\n",
       "    </tr>\n",
       "    <tr>\n",
       "      <th>2</th>\n",
       "      <td>2019-08-02</td>\n",
       "      <td>A</td>\n",
       "      <td>44</td>\n",
       "      <td>38</td>\n",
       "      <td>242401</td>\n",
       "      <td>1338</td>\n",
       "    </tr>\n",
       "    <tr>\n",
       "      <th>3</th>\n",
       "      <td>2019-08-02</td>\n",
       "      <td>B</td>\n",
       "      <td>45</td>\n",
       "      <td>43</td>\n",
       "      <td>266748</td>\n",
       "      <td>1294</td>\n",
       "    </tr>\n",
       "    <tr>\n",
       "      <th>4</th>\n",
       "      <td>2019-08-03</td>\n",
       "      <td>A</td>\n",
       "      <td>68</td>\n",
       "      <td>62</td>\n",
       "      <td>354874</td>\n",
       "      <td>1845</td>\n",
       "    </tr>\n",
       "  </tbody>\n",
       "</table>\n",
       "</div>"
      ],
      "text/plain": [
       "        date group  orders  buyers  revenue  visitors\n",
       "0 2019-08-01     A      24      20   148579       719\n",
       "1 2019-08-01     B      21      20   101217       713\n",
       "2 2019-08-02     A      44      38   242401      1338\n",
       "3 2019-08-02     B      45      43   266748      1294\n",
       "4 2019-08-03     A      68      62   354874      1845"
      ]
     },
     "metadata": {},
     "output_type": "display_data"
    }
   ],
   "source": [
    "#собираем и смотрим кумулятивные данные\n",
    "datesGroups = orders[['date','group']].drop_duplicates() \n",
    "ordersAggregated = datesGroups.apply(lambda x: orders[np\\\n",
    ".logical_and(orders['date'] <= x['date'], orders['group'] == x['group'])]\\\n",
    ".agg({'date' : 'max', 'group' : 'max', 'transactionId' : 'nunique', \n",
    "'visitorId' : 'nunique', 'revenue' : 'sum'}), axis=1)\\\n",
    ".sort_values(by=['date','group'])\n",
    "\n",
    "visitorsAggregated = datesGroups.apply(lambda x: visitors[np\n",
    ".logical_and(visitors['date'] <= x['date'],\n",
    "visitors['group'] == x['group'])].agg({'date' : 'max', 'group' : 'max',\n",
    "'visitors' : 'sum'}), axis=1).sort_values(by=['date','group'])\n",
    "\n",
    "cumulativeData = ordersAggregated.merge(visitorsAggregated, \n",
    "left_on=['date', 'group'], right_on=['date', 'group'])\n",
    "cumulativeData.columns = ['date', 'group', 'orders', 'buyers', 'revenue',\n",
    "                          'visitors']\n",
    "\n",
    "display(cumulativeData.head(5))"
   ]
  },
  {
   "cell_type": "code",
   "execution_count": 8,
   "metadata": {},
   "outputs": [
    {
     "data": {
      "text/plain": [
       "Text(2019-08-05, 2000000, 'отрыв')"
      ]
     },
     "execution_count": 8,
     "metadata": {},
     "output_type": "execute_result"
    },
    {
     "data": {
      "image/png": "[encoded data removed]",
      "text/plain": [
       "<Figure size 720x360 with 1 Axes>"
      ]
     },
     "metadata": {
      "needs_background": "light"
     },
     "output_type": "display_data"
    }
   ],
   "source": [
    "from pandas.plotting import register_matplotlib_converters\n",
    "register_matplotlib_converters() #для устранения предупреждений об ошибке\n",
    "\n",
    "# датафрейм с кумулятивным количеством заказов и кумулятивной выручкой по дням в группе А\n",
    "cumulativeRevenueA = cumulativeData[cumulativeData['group']=='A'][['date',\n",
    "                                            'revenue', 'orders']]\n",
    "\n",
    "# датафрейм с кумулятивным количеством заказов и кумулятивной выручкой по дням в группе B\n",
    "cumulativeRevenueB = cumulativeData[cumulativeData['group']=='B'][['date',\n",
    "                                            'revenue', 'orders']]\n",
    "\n",
    "plt.figure(figsize=(10, 5))\n",
    "# Строим график выручки группы А\n",
    "plt.plot(cumulativeRevenueA['date'], cumulativeRevenueA['revenue'],\n",
    "         label='A')\n",
    "\n",
    "# Строим график выручки группы B\n",
    "plt.plot(cumulativeRevenueB['date'], cumulativeRevenueB['revenue'],\n",
    "         label='B')\n",
    "plt.legend()\n",
    "plt.title('График кумулятивной выручки по группам', fontsize=18)\n",
    "plt.xlabel(\"Дата, дни\")\n",
    "plt.ylabel(\"Выручка, руб\")\n",
    "plt.annotate('скачок', xy=('2019-08-17', 2800000), xytext=('2019-08-10',\n",
    "                        3500000),arrowprops=dict(facecolor='g'))\n",
    "plt.annotate('отрыв', xy=('2019-08-05', 800000), xytext=('2019-08-05',\n",
    "                        2000000), arrowprops=dict(facecolor='g')) "
   ]
  },
  {
   "cell_type": "markdown",
   "metadata": {},
   "source": [
    "В середине теста группа В резко вырывается вперед и остается на этом уровне до конца теста. Вероятно, это аномально большие заказы, которые влияют на результаты. Их нужно удалить для окончательного анализа."
   ]
  },
  {
   "cell_type": "markdown",
   "metadata": {},
   "source": [
    "## Построим график кумулятивного среднего чека по группам. Сделаем выводы и предположения."
   ]
  },
  {
   "cell_type": "code",
   "execution_count": 9,
   "metadata": {},
   "outputs": [
    {
     "data": {
      "text/plain": [
       "Text(2019-08-10, 8000, 'скачок')"
      ]
     },
     "execution_count": 9,
     "metadata": {},
     "output_type": "execute_result"
    },
    {
     "data": {
      "image/png": "[encoded data removed]",
      "text/plain": [
       "<Figure size 720x360 with 1 Axes>"
      ]
     },
     "metadata": {
      "needs_background": "light"
     },
     "output_type": "display_data"
    }
   ],
   "source": [
    "plt.figure(figsize=(10, 5))\n",
    "plt.plot(cumulativeRevenueA['date'], \n",
    "cumulativeRevenueA['revenue']/cumulativeRevenueA['orders'], label='A')\n",
    "plt.plot(cumulativeRevenueB['date'], \n",
    "cumulativeRevenueB['revenue']/cumulativeRevenueB['orders'], label='B')\n",
    "plt.legend()\n",
    "plt.title('График кумулятивного среднего чека по группам', fontsize=18)\n",
    "plt.xlabel(\"Дата, дни\")\n",
    "plt.ylabel(\"Средний чек, руб\")\n",
    "plt.annotate('скачок', xy=('2019-08-18', 7200), xytext=('2019-08-10', 8000),\n",
    "            arrowprops=dict(facecolor='g'))\n"
   ]
  },
  {
   "cell_type": "markdown",
   "metadata": {},
   "source": [
    "В тот же период времени, что и для выручки в группе В происходит аномальный рост среднего чека. Такие чеки нужно найти и исключить. "
   ]
  },
  {
   "cell_type": "markdown",
   "metadata": {},
   "source": [
    "## Построим график относительного изменения кумулятивного среднего чека группы B к группе A. Сделаем выводы и предположения.\n"
   ]
  },
  {
   "cell_type": "code",
   "execution_count": 10,
   "metadata": {},
   "outputs": [
    {
     "data": {
      "text/plain": [
       "Text(2019-08-05, 0.45, 'Резкое падение')"
      ]
     },
     "execution_count": 10,
     "metadata": {},
     "output_type": "execute_result"
    },
    {
     "data": {
      "image/png": "[encoded data removed]",
      "text/plain": [
       "<Figure size 720x360 with 1 Axes>"
      ]
     },
     "metadata": {
      "needs_background": "light"
     },
     "output_type": "display_data"
    }
   ],
   "source": [
    "# собираем данные в одном датафрейме\n",
    "mergedCumulativeRevenue = cumulativeRevenueA.merge(cumulativeRevenueB, \n",
    "    left_on='date', right_on='date', how='left', suffixes=['A', 'B'])\n",
    "plt.figure(figsize=(10, 5))\n",
    "\n",
    "# cтроим отношение средних чеков\n",
    "plt.plot(mergedCumulativeRevenue['date'], \n",
    "(mergedCumulativeRevenue['revenueB']/mergedCumulativeRevenue['ordersB'])\n",
    "/(mergedCumulativeRevenue['revenueA']/mergedCumulativeRevenue['ordersA'])-1)\n",
    "\n",
    "# добавляем ось X\n",
    "plt.axhline(y=0, color='black', linestyle='--')\n",
    "plt.title('График относительного изменения кумулятивного среднего чека \\\n",
    "          группы В к группе А', fontsize=18)\n",
    "plt.xlabel(\"Дата, дни\")\n",
    "plt.ylabel(\"Соотношение средних чеков\")\n",
    "plt.annotate('Резкий рост', xy=('2019-08-18', 0.05), \n",
    "             xytext=('2019-08-10', 0.3),\n",
    "            arrowprops=dict(facecolor='g'))\n",
    "plt.annotate('Резкое падение', xy=('2019-08-08', 0.35), \n",
    "             xytext=('2019-08-05', 0.45),\n",
    "            arrowprops=dict(facecolor='g'))"
   ]
  },
  {
   "cell_type": "markdown",
   "metadata": {},
   "source": [
    "Соотношение средних чеков групп А и В указывает, что аномальные заказы были не в одном периоде, а в нескольких. На это указывает резкое падение и затем резкий рост кривой соотношения в средних чеках. "
   ]
  },
  {
   "cell_type": "markdown",
   "metadata": {},
   "source": [
    "## Построим график кумулятивной конверсии по группам. Сделаем выводы и предположения.\n"
   ]
  },
  {
   "cell_type": "code",
   "execution_count": 11,
   "metadata": {},
   "outputs": [
    {
     "data": {
      "text/plain": [
       "Text(2019-08-01, 0.037, 'Падение')"
      ]
     },
     "execution_count": 11,
     "metadata": {},
     "output_type": "execute_result"
    },
    {
     "data": {
      "image/png": "[encoded data removed]",
      "text/plain": [
       "<Figure size 720x360 with 1 Axes>"
      ]
     },
     "metadata": {
      "needs_background": "light"
     },
     "output_type": "display_data"
    }
   ],
   "source": [
    "# считаем кумулятивную конверсию\n",
    "cumulativeData['conversion'] = (cumulativeData['orders']/\n",
    "cumulativeData['visitors'])\n",
    "\n",
    "# отделяем данные по группе A\n",
    "cumulativeDataA = cumulativeData[cumulativeData['group']=='A']\n",
    "\n",
    "# отделяем данные по группе B\n",
    "cumulativeDataB = cumulativeData[cumulativeData['group']=='B']\n",
    "\n",
    "# строим графики\n",
    "plt.figure(figsize=(10, 5))\n",
    "plt.plot(cumulativeDataA['date'], cumulativeDataA['conversion'], label='A')\n",
    "plt.plot(cumulativeDataB['date'], cumulativeDataB['conversion'], label='B')\n",
    "plt.legend()\n",
    "plt.title('График кумулятивной конверсии по группам', fontsize=18)\n",
    "plt.xlabel(\"Дата, дни\")\n",
    "plt.ylabel(\"Конверсия\")\n",
    "plt.annotate('Рост', xy=('2019-08-04', 0.0305), xytext=('2019-08-03', 0.029),\n",
    "            arrowprops=dict(facecolor='g'))\n",
    "plt.annotate('Падение', xy=('2019-08-03', 0.036), xytext=('2019-08-01', 0.037),\n",
    "            arrowprops=dict(facecolor='g'))"
   ]
  },
  {
   "cell_type": "markdown",
   "metadata": {},
   "source": [
    "В начале тестирования график сильно колебался. Затем конверсия группы В стала заметно больше, чем конверсия группы А."
   ]
  },
  {
   "cell_type": "markdown",
   "metadata": {},
   "source": [
    "## Построим график относительного изменения кумулятивной конверсии группы B к группе A. Сделаем выводы и предположения.\n"
   ]
  },
  {
   "cell_type": "code",
   "execution_count": 12,
   "metadata": {
    "scrolled": true
   },
   "outputs": [
    {
     "data": {
      "image/png": "[encoded data removed]",
      "text/plain": [
       "<Figure size 864x360 with 1 Axes>"
      ]
     },
     "metadata": {
      "needs_background": "light"
     },
     "output_type": "display_data"
    }
   ],
   "source": [
    "mergedCumulativeConversions = (cumulativeDataA[['date','conversion']]\n",
    ".merge(cumulativeDataB[['date','conversion']], left_on='date', \n",
    "       right_on='date', how='left', suffixes=['A', 'B']))\n",
    "plt.figure(figsize=(12, 5))\n",
    "plt.plot(mergedCumulativeConversions['date'], \n",
    "mergedCumulativeConversions['conversionB']/\n",
    "mergedCumulativeConversions['conversionA']-1, \n",
    "label=\"Относительный прирост конверсии группы B относительно группы A\")\n",
    "\n",
    "plt.axhline(y=0, color='black', linestyle='--')\n",
    "plt.axhline(y=-0.1, color='grey', linestyle='--')\n",
    "plt.title('Относительный прирост конверсии группы В отностельно группы А', \n",
    "          fontsize=18)\n",
    "plt.xlabel(\"Дата, дни\")\n",
    "plt.ylabel(\"Относительный прирост\")\n",
    "plt.annotate('Начало роста', xy=('2019-08-05', -0.06), xytext=('2019-08-03',\n",
    "                                                               -0.12),\n",
    "            arrowprops=dict(facecolor='g'))\n",
    "plt.annotate('Продолжение тенденции к росту', xy=('2019-08-29', 0.105), \n",
    "             xytext=('2019-08-17', 0.05), arrowprops=dict(facecolor='g'))\n",
    "plt.grid(True)"
   ]
  },
  {
   "cell_type": "markdown",
   "metadata": {},
   "source": [
    "Прирост конверсии группы В относительно А не сразу, но начал уверенно расти, потом немного рост спал. В последнее время видна тенденция к росту. "
   ]
  },
  {
   "cell_type": "markdown",
   "metadata": {},
   "source": [
    "## Построим точечный график количества заказов по пользователям. Сделаем выводы и предположения.\n"
   ]
  },
  {
   "cell_type": "code",
   "execution_count": 13,
   "metadata": {},
   "outputs": [
    {
     "data": {
      "text/plain": [
       "Text(0, 0.5, 'Количество заказов, шт')"
      ]
     },
     "execution_count": 13,
     "metadata": {},
     "output_type": "execute_result"
    },
    {
     "data": {
      "image/png": "[encoded data removed]",
      "text/plain": [
       "<Figure size 720x360 with 1 Axes>"
      ]
     },
     "metadata": {
      "needs_background": "light"
     },
     "output_type": "display_data"
    }
   ],
   "source": [
    "#Подсчитаем количество заказов по пользователям\n",
    "ordersByUsers = (\n",
    "    orders.groupby('visitorId', as_index=False)\n",
    "    .agg({'transactionId': pd.Series.nunique})\n",
    ")\n",
    "#Построим точечную диаграмму числа заказов на одного пользователя\n",
    "ordersByUsers.columns = ['visitorId', 'orders']\n",
    "x_values = pd.Series(range(0,len(ordersByUsers)))\n",
    "plt.figure(figsize=(10, 5))\n",
    "plt.scatter(x_values, ordersByUsers['orders'])\n",
    "plt.title('Количество заказов по пользователям', fontsize=18)\n",
    "plt.ylabel(\"Количество заказов, шт\")"
   ]
  },
  {
   "cell_type": "markdown",
   "metadata": {},
   "source": [
    "Большинство покупателей заказывали только один раз. доля пользователей с 2 заказами также велика. Заметна линия точек для 3х заказов. Выше 3х заказов точки разбросаны и редки. "
   ]
  },
  {
   "cell_type": "markdown",
   "metadata": {},
   "source": [
    "## Посчитаем 95-й и 99-й перцентили количества заказов на пользователя. Выберем границу для определения аномальных пользователей.\n"
   ]
  },
  {
   "cell_type": "code",
   "execution_count": 14,
   "metadata": {},
   "outputs": [
    {
     "name": "stdout",
     "output_type": "stream",
     "text": [
      "[2. 4.]\n"
     ]
    }
   ],
   "source": [
    "print(np.percentile(ordersByUsers['orders'], [95, 99]))\n"
   ]
  },
  {
   "cell_type": "markdown",
   "metadata": {},
   "source": [
    "Не более 5% пользователей оформляли больше, чем 2 заказа. Не более 1% пользователей оформляли больше, чем 4 заказа.  Посчитаем возможным выбрать 4 заказа на одного пользователя за нижнюю границу числа заказов, и отсеять аномальных пользователей по ней."
   ]
  },
  {
   "cell_type": "markdown",
   "metadata": {},
   "source": [
    "## Построим точечный график стоимостей заказов. Сделаем выводы и предположения.\n"
   ]
  },
  {
   "cell_type": "code",
   "execution_count": 15,
   "metadata": {},
   "outputs": [
    {
     "data": {
      "text/plain": [
       "Text(0, 0.5, 'Выручка по заказам, руб')"
      ]
     },
     "execution_count": 15,
     "metadata": {},
     "output_type": "execute_result"
    },
    {
     "data": {
      "image/png": "[encoded data removed]",
      "text/plain": [
       "<Figure size 720x360 with 1 Axes>"
      ]
     },
     "metadata": {
      "needs_background": "light"
     },
     "output_type": "display_data"
    }
   ],
   "source": [
    "x_values = pd.Series(range(0,len(orders['revenue'])))\n",
    "plt.figure(figsize=(10, 5))\n",
    "plt.scatter(x_values, orders['revenue'])\n",
    "plt.title('Выручка по заказам', fontsize=18)\n",
    "plt.ylabel(\"Выручка по заказам, руб\")"
   ]
  },
  {
   "cell_type": "markdown",
   "metadata": {},
   "source": [
    "Разница в выручке по заказам мало заметна на графике из-за 2х аномальных заказов. Похоже все укладываются в границу менее 150000."
   ]
  },
  {
   "cell_type": "markdown",
   "metadata": {},
   "source": [
    "## Посчитаем 95-й и 99-й перцентили стоимости заказов. Выберем границу для определения аномальных заказов.\n"
   ]
  },
  {
   "cell_type": "code",
   "execution_count": 16,
   "metadata": {},
   "outputs": [
    {
     "name": "stdout",
     "output_type": "stream",
     "text": [
      "[28000.  58233.2]\n"
     ]
    }
   ],
   "source": [
    "print(np.percentile(orders['revenue'], [95, 99]))\n"
   ]
  },
  {
   "cell_type": "markdown",
   "metadata": {},
   "source": [
    "Не более 5% заказов дороже 28000 рублей и не более 1% дороже 58233 рублей. Точечный график не совсем нагляден оказался. Выбираем нижнюю границу определения аномальных заказов 58233 рубля. "
   ]
  },
  {
   "cell_type": "markdown",
   "metadata": {},
   "source": [
    "## Посчитаем статистическую значимость различий в конверсии между группами по «сырым» данным. Сделаем выводы и предположения."
   ]
  },
  {
   "cell_type": "markdown",
   "metadata": {},
   "source": [
    "<div>1. Формируем нулевую гипотезу о равенстве конверсий групп А и В по \"сырым\" данным. <div>2. Альтернативная гипотеза  предполагает, что конверсии не равны. "
   ]
  },
  {
   "cell_type": "markdown",
   "metadata": {},
   "source": [
    "Учитывая, что выборка имеет выбросы применим критерий Манна-Уитни. "
   ]
  },
  {
   "cell_type": "code",
   "execution_count": 17,
   "metadata": {},
   "outputs": [
    {
     "name": "stdout",
     "output_type": "stream",
     "text": [
      "0.017\n",
      "0.138\n"
     ]
    }
   ],
   "source": [
    "#создадим переменные с количеством посетителей групп А и В. \n",
    "visitorsADaily = visitors[visitors['group'] == 'A'][['date', 'visitors']]\n",
    "visitorsADaily.columns = ['date', 'visitorsPerDateA']\n",
    "\n",
    "visitorsBDaily = visitors[visitors['group'] == 'B'][['date', 'visitors']]\n",
    "visitorsBDaily.columns = ['date', 'visitorsPerDateB']\n",
    "#Создадим переменные ordersByUsersA и ordersByUsersB со столбцами ['userId', 'orders'].\n",
    "#В них для пользователей, которые заказывали хотя бы 1 раз, \n",
    "#укажем число совершённых заказов.\n",
    "ordersByUsersA = (\n",
    "    orders[orders['group'] == 'A']\n",
    "    .groupby('visitorId', as_index=False)\n",
    "    .agg({'transactionId': pd.Series.nunique})\n",
    ")\n",
    "ordersByUsersA.columns = ['userId', 'orders']\n",
    "\n",
    "ordersByUsersB = (\n",
    "    orders[orders['group'] == 'B']\n",
    "    .groupby('visitorId', as_index=False)\n",
    "    .agg({'transactionId': pd.Series.nunique})\n",
    ")\n",
    "ordersByUsersB.columns = ['userId', 'orders']\n",
    "# Объявим переменные sampleA и sampleB, \n",
    "#в которых пользователям из разных групп будет соответствовать количество заказов.\n",
    "sampleA = pd.concat(\n",
    "    [\n",
    "        ordersByUsersA['orders'],\n",
    "        pd.Series(\n",
    "            0,\n",
    "            index=np.arange(\n",
    "                visitorsADaily['visitorsPerDateA'].sum() - len(ordersByUsersA['orders'])\n",
    "            ),\n",
    "            name='orders',\n",
    "        ),\n",
    "    ],\n",
    "    axis=0,\n",
    ")\n",
    "\n",
    "sampleB = pd.concat(\n",
    "    [\n",
    "        ordersByUsersB['orders'],\n",
    "        pd.Series(\n",
    "            0,\n",
    "            index=np.arange(\n",
    "                visitorsBDaily['visitorsPerDateB'].sum() - len(ordersByUsersB['orders'])\n",
    "            ),\n",
    "            name='orders',\n",
    "        ),\n",
    "    ],\n",
    "    axis=0,\n",
    ")\n",
    "#Применим критерий и отформатируем p-value, округлив его до трёх знаков после запятой.\n",
    "print(\"{0:.3f}\".format(stats.mannwhitneyu(sampleA, sampleB, alternative='two-sided')[1]))\n",
    "\n",
    "print(\"{0:.3f}\".format(sampleB.mean() / sampleA.mean() - 1))"
   ]
  },
  {
   "cell_type": "markdown",
   "metadata": {},
   "source": [
    "p-value = 0.017, что меньше 0.05. Значит по «сырым» данным есть различия в конверсии групп A и B. Нулевую гипотезу о том, что статистически значимых различий в конверсии между группами нет, отвергаем. Относительный выигрыш группы B равен 13.8%. "
   ]
  },
  {
   "cell_type": "markdown",
   "metadata": {},
   "source": [
    "## Посчитаем статистическую значимость различий в среднем чеке заказа между группами по «сырым» данным. Сделаем выводы и предположения."
   ]
  },
  {
   "cell_type": "markdown",
   "metadata": {},
   "source": [
    "<div>1. Формируем нулевую гипотезу о равенстве средних чеков групп А и В по \"сырым\" данным. <div>2. Альтернативная гипотеза  предполагает, что средние чеки не равны. "
   ]
  },
  {
   "cell_type": "code",
   "execution_count": 18,
   "metadata": {},
   "outputs": [
    {
     "name": "stdout",
     "output_type": "stream",
     "text": [
      "0.729\n",
      "0.259\n"
     ]
    }
   ],
   "source": [
    "print('{0:.3f}'.format(stats.mannwhitneyu(orders[orders['group']=='A']\n",
    "['revenue'], orders[orders['group']=='B']['revenue'], \n",
    "            alternative='two-sided')[1]))\n",
    "print('{0:.3f}'.format(orders[orders['group']=='B']['revenue']\n",
    "    .mean()/orders[orders['group']=='A']['revenue'].mean()-1))"
   ]
  },
  {
   "cell_type": "markdown",
   "metadata": {},
   "source": [
    "P-value значительно больше 0.05. Значит, нулевую гипотезу не отвергаем. Средний чек группы В значительно (на 26%) выше среднего чека группы А по \"сырым\" данным."
   ]
  },
  {
   "cell_type": "markdown",
   "metadata": {},
   "source": [
    "## Посчитаем статистическую значимость различий в конверсии между группами по «очищенным» данным. Сделаем выводы и предположения."
   ]
  },
  {
   "cell_type": "markdown",
   "metadata": {},
   "source": [
    "<div>1. Формируем нулевую гипотезу о равенстве конверсии групп А и В по \"очищенным\" данным. <div>2. Альтернативная гипотеза  предполагает, что конверсии не равны. "
   ]
  },
  {
   "cell_type": "code",
   "execution_count": 19,
   "metadata": {},
   "outputs": [
    {
     "name": "stdout",
     "output_type": "stream",
     "text": [
      "0.014\n",
      "0.153\n"
     ]
    }
   ],
   "source": [
    "#Сделаем срезы пользователей с числом заказов больше 4 — usersWithManyOrders \n",
    "#и пользователей, совершивших заказы дороже 58233 рублей — usersWithExpensiveOrders.\n",
    "#В обоих случаях исключим 1% пользователей. \n",
    "usersWithManyOrders = pd.concat(\n",
    "    [\n",
    "        ordersByUsersA[ordersByUsersA['orders'] > 4]['userId'],\n",
    "        ordersByUsersB[ordersByUsersB['orders'] > 4]['userId'],\n",
    "    ],\n",
    "    axis=0,\n",
    ")\n",
    "usersWithExpensiveOrders = orders[orders['revenue'] > 58233]['visitorId']\n",
    "abnormalUsers = (\n",
    "    pd.concat([usersWithManyOrders, usersWithExpensiveOrders], axis=0)\n",
    "    .drop_duplicates()\n",
    "    .sort_values()\n",
    ")\n",
    "#отфильтруем выборки групп А и В с исключением аномальных пользователей (15 человек)\n",
    "sampleAFiltered = pd.concat(\n",
    "    [\n",
    "        ordersByUsersA[\n",
    "            np.logical_not(ordersByUsersA['userId'].isin(abnormalUsers))\n",
    "        ]['orders'],\n",
    "        pd.Series(\n",
    "            0,\n",
    "            index=np.arange(\n",
    "                visitorsADaily['visitorsPerDateA'].sum() - len(ordersByUsersA['orders'])\n",
    "            ),\n",
    "            name='orders',\n",
    "        ),\n",
    "    ],\n",
    "    axis=0,\n",
    ")\n",
    "\n",
    "sampleBFiltered = pd.concat(\n",
    "    [\n",
    "        ordersByUsersB[\n",
    "            np.logical_not(ordersByUsersB['userId'].isin(abnormalUsers))\n",
    "        ]['orders'],\n",
    "        pd.Series(\n",
    "            0,\n",
    "            index=np.arange(\n",
    "                visitorsBDaily['visitorsPerDateB'].sum() - len(ordersByUsersB['orders'])\n",
    "            ),\n",
    "            name='orders',\n",
    "        ),\n",
    "    ],\n",
    "    axis=0,\n",
    ")\n",
    "\n",
    "#Применим статистический критерий Манна-Уитни к отфильтрованным выборкам:\n",
    "print('{0:.3f}'.format(stats.mannwhitneyu(sampleAFiltered, sampleBFiltered, alternative='two-sided')[1]))\n",
    "print('{0:.3f}'.format(sampleBFiltered.mean()/sampleAFiltered.mean()-1))\n"
   ]
  },
  {
   "cell_type": "markdown",
   "metadata": {},
   "source": [
    "Результаты по конверсии между \"сырыми\" и \"очищенными\" данными практически одинаковы."
   ]
  },
  {
   "cell_type": "markdown",
   "metadata": {},
   "source": [
    "## Посчитаем статистическую значимость различий в среднем чеке заказа между группами по «очищенным» данным. Сделаем выводы и предположения."
   ]
  },
  {
   "cell_type": "markdown",
   "metadata": {},
   "source": [
    "<div>1. Формируем нулевую гипотезу о равенстве средних чеков групп А и В по \"очищенным\" данным. <div>2. Альтернативная гипотеза  предполагает, что средние чеки не равны. "
   ]
  },
  {
   "cell_type": "code",
   "execution_count": 20,
   "metadata": {},
   "outputs": [
    {
     "name": "stdout",
     "output_type": "stream",
     "text": [
      "0.851\n",
      "-0.006\n"
     ]
    }
   ],
   "source": [
    "print(\n",
    "    '{0:.3f}'.format(\n",
    "        stats.mannwhitneyu(\n",
    "            orders[\n",
    "                np.logical_and(\n",
    "                    orders['group'] == 'A',\n",
    "                    np.logical_not(orders['visitorId'].isin(abnormalUsers)),\n",
    "                )\n",
    "            ]['revenue'],\n",
    "            orders[\n",
    "                np.logical_and(\n",
    "                    orders['group'] == 'B',\n",
    "                    np.logical_not(orders['visitorId'].isin(abnormalUsers)),\n",
    "                )\n",
    "            ]['revenue'], alternative='two-sided'\n",
    "        )[1]\n",
    "    )\n",
    ")\n",
    "\n",
    "print(\n",
    "    \"{0:.3f}\".format(\n",
    "        orders[\n",
    "            np.logical_and(\n",
    "                orders['group'] == 'B',\n",
    "                np.logical_not(orders['visitorId'].isin(abnormalUsers)),\n",
    "            )\n",
    "        ]['revenue'].mean()\n",
    "        / orders[\n",
    "            np.logical_and(\n",
    "                orders['group'] == 'A',\n",
    "                np.logical_not(orders['visitorId'].isin(abnormalUsers)),\n",
    "            )\n",
    "        ]['revenue'].mean()\n",
    "        - 1\n",
    "    )\n",
    ")"
   ]
  },
  {
   "cell_type": "markdown",
   "metadata": {},
   "source": [
    "Результаты по среднему чеку для P-value не различаются между \"сырыми\" и \"очищенными\" данными. Но по \"очищенным\" данным группа В стала немного (0,6%) проигрывать группе А по среднему чеку.  По \"сырым\" данным группа В выигрывала группу А на 26%. Это значит, что основной прирост в группе В давали аномальные пользователи. "
   ]
  },
  {
   "cell_type": "markdown",
   "metadata": {},
   "source": [
    "## Решения: "
   ]
  },
  {
   "cell_type": "markdown",
   "metadata": {},
   "source": [
    "<div>1. Очищенные данные показывают, что статистически значимых различий между группами по среднему чеку не появилось. Статистически значимое различие по конверсии есть. <div>2. Конверсия группы В выше, чем конверсия группы А на 15,3%.\n",
    "<div>Решение: <div>Пусть средний чек не вырос, но конверсия выросла. Поэтому тестирование можно завершить и признать тест успешным.   "
   ]
  },
  {
   "cell_type": "markdown",
   "metadata": {},
   "source": [
    "**Общие выводы по проекту**:<div>1. При анализе данных пропусков и дубликатов не выявлено. Но есть посетители, которые есть в группах А и В одновременно. В идеале таких случаев не должно быть вообще. Если они есть, нужно идти просить разработчиков внести исправления в систему.\n",
    "    <div>2. Выявлены 5 приоритетных гипотез: <div>-Добавить форму подписки на все основные страницы, чтобы собрать базу клиентов для email-рассылок; <div>-Добавить блоки рекомендаций товаров на сайт интернет магазина, чтобы повысить конверсию и средний чек заказа;\n",
    "<div>-Добавить два новых канала привлечения трафика, что позволит привлекать на 30% больше пользователей;\n",
    "<div>-Показать на главной странице баннеры с актуальными акциями и распродажами, чтобы увеличить конверсию;\t\n",
    "<div>-Запустить акцию, дающую скидку на товар в день рождения.\n",
    "<div>3. Анализ данных и результаты А/В теста показывают следующее: <div>- Статистически значимых различий между группами по среднему чеку не появилось. Статистически значимое различие по конверсии есть. <div>- Конверсия группы В выше, чем конверсия группы А на 15,3%.\n",
    "<div>- Пусть средний чек не вырос, но конверсия выросла. Поэтому тестирование можно завершить и признать тест успешным. "
   ]
  },
  {
   "cell_type": "code",
   "execution_count": null,
   "metadata": {},
   "outputs": [],
   "source": []
  }
 ],
 "metadata": {
  "ExecuteTimeLog": [
   {
    "duration": 653,
    "start_time": "2022-03-08T06:31:38.346Z"
   },
   {
    "duration": 26,
    "start_time": "2022-03-08T06:33:30.633Z"
   },
   {
    "duration": 18,
    "start_time": "2022-03-08T06:35:06.373Z"
   },
   {
    "duration": 6551,
    "start_time": "2022-03-08T06:48:12.662Z"
   },
   {
    "duration": 6474,
    "start_time": "2022-03-08T06:49:00.233Z"
   },
   {
    "duration": 6394,
    "start_time": "2022-03-08T06:49:32.611Z"
   },
   {
    "duration": 6599,
    "start_time": "2022-03-08T06:49:57.380Z"
   },
   {
    "duration": 3,
    "start_time": "2022-03-08T06:59:03.167Z"
   },
   {
    "duration": 6,
    "start_time": "2022-03-08T06:59:14.917Z"
   },
   {
    "duration": 6,
    "start_time": "2022-03-08T06:59:45.241Z"
   },
   {
    "duration": 6,
    "start_time": "2022-03-08T06:59:49.866Z"
   },
   {
    "duration": 92,
    "start_time": "2022-03-08T07:01:40.434Z"
   },
   {
    "duration": 466,
    "start_time": "2022-03-08T07:01:47.298Z"
   },
   {
    "duration": 6,
    "start_time": "2022-03-08T07:01:54.075Z"
   },
   {
    "duration": 6,
    "start_time": "2022-03-08T07:02:34.290Z"
   },
   {
    "duration": 458,
    "start_time": "2022-03-08T07:03:01.029Z"
   },
   {
    "duration": 6,
    "start_time": "2022-03-08T07:03:10.311Z"
   },
   {
    "duration": 457,
    "start_time": "2022-03-08T07:05:45.781Z"
   },
   {
    "duration": 6,
    "start_time": "2022-03-08T07:05:50.964Z"
   },
   {
    "duration": 13,
    "start_time": "2022-03-08T07:07:39.016Z"
   },
   {
    "duration": 9,
    "start_time": "2022-03-08T07:11:05.148Z"
   },
   {
    "duration": 9,
    "start_time": "2022-03-08T07:14:07.114Z"
   },
   {
    "duration": 1261,
    "start_time": "2022-03-08T07:52:27.787Z"
   },
   {
    "duration": 1251,
    "start_time": "2022-03-08T07:53:18.288Z"
   },
   {
    "duration": 87,
    "start_time": "2022-03-08T07:54:39.493Z"
   },
   {
    "duration": 1284,
    "start_time": "2022-03-08T07:54:49.354Z"
   },
   {
    "duration": 61,
    "start_time": "2022-03-08T07:55:10.899Z"
   },
   {
    "duration": 1086,
    "start_time": "2022-03-08T07:57:16.284Z"
   },
   {
    "duration": 11,
    "start_time": "2022-03-08T07:57:17.372Z"
   },
   {
    "duration": 9,
    "start_time": "2022-03-08T07:57:17.386Z"
   },
   {
    "duration": 56,
    "start_time": "2022-03-08T07:57:17.397Z"
   },
   {
    "duration": 1355,
    "start_time": "2022-03-08T07:57:49.686Z"
   },
   {
    "duration": 1600,
    "start_time": "2022-03-08T08:02:33.034Z"
   },
   {
    "duration": 109,
    "start_time": "2022-03-08T08:03:27.014Z"
   },
   {
    "duration": 100,
    "start_time": "2022-03-08T08:20:58.839Z"
   },
   {
    "duration": 91,
    "start_time": "2022-03-08T08:21:18.643Z"
   },
   {
    "duration": 93,
    "start_time": "2022-03-08T08:21:39.225Z"
   },
   {
    "duration": 94,
    "start_time": "2022-03-08T08:22:52.204Z"
   },
   {
    "duration": 96,
    "start_time": "2022-03-08T08:25:38.585Z"
   },
   {
    "duration": 276,
    "start_time": "2022-03-08T17:16:38.126Z"
   },
   {
    "duration": 1432,
    "start_time": "2022-03-08T17:16:51.732Z"
   },
   {
    "duration": 13,
    "start_time": "2022-03-08T17:16:53.166Z"
   },
   {
    "duration": 11,
    "start_time": "2022-03-08T17:16:53.182Z"
   },
   {
    "duration": 69,
    "start_time": "2022-03-08T17:16:53.195Z"
   },
   {
    "duration": 5992,
    "start_time": "2022-03-08T17:16:53.267Z"
   },
   {
    "duration": 558,
    "start_time": "2022-03-08T17:18:02.363Z"
   },
   {
    "duration": 24,
    "start_time": "2022-03-08T17:19:45.268Z"
   },
   {
    "duration": 15,
    "start_time": "2022-03-08T17:19:57.082Z"
   },
   {
    "duration": 17,
    "start_time": "2022-03-08T17:20:32.874Z"
   },
   {
    "duration": 62,
    "start_time": "2022-03-08T17:20:41.919Z"
   },
   {
    "duration": 552,
    "start_time": "2022-03-08T17:20:58.515Z"
   },
   {
    "duration": 308,
    "start_time": "2022-03-08T17:22:26.492Z"
   },
   {
    "duration": 301,
    "start_time": "2022-03-08T17:25:49.884Z"
   },
   {
    "duration": 415,
    "start_time": "2022-03-08T17:33:37.137Z"
   },
   {
    "duration": 285,
    "start_time": "2022-03-08T17:39:12.501Z"
   },
   {
    "duration": 330,
    "start_time": "2022-03-08T17:39:35.094Z"
   },
   {
    "duration": 458,
    "start_time": "2022-03-08T17:43:15.756Z"
   },
   {
    "duration": 523,
    "start_time": "2022-03-08T17:49:26.611Z"
   },
   {
    "duration": 325,
    "start_time": "2022-03-08T17:50:03.406Z"
   },
   {
    "duration": 615,
    "start_time": "2022-03-08T17:52:51.443Z"
   },
   {
    "duration": 308,
    "start_time": "2022-03-08T17:53:09.424Z"
   },
   {
    "duration": 265,
    "start_time": "2022-03-08T18:01:53.852Z"
   },
   {
    "duration": 240,
    "start_time": "2022-03-08T18:03:29.729Z"
   },
   {
    "duration": 444,
    "start_time": "2022-03-08T18:04:07.582Z"
   },
   {
    "duration": 297,
    "start_time": "2022-03-08T18:04:12.182Z"
   },
   {
    "duration": 284,
    "start_time": "2022-03-08T18:05:08.971Z"
   },
   {
    "duration": 1255,
    "start_time": "2022-03-08T18:06:12.179Z"
   },
   {
    "duration": 20,
    "start_time": "2022-03-08T18:06:13.438Z"
   },
   {
    "duration": 15,
    "start_time": "2022-03-08T18:06:13.461Z"
   },
   {
    "duration": 62,
    "start_time": "2022-03-08T18:06:13.478Z"
   },
   {
    "duration": 552,
    "start_time": "2022-03-08T18:06:13.542Z"
   },
   {
    "duration": 336,
    "start_time": "2022-03-08T18:06:14.096Z"
   },
   {
    "duration": 316,
    "start_time": "2022-03-08T18:06:14.437Z"
   },
   {
    "duration": 402,
    "start_time": "2022-03-08T18:06:14.756Z"
   },
   {
    "duration": 345,
    "start_time": "2022-03-08T18:06:15.161Z"
   },
   {
    "duration": 463,
    "start_time": "2022-03-08T18:06:15.509Z"
   },
   {
    "duration": 353,
    "start_time": "2022-03-08T18:06:15.975Z"
   },
   {
    "duration": 300,
    "start_time": "2022-03-08T18:07:43.559Z"
   },
   {
    "duration": 292,
    "start_time": "2022-03-08T18:10:06.295Z"
   },
   {
    "duration": 225,
    "start_time": "2022-03-08T18:11:01.646Z"
   },
   {
    "duration": 528,
    "start_time": "2022-03-08T18:11:15.191Z"
   },
   {
    "duration": 6,
    "start_time": "2022-03-08T18:15:51.887Z"
   },
   {
    "duration": 415,
    "start_time": "2022-03-08T18:21:16.649Z"
   },
   {
    "duration": 6,
    "start_time": "2022-03-08T18:27:29.155Z"
   },
   {
    "duration": 241,
    "start_time": "2022-03-08T18:54:03.119Z"
   },
   {
    "duration": 6507,
    "start_time": "2022-03-08T18:56:56.447Z"
   },
   {
    "duration": 6860,
    "start_time": "2022-03-08T18:59:31.361Z"
   },
   {
    "duration": 7373,
    "start_time": "2022-03-08T19:00:08.210Z"
   },
   {
    "duration": 235,
    "start_time": "2022-03-08T19:01:24.081Z"
   },
   {
    "duration": 17,
    "start_time": "2022-03-08T19:10:09.095Z"
   },
   {
    "duration": 5912,
    "start_time": "2022-03-08T19:17:47.086Z"
   },
   {
    "duration": 5807,
    "start_time": "2022-03-08T19:18:30.544Z"
   },
   {
    "duration": 14,
    "start_time": "2022-03-08T19:20:47.202Z"
   },
   {
    "duration": 17,
    "start_time": "2022-03-08T19:21:09.535Z"
   },
   {
    "duration": 5859,
    "start_time": "2022-03-08T19:24:54.325Z"
   },
   {
    "duration": 6636,
    "start_time": "2022-03-08T19:25:05.956Z"
   },
   {
    "duration": 26,
    "start_time": "2022-03-08T19:26:50.308Z"
   },
   {
    "duration": 6754,
    "start_time": "2022-03-08T19:29:28.069Z"
   },
   {
    "duration": 20,
    "start_time": "2022-03-08T19:30:16.547Z"
   },
   {
    "duration": 610,
    "start_time": "2022-03-08T20:00:51.191Z"
   },
   {
    "duration": 599,
    "start_time": "2022-03-08T20:01:19.913Z"
   },
   {
    "duration": 318,
    "start_time": "2022-03-08T20:02:12.244Z"
   },
   {
    "duration": 371,
    "start_time": "2022-03-08T20:02:54.727Z"
   },
   {
    "duration": 357,
    "start_time": "2022-03-08T20:03:38.235Z"
   },
   {
    "duration": 350,
    "start_time": "2022-03-08T20:03:50.489Z"
   },
   {
    "duration": 360,
    "start_time": "2022-03-08T20:06:41.333Z"
   },
   {
    "duration": 439,
    "start_time": "2022-03-08T20:06:51.292Z"
   },
   {
    "duration": 346,
    "start_time": "2022-03-08T20:07:08.033Z"
   },
   {
    "duration": 462,
    "start_time": "2022-03-08T20:07:17.896Z"
   },
   {
    "duration": 634,
    "start_time": "2022-03-08T20:07:45.327Z"
   },
   {
    "duration": 391,
    "start_time": "2022-03-08T20:07:55.590Z"
   },
   {
    "duration": 1416,
    "start_time": "2022-03-08T20:08:49.279Z"
   },
   {
    "duration": 19,
    "start_time": "2022-03-08T20:08:50.698Z"
   },
   {
    "duration": 35,
    "start_time": "2022-03-08T20:08:50.721Z"
   },
   {
    "duration": 95,
    "start_time": "2022-03-08T20:08:50.760Z"
   },
   {
    "duration": 627,
    "start_time": "2022-03-08T20:08:50.858Z"
   },
   {
    "duration": 463,
    "start_time": "2022-03-08T20:08:51.488Z"
   },
   {
    "duration": 428,
    "start_time": "2022-03-08T20:08:51.954Z"
   },
   {
    "duration": 441,
    "start_time": "2022-03-08T20:08:52.386Z"
   },
   {
    "duration": 420,
    "start_time": "2022-03-08T20:08:52.831Z"
   },
   {
    "duration": 491,
    "start_time": "2022-03-08T20:08:53.254Z"
   },
   {
    "duration": 662,
    "start_time": "2022-03-08T20:08:53.747Z"
   },
   {
    "duration": 6,
    "start_time": "2022-03-08T20:08:54.411Z"
   },
   {
    "duration": 594,
    "start_time": "2022-03-08T20:08:54.420Z"
   },
   {
    "duration": 8,
    "start_time": "2022-03-08T20:08:55.017Z"
   },
   {
    "duration": 291,
    "start_time": "2022-03-08T20:08:55.028Z"
   },
   {
    "duration": 29,
    "start_time": "2022-03-08T20:08:55.322Z"
   },
   {
    "duration": 25,
    "start_time": "2022-03-08T20:08:55.353Z"
   },
   {
    "duration": 19,
    "start_time": "2022-03-08T20:08:55.381Z"
   },
   {
    "duration": 1000,
    "start_time": "2022-03-10T05:23:49.792Z"
   },
   {
    "duration": 12,
    "start_time": "2022-03-10T05:29:57.941Z"
   },
   {
    "duration": 11,
    "start_time": "2022-03-10T05:30:12.236Z"
   },
   {
    "duration": 269,
    "start_time": "2022-03-10T06:25:32.263Z"
   },
   {
    "duration": 46,
    "start_time": "2022-03-10T06:25:48.873Z"
   },
   {
    "duration": 5,
    "start_time": "2022-03-10T06:25:52.295Z"
   },
   {
    "duration": 6,
    "start_time": "2022-03-10T06:26:16.995Z"
   },
   {
    "duration": 9,
    "start_time": "2022-03-10T06:27:49.550Z"
   },
   {
    "duration": 11,
    "start_time": "2022-03-10T06:27:55.182Z"
   },
   {
    "duration": 5,
    "start_time": "2022-03-10T07:28:50.630Z"
   },
   {
    "duration": 5,
    "start_time": "2022-03-10T07:30:01.275Z"
   },
   {
    "duration": 182,
    "start_time": "2022-03-10T07:30:33.211Z"
   },
   {
    "duration": 4,
    "start_time": "2022-03-10T07:32:11.751Z"
   },
   {
    "duration": 203,
    "start_time": "2022-03-10T08:11:01.300Z"
   },
   {
    "duration": 169,
    "start_time": "2022-03-10T08:11:24.079Z"
   },
   {
    "duration": 1026,
    "start_time": "2022-03-10T08:11:57.109Z"
   },
   {
    "duration": 12,
    "start_time": "2022-03-10T08:11:58.137Z"
   },
   {
    "duration": 10,
    "start_time": "2022-03-10T08:11:58.151Z"
   },
   {
    "duration": 50,
    "start_time": "2022-03-10T08:11:58.162Z"
   },
   {
    "duration": 20,
    "start_time": "2022-03-10T08:11:58.213Z"
   },
   {
    "duration": 5,
    "start_time": "2022-03-10T08:11:58.235Z"
   },
   {
    "duration": 5,
    "start_time": "2022-03-10T08:11:58.242Z"
   },
   {
    "duration": 329,
    "start_time": "2022-03-10T08:11:58.250Z"
   },
   {
    "duration": 225,
    "start_time": "2022-03-10T08:11:58.581Z"
   },
   {
    "duration": 217,
    "start_time": "2022-03-10T08:11:58.808Z"
   },
   {
    "duration": 336,
    "start_time": "2022-03-10T08:11:59.027Z"
   },
   {
    "duration": 222,
    "start_time": "2022-03-10T08:11:59.364Z"
   },
   {
    "duration": 332,
    "start_time": "2022-03-10T08:11:59.588Z"
   },
   {
    "duration": 429,
    "start_time": "2022-03-10T08:11:59.921Z"
   },
   {
    "duration": 4,
    "start_time": "2022-03-10T08:12:00.351Z"
   },
   {
    "duration": 296,
    "start_time": "2022-03-10T08:12:00.356Z"
   },
   {
    "duration": 4,
    "start_time": "2022-03-10T08:12:00.653Z"
   },
   {
    "duration": 131,
    "start_time": "2022-03-10T08:12:00.659Z"
   },
   {
    "duration": 9,
    "start_time": "2022-03-10T08:12:00.791Z"
   },
   {
    "duration": 17,
    "start_time": "2022-03-10T08:12:00.802Z"
   },
   {
    "duration": 13,
    "start_time": "2022-03-10T08:12:00.833Z"
   },
   {
    "duration": 218,
    "start_time": "2022-03-10T08:12:48.283Z"
   },
   {
    "duration": 538,
    "start_time": "2022-03-10T08:14:16.567Z"
   },
   {
    "duration": 414,
    "start_time": "2022-03-10T08:15:38.198Z"
   },
   {
    "duration": 379,
    "start_time": "2022-03-10T08:16:32.188Z"
   },
   {
    "duration": 519,
    "start_time": "2022-03-10T08:17:20.201Z"
   },
   {
    "duration": 358,
    "start_time": "2022-03-10T08:23:20.758Z"
   },
   {
    "duration": 391,
    "start_time": "2022-03-10T08:23:52.002Z"
   },
   {
    "duration": 360,
    "start_time": "2022-03-10T08:24:19.384Z"
   },
   {
    "duration": 181,
    "start_time": "2022-03-10T08:24:43.909Z"
   },
   {
    "duration": 185,
    "start_time": "2022-03-10T08:25:45.221Z"
   },
   {
    "duration": 306,
    "start_time": "2022-03-10T08:26:24.475Z"
   },
   {
    "duration": 221,
    "start_time": "2022-03-10T08:28:24.598Z"
   },
   {
    "duration": 328,
    "start_time": "2022-03-10T08:29:11.573Z"
   },
   {
    "duration": 223,
    "start_time": "2022-03-10T09:16:10.459Z"
   },
   {
    "duration": 281,
    "start_time": "2022-03-10T09:16:48.354Z"
   },
   {
    "duration": 300,
    "start_time": "2022-03-10T09:18:48.099Z"
   },
   {
    "duration": 253,
    "start_time": "2022-03-10T09:19:29.448Z"
   },
   {
    "duration": 249,
    "start_time": "2022-03-10T09:20:37.097Z"
   },
   {
    "duration": 258,
    "start_time": "2022-03-10T09:20:48.822Z"
   },
   {
    "duration": 248,
    "start_time": "2022-03-10T09:20:55.336Z"
   },
   {
    "duration": 373,
    "start_time": "2022-03-10T09:21:23.581Z"
   },
   {
    "duration": 344,
    "start_time": "2022-03-10T09:23:14.721Z"
   },
   {
    "duration": 526,
    "start_time": "2022-03-10T09:23:32.634Z"
   },
   {
    "duration": 380,
    "start_time": "2022-03-10T09:24:03.414Z"
   },
   {
    "duration": 394,
    "start_time": "2022-03-10T09:24:21.426Z"
   },
   {
    "duration": 488,
    "start_time": "2022-03-10T09:24:28.445Z"
   },
   {
    "duration": 416,
    "start_time": "2022-03-10T09:25:51.122Z"
   },
   {
    "duration": 410,
    "start_time": "2022-03-10T09:26:16.212Z"
   },
   {
    "duration": 509,
    "start_time": "2022-03-10T09:26:56.918Z"
   },
   {
    "duration": 397,
    "start_time": "2022-03-10T09:27:20.499Z"
   },
   {
    "duration": 1231,
    "start_time": "2022-03-10T09:31:22.121Z"
   },
   {
    "duration": 1220,
    "start_time": "2022-03-10T09:32:56.918Z"
   },
   {
    "duration": 1245,
    "start_time": "2022-03-10T09:33:07.761Z"
   },
   {
    "duration": 292,
    "start_time": "2022-03-10T09:34:09.375Z"
   },
   {
    "duration": 274,
    "start_time": "2022-03-10T09:34:28.985Z"
   },
   {
    "duration": 301,
    "start_time": "2022-03-10T09:34:55.272Z"
   },
   {
    "duration": 407,
    "start_time": "2022-03-10T09:41:04.594Z"
   },
   {
    "duration": 400,
    "start_time": "2022-03-10T09:41:29.897Z"
   },
   {
    "duration": 381,
    "start_time": "2022-03-10T09:41:44.294Z"
   },
   {
    "duration": 392,
    "start_time": "2022-03-10T09:41:54.013Z"
   },
   {
    "duration": 371,
    "start_time": "2022-03-10T09:42:06.792Z"
   },
   {
    "duration": 414,
    "start_time": "2022-03-10T09:42:21.928Z"
   },
   {
    "duration": 372,
    "start_time": "2022-03-10T09:43:10.782Z"
   },
   {
    "duration": 530,
    "start_time": "2022-03-10T09:43:36.323Z"
   },
   {
    "duration": 397,
    "start_time": "2022-03-10T09:43:48.594Z"
   },
   {
    "duration": 456,
    "start_time": "2022-03-10T09:44:06.308Z"
   },
   {
    "duration": 348,
    "start_time": "2022-03-10T09:44:15.478Z"
   },
   {
    "duration": 397,
    "start_time": "2022-03-10T09:44:20.952Z"
   },
   {
    "duration": 417,
    "start_time": "2022-03-10T09:44:38.131Z"
   },
   {
    "duration": 390,
    "start_time": "2022-03-10T09:44:46.248Z"
   },
   {
    "duration": 407,
    "start_time": "2022-03-10T09:45:48.040Z"
   },
   {
    "duration": 14,
    "start_time": "2022-03-10T10:07:33.242Z"
   },
   {
    "duration": 116,
    "start_time": "2022-03-10T10:10:00.788Z"
   },
   {
    "duration": 9,
    "start_time": "2022-03-10T10:11:05.737Z"
   },
   {
    "duration": 17,
    "start_time": "2022-03-10T10:11:40.289Z"
   },
   {
    "duration": 1007,
    "start_time": "2022-03-10T10:31:41.583Z"
   },
   {
    "duration": 11,
    "start_time": "2022-03-10T10:31:42.592Z"
   },
   {
    "duration": 10,
    "start_time": "2022-03-10T10:31:42.605Z"
   },
   {
    "duration": 70,
    "start_time": "2022-03-10T10:31:42.617Z"
   },
   {
    "duration": 8,
    "start_time": "2022-03-10T10:31:42.688Z"
   },
   {
    "duration": 4,
    "start_time": "2022-03-10T10:31:42.697Z"
   },
   {
    "duration": 7,
    "start_time": "2022-03-10T10:31:42.703Z"
   },
   {
    "duration": 324,
    "start_time": "2022-03-10T10:31:42.713Z"
   },
   {
    "duration": 304,
    "start_time": "2022-03-10T10:31:43.039Z"
   },
   {
    "duration": 260,
    "start_time": "2022-03-10T10:31:43.344Z"
   },
   {
    "duration": 455,
    "start_time": "2022-03-10T10:31:43.605Z"
   },
   {
    "duration": 305,
    "start_time": "2022-03-10T10:31:44.062Z"
   },
   {
    "duration": 418,
    "start_time": "2022-03-10T10:31:44.369Z"
   },
   {
    "duration": 376,
    "start_time": "2022-03-10T10:31:44.789Z"
   },
   {
    "duration": 4,
    "start_time": "2022-03-10T10:31:45.167Z"
   },
   {
    "duration": 310,
    "start_time": "2022-03-10T10:31:45.173Z"
   },
   {
    "duration": 4,
    "start_time": "2022-03-10T10:31:45.485Z"
   },
   {
    "duration": 129,
    "start_time": "2022-03-10T10:31:45.490Z"
   },
   {
    "duration": 18,
    "start_time": "2022-03-10T10:31:45.621Z"
   },
   {
    "duration": 18,
    "start_time": "2022-03-10T10:31:45.640Z"
   },
   {
    "duration": 13,
    "start_time": "2022-03-10T10:31:45.659Z"
   },
   {
    "duration": 393,
    "start_time": "2022-03-10T10:33:45.081Z"
   },
   {
    "duration": 477,
    "start_time": "2022-03-10T10:34:11.861Z"
   },
   {
    "duration": 385,
    "start_time": "2022-03-10T10:34:50.284Z"
   },
   {
    "duration": 303,
    "start_time": "2022-03-10T10:35:53.475Z"
   },
   {
    "duration": 1068,
    "start_time": "2022-03-10T10:36:32.733Z"
   },
   {
    "duration": 12,
    "start_time": "2022-03-10T10:36:33.803Z"
   },
   {
    "duration": 12,
    "start_time": "2022-03-10T10:36:33.816Z"
   },
   {
    "duration": 60,
    "start_time": "2022-03-10T10:36:33.830Z"
   },
   {
    "duration": 9,
    "start_time": "2022-03-10T10:36:33.892Z"
   },
   {
    "duration": 6,
    "start_time": "2022-03-10T10:36:33.902Z"
   },
   {
    "duration": 6,
    "start_time": "2022-03-10T10:36:33.909Z"
   },
   {
    "duration": 321,
    "start_time": "2022-03-10T10:36:33.918Z"
   },
   {
    "duration": 300,
    "start_time": "2022-03-10T10:36:34.241Z"
   },
   {
    "duration": 255,
    "start_time": "2022-03-10T10:36:34.542Z"
   },
   {
    "duration": 434,
    "start_time": "2022-03-10T10:36:34.799Z"
   },
   {
    "duration": 312,
    "start_time": "2022-03-10T10:36:35.234Z"
   },
   {
    "duration": 404,
    "start_time": "2022-03-10T10:36:35.547Z"
   },
   {
    "duration": 402,
    "start_time": "2022-03-10T10:36:35.953Z"
   },
   {
    "duration": 5,
    "start_time": "2022-03-10T10:36:36.356Z"
   },
   {
    "duration": 324,
    "start_time": "2022-03-10T10:36:36.362Z"
   },
   {
    "duration": 3,
    "start_time": "2022-03-10T10:36:36.688Z"
   },
   {
    "duration": 152,
    "start_time": "2022-03-10T10:36:36.693Z"
   },
   {
    "duration": 9,
    "start_time": "2022-03-10T10:36:36.847Z"
   },
   {
    "duration": 17,
    "start_time": "2022-03-10T10:36:36.858Z"
   },
   {
    "duration": 13,
    "start_time": "2022-03-10T10:36:36.877Z"
   },
   {
    "duration": 384,
    "start_time": "2022-03-10T19:25:35.035Z"
   },
   {
    "duration": 1409,
    "start_time": "2022-03-10T19:25:53.806Z"
   },
   {
    "duration": 16,
    "start_time": "2022-03-10T19:25:55.218Z"
   },
   {
    "duration": 15,
    "start_time": "2022-03-10T19:25:55.237Z"
   },
   {
    "duration": 92,
    "start_time": "2022-03-10T19:25:55.255Z"
   },
   {
    "duration": 14,
    "start_time": "2022-03-10T19:25:55.349Z"
   },
   {
    "duration": 8,
    "start_time": "2022-03-10T19:25:55.365Z"
   },
   {
    "duration": 20,
    "start_time": "2022-03-10T19:25:55.375Z"
   },
   {
    "duration": 36,
    "start_time": "2022-03-10T19:25:55.397Z"
   },
   {
    "duration": 561,
    "start_time": "2022-03-10T19:25:55.437Z"
   },
   {
    "duration": 508,
    "start_time": "2022-03-10T19:25:56.001Z"
   },
   {
    "duration": 433,
    "start_time": "2022-03-10T19:25:56.512Z"
   },
   {
    "duration": 605,
    "start_time": "2022-03-10T19:25:56.949Z"
   },
   {
    "duration": 504,
    "start_time": "2022-03-10T19:25:57.557Z"
   },
   {
    "duration": 732,
    "start_time": "2022-03-10T19:25:58.064Z"
   },
   {
    "duration": 647,
    "start_time": "2022-03-10T19:25:58.799Z"
   },
   {
    "duration": 7,
    "start_time": "2022-03-10T19:25:59.449Z"
   },
   {
    "duration": 440,
    "start_time": "2022-03-10T19:25:59.458Z"
   },
   {
    "duration": 5,
    "start_time": "2022-03-10T19:25:59.900Z"
   },
   {
    "duration": 256,
    "start_time": "2022-03-10T19:25:59.908Z"
   },
   {
    "duration": 14,
    "start_time": "2022-03-10T19:26:00.166Z"
   },
   {
    "duration": 52,
    "start_time": "2022-03-10T19:26:00.183Z"
   },
   {
    "duration": 19,
    "start_time": "2022-03-10T19:26:00.238Z"
   },
   {
    "duration": 99,
    "start_time": "2022-03-11T05:31:53.080Z"
   },
   {
    "duration": 308,
    "start_time": "2022-03-11T05:32:17.592Z"
   },
   {
    "duration": 1301,
    "start_time": "2022-03-11T05:32:34.255Z"
   },
   {
    "duration": 26,
    "start_time": "2022-03-11T05:32:35.559Z"
   },
   {
    "duration": 16,
    "start_time": "2022-03-11T05:32:35.588Z"
   },
   {
    "duration": 70,
    "start_time": "2022-03-11T05:32:35.607Z"
   },
   {
    "duration": 13,
    "start_time": "2022-03-11T05:32:35.683Z"
   },
   {
    "duration": 390,
    "start_time": "2022-03-11T05:32:35.698Z"
   },
   {
    "duration": 2310,
    "start_time": "2022-03-11T05:32:33.782Z"
   },
   {
    "duration": 2307,
    "start_time": "2022-03-11T05:32:33.787Z"
   },
   {
    "duration": 2304,
    "start_time": "2022-03-11T05:32:33.791Z"
   },
   {
    "duration": 2303,
    "start_time": "2022-03-11T05:32:33.794Z"
   },
   {
    "duration": 2297,
    "start_time": "2022-03-11T05:32:33.801Z"
   },
   {
    "duration": 2296,
    "start_time": "2022-03-11T05:32:33.804Z"
   },
   {
    "duration": 2293,
    "start_time": "2022-03-11T05:32:33.808Z"
   },
   {
    "duration": 2290,
    "start_time": "2022-03-11T05:32:33.812Z"
   },
   {
    "duration": 2288,
    "start_time": "2022-03-11T05:32:33.816Z"
   },
   {
    "duration": 2286,
    "start_time": "2022-03-11T05:32:33.819Z"
   },
   {
    "duration": 2283,
    "start_time": "2022-03-11T05:32:33.823Z"
   },
   {
    "duration": 2281,
    "start_time": "2022-03-11T05:32:33.826Z"
   },
   {
    "duration": 2275,
    "start_time": "2022-03-11T05:32:33.834Z"
   },
   {
    "duration": 2272,
    "start_time": "2022-03-11T05:32:33.838Z"
   },
   {
    "duration": 2270,
    "start_time": "2022-03-11T05:32:33.841Z"
   },
   {
    "duration": 331,
    "start_time": "2022-03-11T05:33:23.397Z"
   },
   {
    "duration": 378,
    "start_time": "2022-03-11T05:36:01.221Z"
   },
   {
    "duration": 325,
    "start_time": "2022-03-11T05:37:19.073Z"
   },
   {
    "duration": 90,
    "start_time": "2022-03-11T05:40:52.225Z"
   },
   {
    "duration": 94,
    "start_time": "2022-03-11T05:41:37.865Z"
   },
   {
    "duration": 315,
    "start_time": "2022-03-11T05:41:44.744Z"
   },
   {
    "duration": 316,
    "start_time": "2022-03-11T05:41:52.350Z"
   },
   {
    "duration": 314,
    "start_time": "2022-03-11T05:42:11.373Z"
   },
   {
    "duration": 326,
    "start_time": "2022-03-11T05:43:27.702Z"
   },
   {
    "duration": 6335,
    "start_time": "2022-03-11T05:51:32.338Z"
   },
   {
    "duration": 394,
    "start_time": "2022-03-11T05:51:50.672Z"
   },
   {
    "duration": 6449,
    "start_time": "2022-03-11T05:52:54.633Z"
   },
   {
    "duration": 341,
    "start_time": "2022-03-11T05:53:19.788Z"
   },
   {
    "duration": 6480,
    "start_time": "2022-03-11T05:56:07.045Z"
   },
   {
    "duration": 6401,
    "start_time": "2022-03-11T05:57:02.499Z"
   },
   {
    "duration": 385,
    "start_time": "2022-03-11T05:57:15.750Z"
   },
   {
    "duration": 345,
    "start_time": "2022-03-11T06:01:52.684Z"
   },
   {
    "duration": 367,
    "start_time": "2022-03-11T06:02:01.218Z"
   },
   {
    "duration": 322,
    "start_time": "2022-03-11T06:02:28.982Z"
   },
   {
    "duration": 325,
    "start_time": "2022-03-11T06:02:32.531Z"
   },
   {
    "duration": 337,
    "start_time": "2022-03-11T06:02:54.432Z"
   }
  ],
  "kernelspec": {
   "display_name": "Python 3",
   "language": "python",
   "name": "python3"
  },
  "language_info": {
   "codemirror_mode": {
    "name": "ipython",
    "version": 3
   },
   "file_extension": ".py",
   "mimetype": "text/x-python",
   "name": "python",
   "nbconvert_exporter": "python",
   "pygments_lexer": "ipython3",
   "version": "3.8.8"
  },
  "toc": {
   "base_numbering": 1,
   "nav_menu": {
    "height": "175.994px",
    "width": "216.989px"
   },
   "number_sections": false,
   "sideBar": true,
   "skip_h1_title": false,
   "title_cell": "Table of Contents",
   "title_sidebar": "Contents",
   "toc_cell": false,
   "toc_position": {
    "height": "calc(100% - 180px)",
    "left": "10px",
    "top": "150px",
    "width": "194.006px"
   },
   "toc_section_display": true,
   "toc_window_display": true
  }
 },
 "nbformat": 4,
 "nbformat_minor": 2
}
