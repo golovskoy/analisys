{
  "cells": [
    {
      "cell_type": "markdown",
      "id": "c468de41",
      "metadata": {
        "id": "c468de41"
      },
      "source": [
        "# Предсказание оттока клиентов"
      ]
    },
    {
      "cell_type": "markdown",
      "id": "4de1a899",
      "metadata": {
        "id": "4de1a899"
      },
      "source": [
        "## Обзор данных\n",
        "Импортируем необходимые библиотеки, загружаем данные в переменную."
      ]
    },
    {
      "cell_type": "code",
      "execution_count": null,
      "id": "dc460ab2",
      "metadata": {
        "id": "dc460ab2"
      },
      "outputs": [],
      "source": [
        "# импортируем библиотеки\n",
        "%matplotlib inline\n",
        "import pandas as pd\n",
        "import seaborn as sns\n",
        "import matplotlib.pyplot as plt\n",
        "from sklearn.preprocessing import LabelEncoder\n",
        "import warnings\n",
        "warnings.filterwarnings('ignore')\n",
        "\n",
        "# прочитаем из csv-файла данные\n",
        "df = pd.read_csv('C:\\\\Users\\\\algol\\\\Downloads\\\\WA_Churn.csv')"
      ]
    },
    {
      "cell_type": "code",
      "execution_count": null,
      "id": "5b983145",
      "metadata": {
        "id": "5b983145"
      },
      "outputs": [],
      "source": [
        "#функция для вывода состава столбцов\n",
        "def describe_cols(df_data):\n",
        "    df = df_data\n",
        "    values = pd.DataFrame()\n",
        "\n",
        "    for col in df.columns:\n",
        "        values[col] = [df[col].unique(), df[col].dtypes, df[col].nunique()]\n",
        "\n",
        "    return values.transpose().sort_values(by=1, ascending=True).rename(\n",
        "        {0: 'Значения', 1: 'тип данных', 2: 'Кол-во уникальных значений'}, axis=1)\n",
        "\n",
        "\n",
        "#функция для вывода пустых значений и их доли в столбцах датафрейма,\n",
        "#а также явных дубликатов\n",
        "def nan_values(df_data):\n",
        "    df = df_data\n",
        "    count_missing = df.isna().sum()\n",
        "    percent_missing = round(df.isna().sum() * 100 / len(df), 2)\n",
        "    count_duplicates = df.duplicated().sum()\n",
        "\n",
        "    missing_value_df = pd.DataFrame({'column_name': df.columns,\n",
        "                                     'num_missing': count_missing,\n",
        "                                     'percent_missing': percent_missing,\n",
        "                                     'num_duplicates': count_duplicates})\n",
        "\n",
        "    return missing_value_df\n",
        "\n",
        "\n",
        "#функция для вывода информации о файле\n",
        "def df_info (df_data):\n",
        "    print('Количество строк файла:', df_data.shape[0])\n",
        "    print('Количество столбцов файла:', df_data.shape[1])\n",
        "    print()\n",
        "    print('Информация о содержимом файла:')\n",
        "    display(describe_cols(df_data))\n",
        "    print()\n",
        "    print('Информация о пропусках и явных дубликатах данных:')\n",
        "    display(nan_values(df_data))\n",
        "    print()\n",
        "    print('Первые пять строк таблицы:')\n",
        "    display(df_data.head())"
      ]
    },
    {
      "cell_type": "code",
      "execution_count": null,
      "id": "156de9cd",
      "metadata": {
        "id": "156de9cd",
        "outputId": "bf9842d6-3903-4f3b-841b-f950f62c1b07"
      },
      "outputs": [
        {
          "name": "stdout",
          "output_type": "stream",
          "text": [
            "Количество строк файла: 7043\n",
            "Количество столбцов файла: 21\n",
            "\n",
            "Информация о содержимом файла:\n"
          ]
        },
        {
          "data": {
            "text/html": [
              "<div>\n",
              "<style scoped>\n",
              "    .dataframe tbody tr th:only-of-type {\n",
              "        vertical-align: middle;\n",
              "    }\n",
              "\n",
              "    .dataframe tbody tr th {\n",
              "        vertical-align: top;\n",
              "    }\n",
              "\n",
              "    .dataframe thead th {\n",
              "        text-align: right;\n",
              "    }\n",
              "</style>\n",
              "<table border=\"1\" class=\"dataframe\">\n",
              "  <thead>\n",
              "    <tr style=\"text-align: right;\">\n",
              "      <th></th>\n",
              "      <th>Значения</th>\n",
              "      <th>тип данных</th>\n",
              "      <th>Кол-во уникальных значений</th>\n",
              "    </tr>\n",
              "  </thead>\n",
              "  <tbody>\n",
              "    <tr>\n",
              "      <th>SeniorCitizen</th>\n",
              "      <td>[0, 1]</td>\n",
              "      <td>int64</td>\n",
              "      <td>2</td>\n",
              "    </tr>\n",
              "    <tr>\n",
              "      <th>tenure</th>\n",
              "      <td>[1, 34, 2, 45, 8, 22, 10, 28, 62, 13, 16, 58, ...</td>\n",
              "      <td>int64</td>\n",
              "      <td>73</td>\n",
              "    </tr>\n",
              "    <tr>\n",
              "      <th>MonthlyCharges</th>\n",
              "      <td>[29.85, 56.95, 53.85, 42.3, 70.7, 99.65, 89.1,...</td>\n",
              "      <td>float64</td>\n",
              "      <td>1585</td>\n",
              "    </tr>\n",
              "    <tr>\n",
              "      <th>customerID</th>\n",
              "      <td>[7590-VHVEG, 5575-GNVDE, 3668-QPYBK, 7795-CFOC...</td>\n",
              "      <td>object</td>\n",
              "      <td>7043</td>\n",
              "    </tr>\n",
              "    <tr>\n",
              "      <th>PaymentMethod</th>\n",
              "      <td>[Electronic check, Mailed check, Bank transfer...</td>\n",
              "      <td>object</td>\n",
              "      <td>4</td>\n",
              "    </tr>\n",
              "    <tr>\n",
              "      <th>PaperlessBilling</th>\n",
              "      <td>[Yes, No]</td>\n",
              "      <td>object</td>\n",
              "      <td>2</td>\n",
              "    </tr>\n",
              "    <tr>\n",
              "      <th>Contract</th>\n",
              "      <td>[Month-to-month, One year, Two year]</td>\n",
              "      <td>object</td>\n",
              "      <td>3</td>\n",
              "    </tr>\n",
              "    <tr>\n",
              "      <th>StreamingMovies</th>\n",
              "      <td>[No, Yes, No internet service]</td>\n",
              "      <td>object</td>\n",
              "      <td>3</td>\n",
              "    </tr>\n",
              "    <tr>\n",
              "      <th>StreamingTV</th>\n",
              "      <td>[No, Yes, No internet service]</td>\n",
              "      <td>object</td>\n",
              "      <td>3</td>\n",
              "    </tr>\n",
              "    <tr>\n",
              "      <th>TechSupport</th>\n",
              "      <td>[No, Yes, No internet service]</td>\n",
              "      <td>object</td>\n",
              "      <td>3</td>\n",
              "    </tr>\n",
              "    <tr>\n",
              "      <th>DeviceProtection</th>\n",
              "      <td>[No, Yes, No internet service]</td>\n",
              "      <td>object</td>\n",
              "      <td>3</td>\n",
              "    </tr>\n",
              "    <tr>\n",
              "      <th>OnlineBackup</th>\n",
              "      <td>[Yes, No, No internet service]</td>\n",
              "      <td>object</td>\n",
              "      <td>3</td>\n",
              "    </tr>\n",
              "    <tr>\n",
              "      <th>OnlineSecurity</th>\n",
              "      <td>[No, Yes, No internet service]</td>\n",
              "      <td>object</td>\n",
              "      <td>3</td>\n",
              "    </tr>\n",
              "    <tr>\n",
              "      <th>InternetService</th>\n",
              "      <td>[DSL, Fiber optic, No]</td>\n",
              "      <td>object</td>\n",
              "      <td>3</td>\n",
              "    </tr>\n",
              "    <tr>\n",
              "      <th>MultipleLines</th>\n",
              "      <td>[No phone service, No, Yes]</td>\n",
              "      <td>object</td>\n",
              "      <td>3</td>\n",
              "    </tr>\n",
              "    <tr>\n",
              "      <th>PhoneService</th>\n",
              "      <td>[No, Yes]</td>\n",
              "      <td>object</td>\n",
              "      <td>2</td>\n",
              "    </tr>\n",
              "    <tr>\n",
              "      <th>Dependents</th>\n",
              "      <td>[No, Yes]</td>\n",
              "      <td>object</td>\n",
              "      <td>2</td>\n",
              "    </tr>\n",
              "    <tr>\n",
              "      <th>Partner</th>\n",
              "      <td>[Yes, No]</td>\n",
              "      <td>object</td>\n",
              "      <td>2</td>\n",
              "    </tr>\n",
              "    <tr>\n",
              "      <th>gender</th>\n",
              "      <td>[Female, Male]</td>\n",
              "      <td>object</td>\n",
              "      <td>2</td>\n",
              "    </tr>\n",
              "    <tr>\n",
              "      <th>TotalCharges</th>\n",
              "      <td>[29.85, 1889.5, 108.15, 1840.75, 151.65, 820.5...</td>\n",
              "      <td>object</td>\n",
              "      <td>6531</td>\n",
              "    </tr>\n",
              "    <tr>\n",
              "      <th>Churn</th>\n",
              "      <td>[No, Yes]</td>\n",
              "      <td>object</td>\n",
              "      <td>2</td>\n",
              "    </tr>\n",
              "  </tbody>\n",
              "</table>\n",
              "</div>"
            ],
            "text/plain": [
              "                                                           Значения  \\\n",
              "SeniorCitizen                                                [0, 1]   \n",
              "tenure            [1, 34, 2, 45, 8, 22, 10, 28, 62, 13, 16, 58, ...   \n",
              "MonthlyCharges    [29.85, 56.95, 53.85, 42.3, 70.7, 99.65, 89.1,...   \n",
              "customerID        [7590-VHVEG, 5575-GNVDE, 3668-QPYBK, 7795-CFOC...   \n",
              "PaymentMethod     [Electronic check, Mailed check, Bank transfer...   \n",
              "PaperlessBilling                                          [Yes, No]   \n",
              "Contract                       [Month-to-month, One year, Two year]   \n",
              "StreamingMovies                      [No, Yes, No internet service]   \n",
              "StreamingTV                          [No, Yes, No internet service]   \n",
              "TechSupport                          [No, Yes, No internet service]   \n",
              "DeviceProtection                     [No, Yes, No internet service]   \n",
              "OnlineBackup                         [Yes, No, No internet service]   \n",
              "OnlineSecurity                       [No, Yes, No internet service]   \n",
              "InternetService                              [DSL, Fiber optic, No]   \n",
              "MultipleLines                           [No phone service, No, Yes]   \n",
              "PhoneService                                              [No, Yes]   \n",
              "Dependents                                                [No, Yes]   \n",
              "Partner                                                   [Yes, No]   \n",
              "gender                                               [Female, Male]   \n",
              "TotalCharges      [29.85, 1889.5, 108.15, 1840.75, 151.65, 820.5...   \n",
              "Churn                                                     [No, Yes]   \n",
              "\n",
              "                 тип данных Кол-во уникальных значений  \n",
              "SeniorCitizen         int64                          2  \n",
              "tenure                int64                         73  \n",
              "MonthlyCharges      float64                       1585  \n",
              "customerID           object                       7043  \n",
              "PaymentMethod        object                          4  \n",
              "PaperlessBilling     object                          2  \n",
              "Contract             object                          3  \n",
              "StreamingMovies      object                          3  \n",
              "StreamingTV          object                          3  \n",
              "TechSupport          object                          3  \n",
              "DeviceProtection     object                          3  \n",
              "OnlineBackup         object                          3  \n",
              "OnlineSecurity       object                          3  \n",
              "InternetService      object                          3  \n",
              "MultipleLines        object                          3  \n",
              "PhoneService         object                          2  \n",
              "Dependents           object                          2  \n",
              "Partner              object                          2  \n",
              "gender               object                          2  \n",
              "TotalCharges         object                       6531  \n",
              "Churn                object                          2  "
            ]
          },
          "metadata": {},
          "output_type": "display_data"
        },
        {
          "name": "stdout",
          "output_type": "stream",
          "text": [
            "\n",
            "Информация о пропусках и явных дубликатах данных:\n"
          ]
        },
        {
          "data": {
            "text/html": [
              "<div>\n",
              "<style scoped>\n",
              "    .dataframe tbody tr th:only-of-type {\n",
              "        vertical-align: middle;\n",
              "    }\n",
              "\n",
              "    .dataframe tbody tr th {\n",
              "        vertical-align: top;\n",
              "    }\n",
              "\n",
              "    .dataframe thead th {\n",
              "        text-align: right;\n",
              "    }\n",
              "</style>\n",
              "<table border=\"1\" class=\"dataframe\">\n",
              "  <thead>\n",
              "    <tr style=\"text-align: right;\">\n",
              "      <th></th>\n",
              "      <th>column_name</th>\n",
              "      <th>num_missing</th>\n",
              "      <th>percent_missing</th>\n",
              "      <th>num_duplicates</th>\n",
              "    </tr>\n",
              "  </thead>\n",
              "  <tbody>\n",
              "    <tr>\n",
              "      <th>customerID</th>\n",
              "      <td>customerID</td>\n",
              "      <td>0</td>\n",
              "      <td>0.0</td>\n",
              "      <td>0</td>\n",
              "    </tr>\n",
              "    <tr>\n",
              "      <th>gender</th>\n",
              "      <td>gender</td>\n",
              "      <td>0</td>\n",
              "      <td>0.0</td>\n",
              "      <td>0</td>\n",
              "    </tr>\n",
              "    <tr>\n",
              "      <th>SeniorCitizen</th>\n",
              "      <td>SeniorCitizen</td>\n",
              "      <td>0</td>\n",
              "      <td>0.0</td>\n",
              "      <td>0</td>\n",
              "    </tr>\n",
              "    <tr>\n",
              "      <th>Partner</th>\n",
              "      <td>Partner</td>\n",
              "      <td>0</td>\n",
              "      <td>0.0</td>\n",
              "      <td>0</td>\n",
              "    </tr>\n",
              "    <tr>\n",
              "      <th>Dependents</th>\n",
              "      <td>Dependents</td>\n",
              "      <td>0</td>\n",
              "      <td>0.0</td>\n",
              "      <td>0</td>\n",
              "    </tr>\n",
              "    <tr>\n",
              "      <th>tenure</th>\n",
              "      <td>tenure</td>\n",
              "      <td>0</td>\n",
              "      <td>0.0</td>\n",
              "      <td>0</td>\n",
              "    </tr>\n",
              "    <tr>\n",
              "      <th>PhoneService</th>\n",
              "      <td>PhoneService</td>\n",
              "      <td>0</td>\n",
              "      <td>0.0</td>\n",
              "      <td>0</td>\n",
              "    </tr>\n",
              "    <tr>\n",
              "      <th>MultipleLines</th>\n",
              "      <td>MultipleLines</td>\n",
              "      <td>0</td>\n",
              "      <td>0.0</td>\n",
              "      <td>0</td>\n",
              "    </tr>\n",
              "    <tr>\n",
              "      <th>InternetService</th>\n",
              "      <td>InternetService</td>\n",
              "      <td>0</td>\n",
              "      <td>0.0</td>\n",
              "      <td>0</td>\n",
              "    </tr>\n",
              "    <tr>\n",
              "      <th>OnlineSecurity</th>\n",
              "      <td>OnlineSecurity</td>\n",
              "      <td>0</td>\n",
              "      <td>0.0</td>\n",
              "      <td>0</td>\n",
              "    </tr>\n",
              "    <tr>\n",
              "      <th>OnlineBackup</th>\n",
              "      <td>OnlineBackup</td>\n",
              "      <td>0</td>\n",
              "      <td>0.0</td>\n",
              "      <td>0</td>\n",
              "    </tr>\n",
              "    <tr>\n",
              "      <th>DeviceProtection</th>\n",
              "      <td>DeviceProtection</td>\n",
              "      <td>0</td>\n",
              "      <td>0.0</td>\n",
              "      <td>0</td>\n",
              "    </tr>\n",
              "    <tr>\n",
              "      <th>TechSupport</th>\n",
              "      <td>TechSupport</td>\n",
              "      <td>0</td>\n",
              "      <td>0.0</td>\n",
              "      <td>0</td>\n",
              "    </tr>\n",
              "    <tr>\n",
              "      <th>StreamingTV</th>\n",
              "      <td>StreamingTV</td>\n",
              "      <td>0</td>\n",
              "      <td>0.0</td>\n",
              "      <td>0</td>\n",
              "    </tr>\n",
              "    <tr>\n",
              "      <th>StreamingMovies</th>\n",
              "      <td>StreamingMovies</td>\n",
              "      <td>0</td>\n",
              "      <td>0.0</td>\n",
              "      <td>0</td>\n",
              "    </tr>\n",
              "    <tr>\n",
              "      <th>Contract</th>\n",
              "      <td>Contract</td>\n",
              "      <td>0</td>\n",
              "      <td>0.0</td>\n",
              "      <td>0</td>\n",
              "    </tr>\n",
              "    <tr>\n",
              "      <th>PaperlessBilling</th>\n",
              "      <td>PaperlessBilling</td>\n",
              "      <td>0</td>\n",
              "      <td>0.0</td>\n",
              "      <td>0</td>\n",
              "    </tr>\n",
              "    <tr>\n",
              "      <th>PaymentMethod</th>\n",
              "      <td>PaymentMethod</td>\n",
              "      <td>0</td>\n",
              "      <td>0.0</td>\n",
              "      <td>0</td>\n",
              "    </tr>\n",
              "    <tr>\n",
              "      <th>MonthlyCharges</th>\n",
              "      <td>MonthlyCharges</td>\n",
              "      <td>0</td>\n",
              "      <td>0.0</td>\n",
              "      <td>0</td>\n",
              "    </tr>\n",
              "    <tr>\n",
              "      <th>TotalCharges</th>\n",
              "      <td>TotalCharges</td>\n",
              "      <td>0</td>\n",
              "      <td>0.0</td>\n",
              "      <td>0</td>\n",
              "    </tr>\n",
              "    <tr>\n",
              "      <th>Churn</th>\n",
              "      <td>Churn</td>\n",
              "      <td>0</td>\n",
              "      <td>0.0</td>\n",
              "      <td>0</td>\n",
              "    </tr>\n",
              "  </tbody>\n",
              "</table>\n",
              "</div>"
            ],
            "text/plain": [
              "                       column_name  num_missing  percent_missing  \\\n",
              "customerID              customerID            0              0.0   \n",
              "gender                      gender            0              0.0   \n",
              "SeniorCitizen        SeniorCitizen            0              0.0   \n",
              "Partner                    Partner            0              0.0   \n",
              "Dependents              Dependents            0              0.0   \n",
              "tenure                      tenure            0              0.0   \n",
              "PhoneService          PhoneService            0              0.0   \n",
              "MultipleLines        MultipleLines            0              0.0   \n",
              "InternetService    InternetService            0              0.0   \n",
              "OnlineSecurity      OnlineSecurity            0              0.0   \n",
              "OnlineBackup          OnlineBackup            0              0.0   \n",
              "DeviceProtection  DeviceProtection            0              0.0   \n",
              "TechSupport            TechSupport            0              0.0   \n",
              "StreamingTV            StreamingTV            0              0.0   \n",
              "StreamingMovies    StreamingMovies            0              0.0   \n",
              "Contract                  Contract            0              0.0   \n",
              "PaperlessBilling  PaperlessBilling            0              0.0   \n",
              "PaymentMethod        PaymentMethod            0              0.0   \n",
              "MonthlyCharges      MonthlyCharges            0              0.0   \n",
              "TotalCharges          TotalCharges            0              0.0   \n",
              "Churn                        Churn            0              0.0   \n",
              "\n",
              "                  num_duplicates  \n",
              "customerID                     0  \n",
              "gender                         0  \n",
              "SeniorCitizen                  0  \n",
              "Partner                        0  \n",
              "Dependents                     0  \n",
              "tenure                         0  \n",
              "PhoneService                   0  \n",
              "MultipleLines                  0  \n",
              "InternetService                0  \n",
              "OnlineSecurity                 0  \n",
              "OnlineBackup                   0  \n",
              "DeviceProtection               0  \n",
              "TechSupport                    0  \n",
              "StreamingTV                    0  \n",
              "StreamingMovies                0  \n",
              "Contract                       0  \n",
              "PaperlessBilling               0  \n",
              "PaymentMethod                  0  \n",
              "MonthlyCharges                 0  \n",
              "TotalCharges                   0  \n",
              "Churn                          0  "
            ]
          },
          "metadata": {},
          "output_type": "display_data"
        },
        {
          "name": "stdout",
          "output_type": "stream",
          "text": [
            "\n",
            "Первые пять строк таблицы:\n"
          ]
        },
        {
          "data": {
            "text/html": [
              "<div>\n",
              "<style scoped>\n",
              "    .dataframe tbody tr th:only-of-type {\n",
              "        vertical-align: middle;\n",
              "    }\n",
              "\n",
              "    .dataframe tbody tr th {\n",
              "        vertical-align: top;\n",
              "    }\n",
              "\n",
              "    .dataframe thead th {\n",
              "        text-align: right;\n",
              "    }\n",
              "</style>\n",
              "<table border=\"1\" class=\"dataframe\">\n",
              "  <thead>\n",
              "    <tr style=\"text-align: right;\">\n",
              "      <th></th>\n",
              "      <th>customerID</th>\n",
              "      <th>gender</th>\n",
              "      <th>SeniorCitizen</th>\n",
              "      <th>Partner</th>\n",
              "      <th>Dependents</th>\n",
              "      <th>tenure</th>\n",
              "      <th>PhoneService</th>\n",
              "      <th>MultipleLines</th>\n",
              "      <th>InternetService</th>\n",
              "      <th>OnlineSecurity</th>\n",
              "      <th>...</th>\n",
              "      <th>DeviceProtection</th>\n",
              "      <th>TechSupport</th>\n",
              "      <th>StreamingTV</th>\n",
              "      <th>StreamingMovies</th>\n",
              "      <th>Contract</th>\n",
              "      <th>PaperlessBilling</th>\n",
              "      <th>PaymentMethod</th>\n",
              "      <th>MonthlyCharges</th>\n",
              "      <th>TotalCharges</th>\n",
              "      <th>Churn</th>\n",
              "    </tr>\n",
              "  </thead>\n",
              "  <tbody>\n",
              "    <tr>\n",
              "      <th>0</th>\n",
              "      <td>7590-VHVEG</td>\n",
              "      <td>Female</td>\n",
              "      <td>0</td>\n",
              "      <td>Yes</td>\n",
              "      <td>No</td>\n",
              "      <td>1</td>\n",
              "      <td>No</td>\n",
              "      <td>No phone service</td>\n",
              "      <td>DSL</td>\n",
              "      <td>No</td>\n",
              "      <td>...</td>\n",
              "      <td>No</td>\n",
              "      <td>No</td>\n",
              "      <td>No</td>\n",
              "      <td>No</td>\n",
              "      <td>Month-to-month</td>\n",
              "      <td>Yes</td>\n",
              "      <td>Electronic check</td>\n",
              "      <td>29.85</td>\n",
              "      <td>29.85</td>\n",
              "      <td>No</td>\n",
              "    </tr>\n",
              "    <tr>\n",
              "      <th>1</th>\n",
              "      <td>5575-GNVDE</td>\n",
              "      <td>Male</td>\n",
              "      <td>0</td>\n",
              "      <td>No</td>\n",
              "      <td>No</td>\n",
              "      <td>34</td>\n",
              "      <td>Yes</td>\n",
              "      <td>No</td>\n",
              "      <td>DSL</td>\n",
              "      <td>Yes</td>\n",
              "      <td>...</td>\n",
              "      <td>Yes</td>\n",
              "      <td>No</td>\n",
              "      <td>No</td>\n",
              "      <td>No</td>\n",
              "      <td>One year</td>\n",
              "      <td>No</td>\n",
              "      <td>Mailed check</td>\n",
              "      <td>56.95</td>\n",
              "      <td>1889.5</td>\n",
              "      <td>No</td>\n",
              "    </tr>\n",
              "    <tr>\n",
              "      <th>2</th>\n",
              "      <td>3668-QPYBK</td>\n",
              "      <td>Male</td>\n",
              "      <td>0</td>\n",
              "      <td>No</td>\n",
              "      <td>No</td>\n",
              "      <td>2</td>\n",
              "      <td>Yes</td>\n",
              "      <td>No</td>\n",
              "      <td>DSL</td>\n",
              "      <td>Yes</td>\n",
              "      <td>...</td>\n",
              "      <td>No</td>\n",
              "      <td>No</td>\n",
              "      <td>No</td>\n",
              "      <td>No</td>\n",
              "      <td>Month-to-month</td>\n",
              "      <td>Yes</td>\n",
              "      <td>Mailed check</td>\n",
              "      <td>53.85</td>\n",
              "      <td>108.15</td>\n",
              "      <td>Yes</td>\n",
              "    </tr>\n",
              "    <tr>\n",
              "      <th>3</th>\n",
              "      <td>7795-CFOCW</td>\n",
              "      <td>Male</td>\n",
              "      <td>0</td>\n",
              "      <td>No</td>\n",
              "      <td>No</td>\n",
              "      <td>45</td>\n",
              "      <td>No</td>\n",
              "      <td>No phone service</td>\n",
              "      <td>DSL</td>\n",
              "      <td>Yes</td>\n",
              "      <td>...</td>\n",
              "      <td>Yes</td>\n",
              "      <td>Yes</td>\n",
              "      <td>No</td>\n",
              "      <td>No</td>\n",
              "      <td>One year</td>\n",
              "      <td>No</td>\n",
              "      <td>Bank transfer (automatic)</td>\n",
              "      <td>42.30</td>\n",
              "      <td>1840.75</td>\n",
              "      <td>No</td>\n",
              "    </tr>\n",
              "    <tr>\n",
              "      <th>4</th>\n",
              "      <td>9237-HQITU</td>\n",
              "      <td>Female</td>\n",
              "      <td>0</td>\n",
              "      <td>No</td>\n",
              "      <td>No</td>\n",
              "      <td>2</td>\n",
              "      <td>Yes</td>\n",
              "      <td>No</td>\n",
              "      <td>Fiber optic</td>\n",
              "      <td>No</td>\n",
              "      <td>...</td>\n",
              "      <td>No</td>\n",
              "      <td>No</td>\n",
              "      <td>No</td>\n",
              "      <td>No</td>\n",
              "      <td>Month-to-month</td>\n",
              "      <td>Yes</td>\n",
              "      <td>Electronic check</td>\n",
              "      <td>70.70</td>\n",
              "      <td>151.65</td>\n",
              "      <td>Yes</td>\n",
              "    </tr>\n",
              "  </tbody>\n",
              "</table>\n",
              "<p>5 rows × 21 columns</p>\n",
              "</div>"
            ],
            "text/plain": [
              "   customerID  gender  SeniorCitizen Partner Dependents  tenure PhoneService  \\\n",
              "0  7590-VHVEG  Female              0     Yes         No       1           No   \n",
              "1  5575-GNVDE    Male              0      No         No      34          Yes   \n",
              "2  3668-QPYBK    Male              0      No         No       2          Yes   \n",
              "3  7795-CFOCW    Male              0      No         No      45           No   \n",
              "4  9237-HQITU  Female              0      No         No       2          Yes   \n",
              "\n",
              "      MultipleLines InternetService OnlineSecurity  ... DeviceProtection  \\\n",
              "0  No phone service             DSL             No  ...               No   \n",
              "1                No             DSL            Yes  ...              Yes   \n",
              "2                No             DSL            Yes  ...               No   \n",
              "3  No phone service             DSL            Yes  ...              Yes   \n",
              "4                No     Fiber optic             No  ...               No   \n",
              "\n",
              "  TechSupport StreamingTV StreamingMovies        Contract PaperlessBilling  \\\n",
              "0          No          No              No  Month-to-month              Yes   \n",
              "1          No          No              No        One year               No   \n",
              "2          No          No              No  Month-to-month              Yes   \n",
              "3         Yes          No              No        One year               No   \n",
              "4          No          No              No  Month-to-month              Yes   \n",
              "\n",
              "               PaymentMethod MonthlyCharges  TotalCharges Churn  \n",
              "0           Electronic check          29.85         29.85    No  \n",
              "1               Mailed check          56.95        1889.5    No  \n",
              "2               Mailed check          53.85        108.15   Yes  \n",
              "3  Bank transfer (automatic)          42.30       1840.75    No  \n",
              "4           Electronic check          70.70        151.65   Yes  \n",
              "\n",
              "[5 rows x 21 columns]"
            ]
          },
          "metadata": {},
          "output_type": "display_data"
        }
      ],
      "source": [
        "df_info(df)"
      ]
    },
    {
      "cell_type": "markdown",
      "id": "ddf0c459",
      "metadata": {
        "id": "ddf0c459"
      },
      "source": [
        "Пропусков и явных дубликатов нет. Из 21 столбца 18 не числовые: бинарные или категориальные."
      ]
    },
    {
      "cell_type": "markdown",
      "id": "417adcb5",
      "metadata": {
        "id": "417adcb5"
      },
      "source": [
        "Таблица содержит следующие столбцы:\n",
        "<div>'customerID' — Уникальный номер клиента;\n",
        "<div>'SeniorCitizen' — Пожилой/не пожилой;\n",
        "<div>'Partner' — Наличие партнера у клиента;\n",
        "<div>'Dependents' — Наличие у клиента иждивенцев;\n",
        "<div>'tenure' — Количество месяцев присутствия клиента;\n",
        "<div>'PhoneService' — Есть ли у клиента телефонная служба.\n",
        "<div>'MultipleLines' - Есть ли у клиента несколько линий или нет;\n",
        "<div>'InternetService' — Вид интернета клиента;\n",
        "<div>'OnlineSecurity' — Есть ли у клиента онлайн безопасность;\n",
        "<div>'OnlineBackup' — есть ли у клиента онлайн-резервная копия или нет;\n",
        "<div>'DeviceProtection' — Есть ли у клиента защита устройства;\n",
        "<div>'TechSupport' — Имеет ли клиент техническую поддержку;\n",
        "<div>'StreamingTV' — Есть ли StreamingTV;  \n",
        "<div>StreamingMovies\t- Есть ли StreamingMovies;    \n",
        "<div>Contract-Срок договора клиента;    \n",
        "<div>PaperlessBilling-Есть ли у клиента безбумажный биллинг;    \n",
        "<div>PaymentMethod-Метод оплаты;    \n",
        "<div>MonthlyCharges-Сумма, списываемая с клиента ежемесячно;    \n",
        "<div>TotalCharges-Общая сумма, списанная с клиента;    \n",
        "    <div>'Churn' — факт оттока ."
      ]
    },
    {
      "cell_type": "markdown",
      "id": "7c0ac224",
      "metadata": {
        "id": "7c0ac224"
      },
      "source": [
        "## Препроцессинг"
      ]
    },
    {
      "cell_type": "markdown",
      "id": "33ebcad5",
      "metadata": {
        "id": "33ebcad5"
      },
      "source": [
        "Уникальный номер клиента никак не повлияет на отток."
      ]
    },
    {
      "cell_type": "code",
      "execution_count": null,
      "id": "a3f4b579",
      "metadata": {
        "id": "a3f4b579",
        "outputId": "231c6711-817b-46ff-ebbd-0138d89e64de"
      },
      "outputs": [
        {
          "data": {
            "text/html": [
              "<div>\n",
              "<style scoped>\n",
              "    .dataframe tbody tr th:only-of-type {\n",
              "        vertical-align: middle;\n",
              "    }\n",
              "\n",
              "    .dataframe tbody tr th {\n",
              "        vertical-align: top;\n",
              "    }\n",
              "\n",
              "    .dataframe thead th {\n",
              "        text-align: right;\n",
              "    }\n",
              "</style>\n",
              "<table border=\"1\" class=\"dataframe\">\n",
              "  <thead>\n",
              "    <tr style=\"text-align: right;\">\n",
              "      <th></th>\n",
              "      <th>gender</th>\n",
              "      <th>SeniorCitizen</th>\n",
              "      <th>Partner</th>\n",
              "      <th>Dependents</th>\n",
              "      <th>tenure</th>\n",
              "      <th>PhoneService</th>\n",
              "      <th>MultipleLines</th>\n",
              "      <th>InternetService</th>\n",
              "      <th>OnlineSecurity</th>\n",
              "      <th>OnlineBackup</th>\n",
              "      <th>DeviceProtection</th>\n",
              "      <th>TechSupport</th>\n",
              "      <th>StreamingTV</th>\n",
              "      <th>StreamingMovies</th>\n",
              "      <th>Contract</th>\n",
              "      <th>PaperlessBilling</th>\n",
              "      <th>PaymentMethod</th>\n",
              "      <th>MonthlyCharges</th>\n",
              "      <th>TotalCharges</th>\n",
              "      <th>Churn</th>\n",
              "    </tr>\n",
              "  </thead>\n",
              "  <tbody>\n",
              "    <tr>\n",
              "      <th>0</th>\n",
              "      <td>Female</td>\n",
              "      <td>0</td>\n",
              "      <td>Yes</td>\n",
              "      <td>No</td>\n",
              "      <td>1</td>\n",
              "      <td>No</td>\n",
              "      <td>No phone service</td>\n",
              "      <td>DSL</td>\n",
              "      <td>No</td>\n",
              "      <td>Yes</td>\n",
              "      <td>No</td>\n",
              "      <td>No</td>\n",
              "      <td>No</td>\n",
              "      <td>No</td>\n",
              "      <td>Month-to-month</td>\n",
              "      <td>Yes</td>\n",
              "      <td>Electronic check</td>\n",
              "      <td>29.85</td>\n",
              "      <td>29.85</td>\n",
              "      <td>No</td>\n",
              "    </tr>\n",
              "    <tr>\n",
              "      <th>1</th>\n",
              "      <td>Male</td>\n",
              "      <td>0</td>\n",
              "      <td>No</td>\n",
              "      <td>No</td>\n",
              "      <td>34</td>\n",
              "      <td>Yes</td>\n",
              "      <td>No</td>\n",
              "      <td>DSL</td>\n",
              "      <td>Yes</td>\n",
              "      <td>No</td>\n",
              "      <td>Yes</td>\n",
              "      <td>No</td>\n",
              "      <td>No</td>\n",
              "      <td>No</td>\n",
              "      <td>One year</td>\n",
              "      <td>No</td>\n",
              "      <td>Mailed check</td>\n",
              "      <td>56.95</td>\n",
              "      <td>1889.5</td>\n",
              "      <td>No</td>\n",
              "    </tr>\n",
              "    <tr>\n",
              "      <th>2</th>\n",
              "      <td>Male</td>\n",
              "      <td>0</td>\n",
              "      <td>No</td>\n",
              "      <td>No</td>\n",
              "      <td>2</td>\n",
              "      <td>Yes</td>\n",
              "      <td>No</td>\n",
              "      <td>DSL</td>\n",
              "      <td>Yes</td>\n",
              "      <td>Yes</td>\n",
              "      <td>No</td>\n",
              "      <td>No</td>\n",
              "      <td>No</td>\n",
              "      <td>No</td>\n",
              "      <td>Month-to-month</td>\n",
              "      <td>Yes</td>\n",
              "      <td>Mailed check</td>\n",
              "      <td>53.85</td>\n",
              "      <td>108.15</td>\n",
              "      <td>Yes</td>\n",
              "    </tr>\n",
              "    <tr>\n",
              "      <th>3</th>\n",
              "      <td>Male</td>\n",
              "      <td>0</td>\n",
              "      <td>No</td>\n",
              "      <td>No</td>\n",
              "      <td>45</td>\n",
              "      <td>No</td>\n",
              "      <td>No phone service</td>\n",
              "      <td>DSL</td>\n",
              "      <td>Yes</td>\n",
              "      <td>No</td>\n",
              "      <td>Yes</td>\n",
              "      <td>Yes</td>\n",
              "      <td>No</td>\n",
              "      <td>No</td>\n",
              "      <td>One year</td>\n",
              "      <td>No</td>\n",
              "      <td>Bank transfer (automatic)</td>\n",
              "      <td>42.30</td>\n",
              "      <td>1840.75</td>\n",
              "      <td>No</td>\n",
              "    </tr>\n",
              "    <tr>\n",
              "      <th>4</th>\n",
              "      <td>Female</td>\n",
              "      <td>0</td>\n",
              "      <td>No</td>\n",
              "      <td>No</td>\n",
              "      <td>2</td>\n",
              "      <td>Yes</td>\n",
              "      <td>No</td>\n",
              "      <td>Fiber optic</td>\n",
              "      <td>No</td>\n",
              "      <td>No</td>\n",
              "      <td>No</td>\n",
              "      <td>No</td>\n",
              "      <td>No</td>\n",
              "      <td>No</td>\n",
              "      <td>Month-to-month</td>\n",
              "      <td>Yes</td>\n",
              "      <td>Electronic check</td>\n",
              "      <td>70.70</td>\n",
              "      <td>151.65</td>\n",
              "      <td>Yes</td>\n",
              "    </tr>\n",
              "  </tbody>\n",
              "</table>\n",
              "</div>"
            ],
            "text/plain": [
              "   gender  SeniorCitizen Partner Dependents  tenure PhoneService  \\\n",
              "0  Female              0     Yes         No       1           No   \n",
              "1    Male              0      No         No      34          Yes   \n",
              "2    Male              0      No         No       2          Yes   \n",
              "3    Male              0      No         No      45           No   \n",
              "4  Female              0      No         No       2          Yes   \n",
              "\n",
              "      MultipleLines InternetService OnlineSecurity OnlineBackup  \\\n",
              "0  No phone service             DSL             No          Yes   \n",
              "1                No             DSL            Yes           No   \n",
              "2                No             DSL            Yes          Yes   \n",
              "3  No phone service             DSL            Yes           No   \n",
              "4                No     Fiber optic             No           No   \n",
              "\n",
              "  DeviceProtection TechSupport StreamingTV StreamingMovies        Contract  \\\n",
              "0               No          No          No              No  Month-to-month   \n",
              "1              Yes          No          No              No        One year   \n",
              "2               No          No          No              No  Month-to-month   \n",
              "3              Yes         Yes          No              No        One year   \n",
              "4               No          No          No              No  Month-to-month   \n",
              "\n",
              "  PaperlessBilling              PaymentMethod  MonthlyCharges TotalCharges  \\\n",
              "0              Yes           Electronic check           29.85        29.85   \n",
              "1               No               Mailed check           56.95       1889.5   \n",
              "2              Yes               Mailed check           53.85       108.15   \n",
              "3               No  Bank transfer (automatic)           42.30      1840.75   \n",
              "4              Yes           Electronic check           70.70       151.65   \n",
              "\n",
              "  Churn  \n",
              "0    No  \n",
              "1    No  \n",
              "2   Yes  \n",
              "3    No  \n",
              "4   Yes  "
            ]
          },
          "execution_count": 4,
          "metadata": {},
          "output_type": "execute_result"
        }
      ],
      "source": [
        "#удалим из датасета столбец 'customerID' — Уникальный номер клиента\n",
        "df = df.drop('customerID', axis=1)\n",
        "df.head()"
      ]
    },
    {
      "cell_type": "code",
      "execution_count": null,
      "id": "d159c8eb",
      "metadata": {
        "id": "d159c8eb",
        "outputId": "4ffac1b4-ffda-44b5-9fba-efb2dfadfb8f"
      },
      "outputs": [
        {
          "data": {
            "text/html": [
              "<div>\n",
              "<style scoped>\n",
              "    .dataframe tbody tr th:only-of-type {\n",
              "        vertical-align: middle;\n",
              "    }\n",
              "\n",
              "    .dataframe tbody tr th {\n",
              "        vertical-align: top;\n",
              "    }\n",
              "\n",
              "    .dataframe thead th {\n",
              "        text-align: right;\n",
              "    }\n",
              "</style>\n",
              "<table border=\"1\" class=\"dataframe\">\n",
              "  <thead>\n",
              "    <tr style=\"text-align: right;\">\n",
              "      <th></th>\n",
              "      <th>gender</th>\n",
              "      <th>SeniorCitizen</th>\n",
              "      <th>Partner</th>\n",
              "      <th>Dependents</th>\n",
              "      <th>tenure</th>\n",
              "      <th>PhoneService</th>\n",
              "      <th>MultipleLines</th>\n",
              "      <th>InternetService</th>\n",
              "      <th>OnlineSecurity</th>\n",
              "      <th>OnlineBackup</th>\n",
              "      <th>DeviceProtection</th>\n",
              "      <th>TechSupport</th>\n",
              "      <th>StreamingTV</th>\n",
              "      <th>StreamingMovies</th>\n",
              "      <th>Contract</th>\n",
              "      <th>PaperlessBilling</th>\n",
              "      <th>PaymentMethod</th>\n",
              "      <th>MonthlyCharges</th>\n",
              "      <th>TotalCharges</th>\n",
              "      <th>Churn</th>\n",
              "    </tr>\n",
              "  </thead>\n",
              "  <tbody>\n",
              "    <tr>\n",
              "      <th>0</th>\n",
              "      <td>0</td>\n",
              "      <td>0</td>\n",
              "      <td>1</td>\n",
              "      <td>0</td>\n",
              "      <td>1</td>\n",
              "      <td>0</td>\n",
              "      <td>1</td>\n",
              "      <td>0</td>\n",
              "      <td>0</td>\n",
              "      <td>2</td>\n",
              "      <td>0</td>\n",
              "      <td>0</td>\n",
              "      <td>0</td>\n",
              "      <td>0</td>\n",
              "      <td>0</td>\n",
              "      <td>1</td>\n",
              "      <td>2</td>\n",
              "      <td>29.85</td>\n",
              "      <td>29.85</td>\n",
              "      <td>0</td>\n",
              "    </tr>\n",
              "    <tr>\n",
              "      <th>1</th>\n",
              "      <td>1</td>\n",
              "      <td>0</td>\n",
              "      <td>0</td>\n",
              "      <td>0</td>\n",
              "      <td>34</td>\n",
              "      <td>1</td>\n",
              "      <td>0</td>\n",
              "      <td>0</td>\n",
              "      <td>2</td>\n",
              "      <td>0</td>\n",
              "      <td>2</td>\n",
              "      <td>0</td>\n",
              "      <td>0</td>\n",
              "      <td>0</td>\n",
              "      <td>1</td>\n",
              "      <td>0</td>\n",
              "      <td>3</td>\n",
              "      <td>56.95</td>\n",
              "      <td>1889.5</td>\n",
              "      <td>0</td>\n",
              "    </tr>\n",
              "    <tr>\n",
              "      <th>2</th>\n",
              "      <td>1</td>\n",
              "      <td>0</td>\n",
              "      <td>0</td>\n",
              "      <td>0</td>\n",
              "      <td>2</td>\n",
              "      <td>1</td>\n",
              "      <td>0</td>\n",
              "      <td>0</td>\n",
              "      <td>2</td>\n",
              "      <td>2</td>\n",
              "      <td>0</td>\n",
              "      <td>0</td>\n",
              "      <td>0</td>\n",
              "      <td>0</td>\n",
              "      <td>0</td>\n",
              "      <td>1</td>\n",
              "      <td>3</td>\n",
              "      <td>53.85</td>\n",
              "      <td>108.15</td>\n",
              "      <td>1</td>\n",
              "    </tr>\n",
              "    <tr>\n",
              "      <th>3</th>\n",
              "      <td>1</td>\n",
              "      <td>0</td>\n",
              "      <td>0</td>\n",
              "      <td>0</td>\n",
              "      <td>45</td>\n",
              "      <td>0</td>\n",
              "      <td>1</td>\n",
              "      <td>0</td>\n",
              "      <td>2</td>\n",
              "      <td>0</td>\n",
              "      <td>2</td>\n",
              "      <td>2</td>\n",
              "      <td>0</td>\n",
              "      <td>0</td>\n",
              "      <td>1</td>\n",
              "      <td>0</td>\n",
              "      <td>0</td>\n",
              "      <td>42.30</td>\n",
              "      <td>1840.75</td>\n",
              "      <td>0</td>\n",
              "    </tr>\n",
              "    <tr>\n",
              "      <th>4</th>\n",
              "      <td>0</td>\n",
              "      <td>0</td>\n",
              "      <td>0</td>\n",
              "      <td>0</td>\n",
              "      <td>2</td>\n",
              "      <td>1</td>\n",
              "      <td>0</td>\n",
              "      <td>1</td>\n",
              "      <td>0</td>\n",
              "      <td>0</td>\n",
              "      <td>0</td>\n",
              "      <td>0</td>\n",
              "      <td>0</td>\n",
              "      <td>0</td>\n",
              "      <td>0</td>\n",
              "      <td>1</td>\n",
              "      <td>2</td>\n",
              "      <td>70.70</td>\n",
              "      <td>151.65</td>\n",
              "      <td>1</td>\n",
              "    </tr>\n",
              "  </tbody>\n",
              "</table>\n",
              "</div>"
            ],
            "text/plain": [
              "   gender  SeniorCitizen  Partner  Dependents  tenure  PhoneService  \\\n",
              "0       0              0        1           0       1             0   \n",
              "1       1              0        0           0      34             1   \n",
              "2       1              0        0           0       2             1   \n",
              "3       1              0        0           0      45             0   \n",
              "4       0              0        0           0       2             1   \n",
              "\n",
              "   MultipleLines  InternetService  OnlineSecurity  OnlineBackup  \\\n",
              "0              1                0               0             2   \n",
              "1              0                0               2             0   \n",
              "2              0                0               2             2   \n",
              "3              1                0               2             0   \n",
              "4              0                1               0             0   \n",
              "\n",
              "   DeviceProtection  TechSupport  StreamingTV  StreamingMovies  Contract  \\\n",
              "0                 0            0            0                0         0   \n",
              "1                 2            0            0                0         1   \n",
              "2                 0            0            0                0         0   \n",
              "3                 2            2            0                0         1   \n",
              "4                 0            0            0                0         0   \n",
              "\n",
              "   PaperlessBilling  PaymentMethod  MonthlyCharges TotalCharges  Churn  \n",
              "0                 1              2           29.85        29.85      0  \n",
              "1                 0              3           56.95       1889.5      0  \n",
              "2                 1              3           53.85       108.15      1  \n",
              "3                 0              0           42.30      1840.75      0  \n",
              "4                 1              2           70.70       151.65      1  "
            ]
          },
          "execution_count": 5,
          "metadata": {},
          "output_type": "execute_result"
        }
      ],
      "source": [
        "#заменим категориальные переменные на уникальные лэйблы\n",
        "le = LabelEncoder()\n",
        "#взглянем на переменные для присвоения лэйблов и трансформируем их в лэйблы\n",
        "columns = ['gender', 'Partner', 'Dependents',\n",
        "       'PhoneService', 'MultipleLines', 'InternetService', 'OnlineSecurity',\n",
        "       'OnlineBackup', 'DeviceProtection', 'TechSupport', 'StreamingTV',\n",
        "       'StreamingMovies', 'Contract', 'PaperlessBilling', 'PaymentMethod', 'Churn']\n",
        "for col in columns:\n",
        "    df[col] = le.fit_transform(df[col])\n",
        "df.head()"
      ]
    },
    {
      "cell_type": "markdown",
      "id": "1bfeccfc",
      "metadata": {
        "id": "1bfeccfc"
      },
      "source": [
        "По оттоку получилось 0 - клиент остался, 1 - клиент ушел."
      ]
    },
    {
      "cell_type": "markdown",
      "id": "60b5abc3",
      "metadata": {
        "id": "60b5abc3"
      },
      "source": [
        "По какой-то причине в столбце общая сумма значения строчные. Преобразуем их в числа."
      ]
    },
    {
      "cell_type": "code",
      "execution_count": null,
      "id": "99f6a562",
      "metadata": {
        "id": "99f6a562"
      },
      "outputs": [],
      "source": [
        "df['TotalCharges'] = pd.to_numeric(df['TotalCharges'], errors = 'coerce')"
      ]
    },
    {
      "cell_type": "code",
      "execution_count": null,
      "id": "8eb189b0",
      "metadata": {
        "id": "8eb189b0",
        "outputId": "9fcc4760-9e67-4a9d-842c-58b9487107a6"
      },
      "outputs": [
        {
          "data": {
            "text/plain": [
              "0.001561834445548772"
            ]
          },
          "execution_count": 7,
          "metadata": {},
          "output_type": "execute_result"
        }
      ],
      "source": [
        "#проверим долю Nan в TotalCharges\n",
        "df['TotalCharges'].isna().mean()"
      ]
    },
    {
      "cell_type": "markdown",
      "id": "5e04f918",
      "metadata": {
        "id": "5e04f918"
      },
      "source": [
        "Т.к. доля  0,16% просто удалим эти строки."
      ]
    },
    {
      "cell_type": "code",
      "execution_count": null,
      "id": "0c613cb7",
      "metadata": {
        "id": "0c613cb7",
        "outputId": "924d4fee-6d26-47fe-e22e-4949783e0783"
      },
      "outputs": [
        {
          "data": {
            "text/plain": [
              "0.0"
            ]
          },
          "execution_count": 8,
          "metadata": {},
          "output_type": "execute_result"
        }
      ],
      "source": [
        "df.dropna(subset = ['TotalCharges'], inplace = True)\n",
        "df['TotalCharges'].isna().mean()"
      ]
    },
    {
      "cell_type": "markdown",
      "id": "cbe44340",
      "metadata": {
        "id": "cbe44340"
      },
      "source": [
        "## Исследовательский анализ данных"
      ]
    },
    {
      "cell_type": "markdown",
      "id": "2bc000b8",
      "metadata": {
        "id": "2bc000b8"
      },
      "source": [
        "### Средние значения признаков в зависимости от оттока"
      ]
    },
    {
      "cell_type": "code",
      "execution_count": null,
      "id": "b68d6f0a",
      "metadata": {
        "id": "b68d6f0a",
        "outputId": "5e212be6-0282-4b4c-ca8f-25d7cce9fe3e"
      },
      "outputs": [
        {
          "data": {
            "text/html": [
              "<div>\n",
              "<style scoped>\n",
              "    .dataframe tbody tr th:only-of-type {\n",
              "        vertical-align: middle;\n",
              "    }\n",
              "\n",
              "    .dataframe tbody tr th {\n",
              "        vertical-align: top;\n",
              "    }\n",
              "\n",
              "    .dataframe thead th {\n",
              "        text-align: right;\n",
              "    }\n",
              "</style>\n",
              "<table border=\"1\" class=\"dataframe\">\n",
              "  <thead>\n",
              "    <tr style=\"text-align: right;\">\n",
              "      <th></th>\n",
              "      <th>tenure</th>\n",
              "      <th>MonthlyCharges</th>\n",
              "      <th>TotalCharges</th>\n",
              "    </tr>\n",
              "    <tr>\n",
              "      <th>Churn</th>\n",
              "      <th></th>\n",
              "      <th></th>\n",
              "      <th></th>\n",
              "    </tr>\n",
              "  </thead>\n",
              "  <tbody>\n",
              "    <tr>\n",
              "      <th>0</th>\n",
              "      <td>37.650010</td>\n",
              "      <td>61.307408</td>\n",
              "      <td>2555.344141</td>\n",
              "    </tr>\n",
              "    <tr>\n",
              "      <th>1</th>\n",
              "      <td>17.979133</td>\n",
              "      <td>74.441332</td>\n",
              "      <td>1531.796094</td>\n",
              "    </tr>\n",
              "  </tbody>\n",
              "</table>\n",
              "</div>"
            ],
            "text/plain": [
              "          tenure  MonthlyCharges  TotalCharges\n",
              "Churn                                         \n",
              "0      37.650010       61.307408   2555.344141\n",
              "1      17.979133       74.441332   1531.796094"
            ]
          },
          "execution_count": 9,
          "metadata": {},
          "output_type": "execute_result"
        }
      ],
      "source": [
        "#найдем средние значения числовых признаков для тех кто ушел и остался.\n",
        "mean = df.groupby('Churn')['tenure', 'MonthlyCharges','TotalCharges'].mean()\n",
        "mean"
      ]
    },
    {
      "cell_type": "markdown",
      "id": "b4c4e7dc",
      "metadata": {
        "id": "b4c4e7dc"
      },
      "source": [
        "Сравнение средних показывает: <div>1. Клиенты которые дольше присутствовали склонны оставаться. <div>2. Клиенты с большими общими платежами склонны оставаться."
      ]
    },
    {
      "cell_type": "markdown",
      "id": "1cdacf7b",
      "metadata": {
        "id": "1cdacf7b"
      },
      "source": [
        "### Распределения признаков в зависимости от оттока"
      ]
    },
    {
      "cell_type": "code",
      "execution_count": null,
      "id": "037d95ed",
      "metadata": {
        "id": "037d95ed",
        "outputId": "17565b78-dd87-42d1-e11f-d47453d6b888"
      },
      "outputs": [
        {
          "data": {
            "text/plain": [
              "Index(['gender', 'SeniorCitizen', 'Partner', 'Dependents', 'tenure',\n",
              "       'PhoneService', 'MultipleLines', 'InternetService', 'OnlineSecurity',\n",
              "       'OnlineBackup', 'DeviceProtection', 'TechSupport', 'StreamingTV',\n",
              "       'StreamingMovies', 'Contract', 'PaperlessBilling', 'PaymentMethod',\n",
              "       'MonthlyCharges', 'TotalCharges'],\n",
              "      dtype='object')"
            ]
          },
          "execution_count": 10,
          "metadata": {},
          "output_type": "execute_result"
        }
      ],
      "source": [
        "#построим распределения признаков в зависимости от оттока.\n",
        "# Выделим столбец с условной переменной\n",
        "y_column = \"Churn\"\n",
        "\n",
        "# Выделим столбцы с признаками\n",
        "X_columns = df.columns[df.columns != y_column]\n",
        "\n",
        "X_columns"
      ]
    },
    {
      "cell_type": "code",
      "execution_count": null,
      "id": "2ca2ac96",
      "metadata": {
        "id": "2ca2ac96",
        "outputId": "8d447f99-0d31-4d18-8df8-ded28e7a2df7"
      },
      "outputs": [
        {
          "data": {
            "image/png": "[encoded data removed]",
            "text/plain": [
              "<Figure size 1080x2160 with 19 Axes>"
            ]
          },
          "metadata": {
            "needs_background": "light"
          },
          "output_type": "display_data"
        }
      ],
      "source": [
        "import numpy as np\n",
        "\n",
        "# Определим размер\n",
        "plt.figure(figsize=(15, 30))\n",
        "\n",
        "# Строим распределения\n",
        "for i_col in range(len(X_columns)):\n",
        "\n",
        "    # Создадим матрицу графиков\n",
        "    plt.subplot(7, 3, i_col+1)\n",
        "\n",
        "    # Получим значения столбцов\n",
        "    x_col = df[X_columns[i_col]].values\n",
        "    y_col = df[y_column].values\n",
        "\n",
        "    # Визуализируем распределения\n",
        "    bins = np.linspace(0, x_col.max(), 21)\n",
        "    plt.grid(alpha = 0.3)\n",
        "    plt.hist(x_col[y_col == 0], bins=bins, color='r', alpha=0.5, label='0')\n",
        "    plt.hist(x_col[y_col == 1], bins=bins, color='b', alpha=0.5, label='1')\n",
        "\n",
        "    # Определим названия осей и легенду\n",
        "    plt.xlabel(X_columns[i_col])\n",
        "    plt.ylabel('Counts')\n",
        "    plt.legend(loc='best')\n",
        "\n",
        "plt.show()"
      ]
    },
    {
      "cell_type": "markdown",
      "id": "a4fb2a37",
      "metadata": {
        "id": "a4fb2a37"
      },
      "source": [
        "На всех графиках фиолетовый столбец это ушедшие клиенты, а красный - оставшиеся. Можно сделать следующие предварительные выводы:\n",
        "<div>1. Клиенты которые дольше присутствовали склонны оставаться.\n",
        "<div>2. Клиенты с большими общими платежами склонны оставаться.\n",
        "<div>3. Склонность к оттоку зависит от следующих признаков: SeniorCitizen, Partner, Dependents, InternetService, OnlineSecurity,\n",
        "       OnlineBackup, DeviceProtection, TechSupport, StreamingTV,\n",
        "       StreamingMovies, Contract, PaperlessBilling, PaymentMethod.\n",
        "    "
      ]
    },
    {
      "cell_type": "code",
      "execution_count": null,
      "id": "28ff5d7d",
      "metadata": {
        "id": "28ff5d7d",
        "outputId": "e4c6511f-bd20-460c-bd11-df76f3c0cf6f"
      },
      "outputs": [
        {
          "data": {
            "image/png": "[encoded data removed]",
            "text/plain": [
              "<Figure size 432x288 with 2 Axes>"
            ]
          },
          "metadata": {
            "needs_background": "light"
          },
          "output_type": "display_data"
        }
      ],
      "source": [
        "#Построим матрицу корреляций и тепловую карту\n",
        "cm = df.corr() #вычисляем матрицу корреляций\n",
        "\n",
        "#нарисуем тепловую карту с подписями для матрицы корреляций\n",
        "sns.heatmap(cm, annot=True, square=True)\n",
        "sns.set(font_scale=2,rc = {'figure.figsize':(40,40)})\n",
        "\n",
        "plt.show()"
      ]
    },
    {
      "cell_type": "markdown",
      "id": "d60e3444",
      "metadata": {
        "id": "d60e3444"
      },
      "source": [
        "Заметна корреляция между временем присутствия клиента и общими платжами. Но эта корреляция очевидна.  "
      ]
    },
    {
      "cell_type": "markdown",
      "id": "c857d797",
      "metadata": {
        "id": "c857d797"
      },
      "source": [
        "## Построим модели прогнозирования оттока клиентов\n"
      ]
    },
    {
      "cell_type": "markdown",
      "id": "74c981da",
      "metadata": {
        "id": "74c981da"
      },
      "source": [
        "### Построим модели градиентного бустинга на отложенной выборке"
      ]
    },
    {
      "cell_type": "code",
      "execution_count": null,
      "id": "fb43f152",
      "metadata": {
        "id": "fb43f152"
      },
      "outputs": [],
      "source": [
        "from sklearn.ensemble import RandomForestClassifier, GradientBoostingClassifier\n",
        "from sklearn.model_selection import train_test_split\n",
        "from xgboost import XGBClassifier\n",
        "from lightgbm import LGBMClassifier\n",
        "from catboost import CatBoostClassifier, Pool\n",
        "from sklearn.metrics import roc_auc_score\n"
      ]
    },
    {
      "cell_type": "code",
      "execution_count": null,
      "id": "e52e1851",
      "metadata": {
        "id": "e52e1851"
      },
      "outputs": [],
      "source": [
        "# разделим наши данные на признаки (матрица X) и целевую переменную (y)\n",
        "X = df.drop('Churn', axis = 1)\n",
        "y = df['Churn']\n",
        "\n",
        "# разделяем модель на обучающую и валидационную выборку\n",
        "X_train, X_test, y_train, y_test = train_test_split(X, y, test_size=0.2, random_state=0)"
      ]
    },
    {
      "cell_type": "code",
      "execution_count": null,
      "id": "d6abf773",
      "metadata": {
        "id": "d6abf773",
        "outputId": "8fbb6d48-4be9-44c2-9202-0c9e56f585f1"
      },
      "outputs": [
        {
          "name": "stdout",
          "output_type": "stream",
          "text": [
            "GradientBoostingClassifier()\n",
            "Метрика roc_auc: 0.71\n",
            "XGBClassifier(base_score=None, booster=None, colsample_bylevel=None,\n",
            "              colsample_bynode=None, colsample_bytree=None,\n",
            "              enable_categorical=False, gamma=None, gpu_id=None,\n",
            "              importance_type=None, interaction_constraints=None,\n",
            "              learning_rate=None, max_delta_step=None, max_depth=None,\n",
            "              min_child_weight=None, missing=nan, monotone_constraints=None,\n",
            "              n_estimators=100, n_jobs=None, num_parallel_tree=None,\n",
            "              predictor=None, random_state=None, reg_alpha=None,\n",
            "              reg_lambda=None, scale_pos_weight=None, subsample=None,\n",
            "              tree_method=None, validate_parameters=None, verbosity=None)\n",
            "[12:02:19] WARNING: C:\\Windows\\Temp\\abs_557yfx631l\\croots\\recipe\\xgboost-split_1659548953302\\work\\src\\learner.cc:1115: Starting in XGBoost 1.3.0, the default evaluation metric used with the objective 'binary:logistic' was changed from 'error' to 'logloss'. Explicitly set eval_metric if you'd like to restore the old behavior.\n",
            "Метрика roc_auc: 0.69\n",
            "LGBMClassifier()\n",
            "Метрика roc_auc: 0.70\n",
            "<catboost.core.CatBoostClassifier object at 0x000002161A9FB220>\n",
            "Метрика roc_auc: 0.71\n"
          ]
        }
      ],
      "source": [
        "# зададим список моделей\n",
        "models = [\n",
        "    GradientBoostingClassifier(),\n",
        "    XGBClassifier(),\n",
        "    LGBMClassifier(),\n",
        "    CatBoostClassifier(iterations=200, logging_level='Silent')\n",
        "]\n",
        "\n",
        "# функция, которая принимает на вход модель и данные и выводит метрики\n",
        "def make_prediction(m, X_train, y_train, X_test, y_test):\n",
        "    model = m\n",
        "    model.fit(X_train, y_train)\n",
        "    predictions = model.predict(X_test)\n",
        "    print(\n",
        "        'Метрика roc_auc: {:.2f}'.format(roc_auc_score(y_test, predictions))\n",
        "    )\n",
        "# напишем цикл, который выводит метрики по списку моделей\n",
        "for i in models:\n",
        "    print(i)\n",
        "    make_prediction(i, X_train, y_train, X_test, y_test)"
      ]
    },
    {
      "cell_type": "markdown",
      "id": "9959abb6",
      "metadata": {
        "id": "9959abb6"
      },
      "source": [
        "для всех моделей метрика Roc auc похожа. В лидерах пока  GradientBoosting и CatBoost."
      ]
    },
    {
      "cell_type": "markdown",
      "id": "c1ae685e",
      "metadata": {
        "id": "c1ae685e"
      },
      "source": [
        "### Построим модели с подстроенными параметрами (итерация 1)"
      ]
    },
    {
      "cell_type": "markdown",
      "id": "79c23bab",
      "metadata": {
        "id": "79c23bab"
      },
      "source": [
        "1. Настройку max_depth мы везде поставим = 1 и трогать не будем, т.к. в ходе обучения было выяснено, что на \"пеньках\" лучше."
      ]
    },
    {
      "cell_type": "markdown",
      "id": "6feb1b0b",
      "metadata": {
        "id": "6feb1b0b"
      },
      "source": [
        "2. Зададим для всех моделей одинаковые параметры: число итераций - 200, max_features - 10, subsample - 0,7, learning_rate = 0,2"
      ]
    },
    {
      "cell_type": "code",
      "execution_count": null,
      "id": "00219965",
      "metadata": {
        "id": "00219965",
        "outputId": "1921f9c6-72c5-47d8-fe66-9e504b2eba2a"
      },
      "outputs": [
        {
          "name": "stdout",
          "output_type": "stream",
          "text": [
            "GradientBoostingClassifier(learning_rate=0.2, max_depth=1, max_features=10,\n",
            "                           n_estimators=200, random_state=2, subsample=0.7)\n",
            "Метрика roc_auc: 0.73\n",
            "XGBClassifier(base_score=None, booster=None, colsample_bylevel=None,\n",
            "              colsample_bynode=None, colsample_bytree=None,\n",
            "              enable_categorical=False, gamma=None, gpu_id=None,\n",
            "              importance_type=None, interaction_constraints=None,\n",
            "              learning_rate=0.2, max_delta_step=None, max_depth=1,\n",
            "              min_child_weight=None, missing=nan, monotone_constraints=None,\n",
            "              n_estimators=200, n_jobs=None, num_parallel_tree=None,\n",
            "              predictor=None, random_state=2, reg_alpha=None, reg_lambda=None,\n",
            "              scale_pos_weight=None, subsample=0.7, tree_method=None,\n",
            "              validate_parameters=None, verbosity=None)\n",
            "[12:02:24] WARNING: C:\\Windows\\Temp\\abs_557yfx631l\\croots\\recipe\\xgboost-split_1659548953302\\work\\src\\learner.cc:1115: Starting in XGBoost 1.3.0, the default evaluation metric used with the objective 'binary:logistic' was changed from 'error' to 'logloss'. Explicitly set eval_metric if you'd like to restore the old behavior.\n",
            "Метрика roc_auc: 0.73\n",
            "LGBMClassifier(learning_rate=0.2, max_depth=1, max_features=10,\n",
            "               n_estimators=200, random_state=2, subsample=0.7)\n",
            "[LightGBM] [Warning] Unknown parameter: max_features\n",
            "Метрика roc_auc: 0.72\n",
            "<catboost.core.CatBoostClassifier object at 0x0000021619A52F40>\n",
            "Метрика roc_auc: 0.72\n"
          ]
        }
      ],
      "source": [
        "# зададим список моделей с итерацией 1\n",
        "models_1 = [\n",
        "    GradientBoostingClassifier(max_depth=1, n_estimators=200,\n",
        "                               max_features = 10, learning_rate=0.2,\n",
        "                               subsample=0.7, random_state=2),\n",
        "    XGBClassifier(max_depth=1, n_estimators=200, learning_rate=0.2,\n",
        "                  subsample=0.7, random_state=2),\n",
        "    LGBMClassifier(max_depth=1, n_estimators=200, max_features = 10,\n",
        "                   learning_rate=0.2, subsample=0.7, random_state=2),\n",
        "    CatBoostClassifier(max_depth=1, iterations=200, learning_rate=0.2,\n",
        "                       random_state=2, subsample=0.7, logging_level='Silent')\n",
        "]\n",
        "\n",
        "# напишем цикл, который выводит метрику по списку моделей\n",
        "for i in models_1:\n",
        "    print(i)\n",
        "    make_prediction(i, X_train, y_train, X_test, y_test)\n"
      ]
    },
    {
      "cell_type": "markdown",
      "id": "4b01767d",
      "metadata": {
        "id": "4b01767d"
      },
      "source": [
        "Получили очень близкие значения метрики по всем моделям. Немного лидируют GradientBoosting и XGBC."
      ]
    },
    {
      "cell_type": "markdown",
      "id": "3aa4d053",
      "metadata": {
        "id": "3aa4d053"
      },
      "source": [
        "### Подстройка максимального количества признаков у GB и LGBM (итерация 2)"
      ]
    },
    {
      "cell_type": "markdown",
      "id": "f3638f64",
      "metadata": {
        "id": "f3638f64"
      },
      "source": [
        "Зададим для всех моделей одинаковые параметры: число итераций - 200, max_features - 10 и 15, subsample - 0,7, learning_rate = 0,2"
      ]
    },
    {
      "cell_type": "code",
      "execution_count": null,
      "id": "7cb9965b",
      "metadata": {
        "id": "7cb9965b",
        "outputId": "a3ad45dc-2933-405f-a042-e351a6ac912c"
      },
      "outputs": [
        {
          "name": "stdout",
          "output_type": "stream",
          "text": [
            "GradientBoostingClassifier(learning_rate=0.2, max_depth=1, max_features=10,\n",
            "                           n_estimators=200, random_state=2, subsample=0.7)\n",
            "Метрика roc_auc: 0.73\n",
            "XGBClassifier(base_score=None, booster=None, colsample_bylevel=None,\n",
            "              colsample_bynode=None, colsample_bytree=None,\n",
            "              enable_categorical=False, gamma=None, gpu_id=None,\n",
            "              importance_type=None, interaction_constraints=None,\n",
            "              learning_rate=0.2, max_delta_step=None, max_depth=1,\n",
            "              min_child_weight=None, missing=nan, monotone_constraints=None,\n",
            "              n_estimators=200, n_jobs=None, num_parallel_tree=None,\n",
            "              predictor=None, random_state=2, reg_alpha=None, reg_lambda=None,\n",
            "              scale_pos_weight=None, subsample=0.7, tree_method=None,\n",
            "              validate_parameters=None, verbosity=None)\n",
            "[12:02:27] WARNING: C:\\Windows\\Temp\\abs_557yfx631l\\croots\\recipe\\xgboost-split_1659548953302\\work\\src\\learner.cc:1115: Starting in XGBoost 1.3.0, the default evaluation metric used with the objective 'binary:logistic' was changed from 'error' to 'logloss'. Explicitly set eval_metric if you'd like to restore the old behavior.\n",
            "Метрика roc_auc: 0.73\n",
            "LGBMClassifier(learning_rate=0.2, max_depth=1, max_features=10,\n",
            "               n_estimators=200, random_state=2, subsample=0.7)\n",
            "[LightGBM] [Warning] Unknown parameter: max_features\n",
            "Метрика roc_auc: 0.72\n",
            "<catboost.core.CatBoostClassifier object at 0x000002161AB5E8E0>\n",
            "Метрика roc_auc: 0.72\n"
          ]
        }
      ],
      "source": [
        "# зададим список моделей с итерацией 2\n",
        "models_2 = [\n",
        "    GradientBoostingClassifier(max_depth=1, n_estimators=200,\n",
        "                               max_features = 10, learning_rate=0.2,\n",
        "                               subsample=0.7, random_state=2),\n",
        "    XGBClassifier(max_depth=1, n_estimators=200, learning_rate=0.2,\n",
        "                  subsample=0.7, random_state=2),\n",
        "    LGBMClassifier(max_depth=1, n_estimators=200, max_features = 10,\n",
        "                   learning_rate=0.2, subsample=0.7, random_state=2),\n",
        "    CatBoostClassifier(max_depth=1, iterations=200, learning_rate=0.2,\n",
        "                       random_state=2, subsample=0.7, logging_level='Silent')\n",
        "]\n",
        "\n",
        "# напишем цикл, который выводит метрику по списку моделей\n",
        "for i in models_2:\n",
        "    print(i)\n",
        "    make_prediction(i, X_train, y_train, X_test, y_test)\n"
      ]
    },
    {
      "cell_type": "markdown",
      "id": "cb5c3721",
      "metadata": {
        "id": "cb5c3721"
      },
      "source": [
        "Попробовал максимальное количество признаков менять на 10 и 15. Не влияет на результат. Решил удалить этот гиперпараметр."
      ]
    },
    {
      "cell_type": "markdown",
      "id": "3cb44747",
      "metadata": {
        "id": "3cb44747"
      },
      "source": [
        "### Подстройка количества деревьев/итераций (итерация 3)"
      ]
    },
    {
      "cell_type": "markdown",
      "id": "de51f0f9",
      "metadata": {
        "id": "de51f0f9"
      },
      "source": [
        "Зададим для всех моделей одинаковые параметры: число итераций - 300, subsample - 0,7, learning_rate = 0,2"
      ]
    },
    {
      "cell_type": "code",
      "execution_count": null,
      "id": "b2f8e407",
      "metadata": {
        "id": "b2f8e407",
        "outputId": "eb7ca6a2-be69-4867-bf12-4c5ecfdf8348"
      },
      "outputs": [
        {
          "name": "stdout",
          "output_type": "stream",
          "text": [
            "GradientBoostingClassifier(learning_rate=0.2, max_depth=1, n_estimators=300,\n",
            "                           random_state=2, subsample=0.7)\n",
            "Метрика roc_auc: 0.73\n",
            "XGBClassifier(base_score=None, booster=None, colsample_bylevel=None,\n",
            "              colsample_bynode=None, colsample_bytree=None,\n",
            "              enable_categorical=False, gamma=None, gpu_id=None,\n",
            "              importance_type=None, interaction_constraints=None,\n",
            "              learning_rate=0.2, max_delta_step=None, max_depth=1,\n",
            "              min_child_weight=None, missing=nan, monotone_constraints=None,\n",
            "              n_estimators=300, n_jobs=None, num_parallel_tree=None,\n",
            "              predictor=None, random_state=2, reg_alpha=None, reg_lambda=None,\n",
            "              scale_pos_weight=None, subsample=0.7, tree_method=None,\n",
            "              validate_parameters=None, verbosity=None)\n",
            "[12:02:31] WARNING: C:\\Windows\\Temp\\abs_557yfx631l\\croots\\recipe\\xgboost-split_1659548953302\\work\\src\\learner.cc:1115: Starting in XGBoost 1.3.0, the default evaluation metric used with the objective 'binary:logistic' was changed from 'error' to 'logloss'. Explicitly set eval_metric if you'd like to restore the old behavior.\n",
            "Метрика roc_auc: 0.72\n",
            "LGBMClassifier(learning_rate=0.2, max_depth=1, n_estimators=300, random_state=2,\n",
            "               subsample=0.7)\n",
            "Метрика roc_auc: 0.72\n",
            "<catboost.core.CatBoostClassifier object at 0x000002161AB47910>\n",
            "Метрика roc_auc: 0.72\n"
          ]
        }
      ],
      "source": [
        "# зададим список моделей с итерацией 3\n",
        "models_3 = [\n",
        "    GradientBoostingClassifier(max_depth=1, n_estimators=300,\n",
        "                               learning_rate=0.2,\n",
        "                               subsample=0.7, random_state=2),\n",
        "    XGBClassifier(max_depth=1, n_estimators=300, learning_rate=0.2,\n",
        "                  subsample=0.7, random_state=2),\n",
        "    LGBMClassifier(max_depth=1, n_estimators=300, learning_rate=0.2,\n",
        "                   subsample=0.7, random_state=2),\n",
        "    CatBoostClassifier(max_depth=1, iterations=300, learning_rate=0.2,\n",
        "                       random_state=2, subsample=0.7, logging_level='Silent')\n",
        "]\n",
        "\n",
        "# напишем цикл, который выводит метрику по списку моделей\n",
        "for i in models_3:\n",
        "    print(i)\n",
        "    make_prediction(i, X_train, y_train, X_test, y_test)"
      ]
    },
    {
      "cell_type": "markdown",
      "id": "92a1c166",
      "metadata": {
        "id": "92a1c166"
      },
      "source": [
        "XGBClassifier стал показывать хуже, по остальным не изменилось. Решил вернуть на 200 все."
      ]
    },
    {
      "cell_type": "markdown",
      "id": "55af7570",
      "metadata": {
        "id": "55af7570"
      },
      "source": [
        "### Подстройка learning rate (итерация 4)"
      ]
    },
    {
      "cell_type": "markdown",
      "id": "153fe832",
      "metadata": {
        "id": "153fe832"
      },
      "source": [
        "Зададим для всех моделей одинаковые параметры: число итераций - 200, subsample - 0,7, learning_rate = 0,4"
      ]
    },
    {
      "cell_type": "code",
      "execution_count": null,
      "id": "40d63c65",
      "metadata": {
        "id": "40d63c65",
        "outputId": "03864578-8184-4fe4-aa4e-66818d82fa04"
      },
      "outputs": [
        {
          "name": "stdout",
          "output_type": "stream",
          "text": [
            "GradientBoostingClassifier(learning_rate=0.4, max_depth=1, n_estimators=200,\n",
            "                           random_state=2, subsample=0.7)\n",
            "Метрика roc_auc: 0.73\n",
            "XGBClassifier(base_score=None, booster=None, colsample_bylevel=None,\n",
            "              colsample_bynode=None, colsample_bytree=None,\n",
            "              enable_categorical=False, gamma=None, gpu_id=None,\n",
            "              importance_type=None, interaction_constraints=None,\n",
            "              learning_rate=0.4, max_delta_step=None, max_depth=1,\n",
            "              min_child_weight=None, missing=nan, monotone_constraints=None,\n",
            "              n_estimators=200, n_jobs=None, num_parallel_tree=None,\n",
            "              predictor=None, random_state=2, reg_alpha=None, reg_lambda=None,\n",
            "              scale_pos_weight=None, subsample=0.7, tree_method=None,\n",
            "              validate_parameters=None, verbosity=None)\n",
            "[12:02:35] WARNING: C:\\Windows\\Temp\\abs_557yfx631l\\croots\\recipe\\xgboost-split_1659548953302\\work\\src\\learner.cc:1115: Starting in XGBoost 1.3.0, the default evaluation metric used with the objective 'binary:logistic' was changed from 'error' to 'logloss'. Explicitly set eval_metric if you'd like to restore the old behavior.\n",
            "Метрика roc_auc: 0.72\n",
            "LGBMClassifier(learning_rate=0.4, max_depth=1, n_estimators=200, random_state=2,\n",
            "               subsample=0.7)\n",
            "Метрика roc_auc: 0.73\n",
            "<catboost.core.CatBoostClassifier object at 0x000002161AB995B0>\n",
            "Метрика roc_auc: 0.72\n"
          ]
        }
      ],
      "source": [
        "# зададим список моделей с итерацией 4\n",
        "models_4 = [\n",
        "    GradientBoostingClassifier(max_depth=1, n_estimators=200,\n",
        "                               learning_rate=0.4,\n",
        "                               subsample=0.7, random_state=2),\n",
        "    XGBClassifier(max_depth=1, n_estimators=200, learning_rate=0.4,\n",
        "                  subsample=0.7, random_state=2),\n",
        "    LGBMClassifier(max_depth=1, n_estimators=200, learning_rate=0.4,\n",
        "                   subsample=0.7, random_state=2),\n",
        "    CatBoostClassifier(max_depth=1, iterations=200, learning_rate=0.4,\n",
        "                       random_state=2, subsample=0.7, logging_level='Silent')\n",
        "]\n",
        "\n",
        "# напишем цикл, который выводит метрику по списку моделей\n",
        "for i in models_4:\n",
        "    print(i)\n",
        "    make_prediction(i, X_train, y_train, X_test, y_test)"
      ]
    },
    {
      "cell_type": "markdown",
      "id": "a85dda2c",
      "metadata": {
        "id": "a85dda2c"
      },
      "source": [
        "XGBClassifier стала хуже, а LGBMClassifier лучше, остальные без изменений. XGBClassifier тогда lr ставим 0,2 по остальным оставляем 0,4 и меняем у всех subsample."
      ]
    },
    {
      "cell_type": "markdown",
      "id": "36ad40e7",
      "metadata": {
        "id": "36ad40e7"
      },
      "source": [
        "### Подстройка subsample (итерация 5)"
      ]
    },
    {
      "cell_type": "markdown",
      "id": "e3836231",
      "metadata": {
        "id": "e3836231"
      },
      "source": [
        "Зададим для всех моделей одинаковые параметры: число итераций - 200, subsample - 0,5, learning_rate = 0,4 (0.2 XGBClassifier)"
      ]
    },
    {
      "cell_type": "code",
      "execution_count": null,
      "id": "bfb18e22",
      "metadata": {
        "id": "bfb18e22",
        "outputId": "e70919de-e3c0-4c5e-8a1f-84271fd9e726"
      },
      "outputs": [
        {
          "name": "stdout",
          "output_type": "stream",
          "text": [
            "GradientBoostingClassifier(learning_rate=0.4, max_depth=1, n_estimators=200,\n",
            "                           random_state=2, subsample=0.5)\n",
            "Метрика roc_auc: 0.72\n",
            "XGBClassifier(base_score=None, booster=None, colsample_bylevel=None,\n",
            "              colsample_bynode=None, colsample_bytree=None,\n",
            "              enable_categorical=False, gamma=None, gpu_id=None,\n",
            "              importance_type=None, interaction_constraints=None,\n",
            "              learning_rate=0.2, max_delta_step=None, max_depth=1,\n",
            "              min_child_weight=None, missing=nan, monotone_constraints=None,\n",
            "              n_estimators=200, n_jobs=None, num_parallel_tree=None,\n",
            "              predictor=None, random_state=2, reg_alpha=None, reg_lambda=None,\n",
            "              scale_pos_weight=None, subsample=0.5, tree_method=None,\n",
            "              validate_parameters=None, verbosity=None)\n",
            "[12:02:38] WARNING: C:\\Windows\\Temp\\abs_557yfx631l\\croots\\recipe\\xgboost-split_1659548953302\\work\\src\\learner.cc:1115: Starting in XGBoost 1.3.0, the default evaluation metric used with the objective 'binary:logistic' was changed from 'error' to 'logloss'. Explicitly set eval_metric if you'd like to restore the old behavior.\n",
            "Метрика roc_auc: 0.72\n",
            "LGBMClassifier(learning_rate=0.4, max_depth=1, n_estimators=200, random_state=2,\n",
            "               subsample=0.5)\n",
            "Метрика roc_auc: 0.73\n",
            "<catboost.core.CatBoostClassifier object at 0x000002161ABB4520>\n",
            "Метрика roc_auc: 0.73\n"
          ]
        }
      ],
      "source": [
        "# зададим список моделей с итерацией 5\n",
        "models_5 = [\n",
        "    GradientBoostingClassifier(max_depth=1, n_estimators=200,\n",
        "                               learning_rate=0.4,\n",
        "                               subsample=0.5, random_state=2),\n",
        "    XGBClassifier(max_depth=1, n_estimators=200, learning_rate=0.2,\n",
        "                  subsample=0.5, random_state=2),\n",
        "    LGBMClassifier(max_depth=1, n_estimators=200, learning_rate=0.4,\n",
        "                   subsample=0.5, random_state=2),\n",
        "    CatBoostClassifier(max_depth=1, iterations=200, learning_rate=0.4,\n",
        "                       random_state=2, subsample=0.5, logging_level='Silent')\n",
        "]\n",
        "\n",
        "# напишем цикл, который выводит метрику по списку моделей\n",
        "for i in models_5:\n",
        "    print(i)\n",
        "    make_prediction(i, X_train, y_train, X_test, y_test)"
      ]
    },
    {
      "cell_type": "markdown",
      "id": "ad1e4024",
      "metadata": {
        "id": "ad1e4024"
      },
      "source": [
        "С помощью subsample catboost улучшили остальные либо хуже либо никак. Оставляем такое значение subsample для catboost для остальных возвращаем как было."
      ]
    },
    {
      "cell_type": "code",
      "execution_count": null,
      "id": "bfb6e370",
      "metadata": {
        "id": "bfb6e370",
        "outputId": "9534f0bc-9f86-4273-9b93-8c378dd6593f"
      },
      "outputs": [
        {
          "name": "stdout",
          "output_type": "stream",
          "text": [
            "GradientBoostingClassifier(learning_rate=0.4, max_depth=1, n_estimators=200,\n",
            "                           random_state=2, subsample=0.7)\n",
            "Метрика roc_auc: 0.73\n",
            "XGBClassifier(base_score=None, booster=None, colsample_bylevel=None,\n",
            "              colsample_bynode=None, colsample_bytree=None,\n",
            "              enable_categorical=False, gamma=None, gpu_id=None,\n",
            "              importance_type=None, interaction_constraints=None,\n",
            "              learning_rate=0.2, max_delta_step=None, max_depth=1,\n",
            "              min_child_weight=None, missing=nan, monotone_constraints=None,\n",
            "              n_estimators=200, n_jobs=None, num_parallel_tree=None,\n",
            "              predictor=None, random_state=2, reg_alpha=None, reg_lambda=None,\n",
            "              scale_pos_weight=None, subsample=0.7, tree_method=None,\n",
            "              validate_parameters=None, verbosity=None)\n",
            "[12:02:42] WARNING: C:\\Windows\\Temp\\abs_557yfx631l\\croots\\recipe\\xgboost-split_1659548953302\\work\\src\\learner.cc:1115: Starting in XGBoost 1.3.0, the default evaluation metric used with the objective 'binary:logistic' was changed from 'error' to 'logloss'. Explicitly set eval_metric if you'd like to restore the old behavior.\n",
            "Метрика roc_auc: 0.73\n",
            "LGBMClassifier(learning_rate=0.4, max_depth=1, n_estimators=200, random_state=2,\n",
            "               subsample=0.7)\n",
            "Метрика roc_auc: 0.73\n",
            "<catboost.core.CatBoostClassifier object at 0x000002161ABC7B80>\n",
            "Метрика roc_auc: 0.73\n"
          ]
        }
      ],
      "source": [
        "# зададим список моделей с итерацией 6\n",
        "models_6 = [\n",
        "    GradientBoostingClassifier(max_depth=1, n_estimators=200,\n",
        "                               learning_rate=0.4,\n",
        "                               subsample=0.7, random_state=2),\n",
        "    XGBClassifier(max_depth=1, n_estimators=200, learning_rate=0.2,\n",
        "                  subsample=0.7, random_state=2),\n",
        "    LGBMClassifier(max_depth=1, n_estimators=200, learning_rate=0.4,\n",
        "                   subsample=0.7, random_state=2),\n",
        "    CatBoostClassifier(max_depth=1, iterations=200, learning_rate=0.4,\n",
        "                       random_state=2, subsample=0.5, logging_level='Silent')\n",
        "]\n",
        "\n",
        "# напишем цикл, который выводит метрику по списку моделей\n",
        "for i in models_6:\n",
        "    print(i)\n",
        "    make_prediction(i, X_train, y_train, X_test, y_test)"
      ]
    },
    {
      "cell_type": "markdown",
      "id": "22856041",
      "metadata": {
        "id": "22856041"
      },
      "source": [
        "Получил на всех моделях метрику со значением 0,73."
      ]
    }
  ],
  "metadata": {
    "ExecuteTimeLog": [
      {
        "duration": 1958,
        "start_time": "2022-05-06T11:00:10.890Z"
      },
      {
        "duration": 19,
        "start_time": "2022-05-06T11:00:12.850Z"
      },
      {
        "duration": 3740,
        "start_time": "2022-05-06T11:00:12.871Z"
      },
      {
        "duration": 1356,
        "start_time": "2022-05-06T11:00:16.614Z"
      },
      {
        "duration": 15,
        "start_time": "2022-05-06T11:00:17.972Z"
      },
      {
        "duration": 30,
        "start_time": "2022-05-06T11:00:17.990Z"
      },
      {
        "duration": 33,
        "start_time": "2022-05-06T11:00:18.022Z"
      },
      {
        "duration": 385,
        "start_time": "2022-05-06T11:00:18.058Z"
      },
      {
        "duration": 133632,
        "start_time": "2022-05-06T11:00:18.445Z"
      },
      {
        "duration": 1477,
        "start_time": "2022-05-06T11:02:32.080Z"
      },
      {
        "duration": 4127,
        "start_time": "2022-05-06T11:02:33.559Z"
      },
      {
        "duration": 4773,
        "start_time": "2022-05-06T11:02:37.688Z"
      },
      {
        "duration": 12,
        "start_time": "2022-05-06T11:02:42.463Z"
      },
      {
        "duration": 44,
        "start_time": "2022-05-07T05:45:10.905Z"
      },
      {
        "duration": 1616,
        "start_time": "2022-05-07T05:45:20.540Z"
      },
      {
        "duration": 16,
        "start_time": "2022-05-07T05:45:22.158Z"
      },
      {
        "duration": 2992,
        "start_time": "2022-05-07T05:45:22.176Z"
      },
      {
        "duration": 1181,
        "start_time": "2022-05-07T05:45:25.171Z"
      },
      {
        "duration": 12,
        "start_time": "2022-05-07T05:45:26.354Z"
      },
      {
        "duration": 26,
        "start_time": "2022-05-07T05:45:26.368Z"
      },
      {
        "duration": 6,
        "start_time": "2022-05-07T05:45:26.396Z"
      },
      {
        "duration": 344,
        "start_time": "2022-05-07T05:45:26.404Z"
      },
      {
        "duration": 93910,
        "start_time": "2022-05-07T05:45:26.749Z"
      },
      {
        "duration": 1292,
        "start_time": "2022-05-07T05:47:00.662Z"
      },
      {
        "duration": 3855,
        "start_time": "2022-05-07T05:47:01.956Z"
      },
      {
        "duration": 4183,
        "start_time": "2022-05-07T05:47:05.813Z"
      },
      {
        "duration": 11,
        "start_time": "2022-05-07T05:47:09.998Z"
      },
      {
        "duration": 1148,
        "start_time": "2022-05-07T05:47:10.011Z"
      },
      {
        "duration": 25,
        "start_time": "2022-05-07T05:47:15.824Z"
      }
    ],
    "kernelspec": {
      "display_name": "Python 3",
      "language": "python",
      "name": "python3"
    },
    "language_info": {
      "codemirror_mode": {
        "name": "ipython",
        "version": 3
      },
      "file_extension": ".py",
      "mimetype": "text/x-python",
      "name": "python",
      "nbconvert_exporter": "python",
      "pygments_lexer": "ipython3",
      "version": "3.8.8"
    },
    "toc": {
      "base_numbering": 1,
      "nav_menu": {},
      "number_sections": true,
      "sideBar": true,
      "skip_h1_title": true,
      "title_cell": "Table of Contents",
      "title_sidebar": "Contents",
      "toc_cell": false,
      "toc_position": {
        "height": "550.4px",
        "left": "48px",
        "top": "111.125px",
        "width": "165px"
      },
      "toc_section_display": true,
      "toc_window_display": true
    },
    "colab": {
      "provenance": []
    }
  },
  "nbformat": 4,
  "nbformat_minor": 5
}